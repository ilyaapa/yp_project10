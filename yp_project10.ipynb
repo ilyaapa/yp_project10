{
 "cells": [
  {
   "cell_type": "markdown",
   "metadata": {},
   "source": [
    "# Сборный проект 2\n",
    "\n",
    "# Аналитический кейс на примере мобильного приложения по продаже продуктов питания\n",
    "\n",
    "**Описание проекта**\n",
    "\n",
    "Стартапу, который продаёт продукты питания, нужно разобраться, как ведут себя пользователи мобильного приложения. \n",
    "Необходимо изучить воронку продаж. Узнать, как пользователи доходят до покупки. Сколько пользователей доходит до покупки, а сколько — «застревает» на предыдущих шагах? На каких именно?\n",
    "\n",
    "После этого необходимо исследовать результаты A/A/B-эксперимента. Дизайнеры захотели поменять шрифты во всём приложении, а менеджеры испугались, что пользователям будет непривычно. Договорились принять решение по результатам A/A/B-теста. Пользователей разбили на 3 группы: 2 контрольные со старыми шрифтами и одну экспериментальную — с новыми. Нужно выяснить, какой шрифт лучше.\n",
    "Создание двух групп A вместо одной имеет определённые преимущества. Если две контрольные группы окажутся равны, можно быть уверенным в точности проведенного тестирования. Если же между значениями A и A будут существенные различия, это поможет обнаружить факторы, которые привели к искажению результатов. Сравнение контрольных групп также помогает понять, сколько времени и данных потребуется для дальнейших тестов.\n",
    "\n",
    "В случае общей аналитики и A/A/B-эксперимента нужно работать с одними и теми же данными. В реальных проектах всегда идут эксперименты. Аналитики исследуют качество работы приложения по общим данным, не учитывая принадлежность пользователей к экспериментам.\n",
    "\n",
    "**Описание данных**\n",
    "\n",
    "Датасет `logs_exp.csv` - лог сервера с информацией об использовании приложения. Каждая запись в логе — это действие пользователя, или событие.\n",
    "\n",
    "- EventName — название события;\n",
    "- DeviceIDHash — уникальный идентификатор пользователя;\n",
    "- EventTimestamp — время события;\n",
    "- ExpId — номер эксперимента: 246 и 247 — контрольные группы, а 248 — экспериментальная.\n",
    "\n",
    "**Последовательность выполнения проекта**\n",
    "\n",
    "**Шаг 1. Откройте файл с данными и изучите общую информацию**\n",
    "\n",
    "Путь к файлу: `/datasets/logs_exp.csv`.\n",
    "\n",
    "**Шаг 2. Подготовьте данные**\n",
    "\n",
    "- Замените названия столбцов на удобные для вас;\n",
    "- Проверьте пропуски и типы данных. Откорректируйте, если нужно;\n",
    "- Добавьте столбец даты и времени, а также отдельный столбец дат.\n",
    "\n",
    "**Шаг 3. Изучите и проверьте данные**\n",
    "\n",
    "- Сколько всего событий в логе?\n",
    "- Сколько всего пользователей в логе?\n",
    "- Сколько в среднем событий приходится на пользователя?\n",
    "- Данными за какой период вы располагаете? Найдите максимальную и минимальную дату. Изучите, как меняется количество данных: постройте столбчатую диаграмму, которая отобразит количество событий в зависимости от времени в разрезе групп. Можно ли быть уверенным, что у вас одинаково полные данные за весь период? Технически в логи новых дней по некоторым пользователям могут «доезжать» события из прошлого — это может «перекашивать данные». Определите, с какого момента данные полные и отбросьте более старые. Данными за какой период времени вы располагаете на самом деле?\n",
    "- Много ли событий и пользователей вы потеряли, отбросив старые данные?\n",
    "- Проверьте, что у вас есть пользователи из всех трёх экспериментальных групп.\n",
    "\n",
    "**Шаг 4. Изучите воронку событий**\n",
    "\n",
    "- Посмотрите, какие события есть в логах, как часто они встречаются. Отсортируйте события по частоте.\n",
    "- Посчитайте, сколько пользователей совершали каждое из этих событий. Отсортируйте события по числу пользователей. Посчитайте долю пользователей, которые хоть раз совершали событие.\n",
    "- Предположите, в каком порядке происходят события. Все ли они выстраиваются в последовательную цепочку? Их не нужно учитывать при расчёте воронки.\n",
    "- По воронке событий посчитайте, какая доля пользователей проходит на следующий шаг воронки (от числа пользователей на предыдущем). То есть для последовательности событий A → B → C посчитайте отношение числа пользователей с событием B к количеству пользователей с событием A, а также отношение числа пользователей с событием C к количеству пользователей с событием B.\n",
    "- На каком шаге теряете больше всего пользователей?\n",
    "- Какая доля пользователей доходит от первого события до оплаты?\n",
    "\n",
    "**Шаг 5. Изучите результаты эксперимента**\n",
    "\n",
    "- Сколько пользователей в каждой экспериментальной группе?\n",
    "- Есть 2 контрольные группы для А/А-эксперимента, чтобы проверить корректность всех механизмов и расчётов. Проверьте, находят ли статистические критерии разницу между выборками 246 и 247.\n",
    "- Выберите самое популярное событие. Посчитайте число пользователей, совершивших это событие в каждой из контрольных групп. Посчитайте долю пользователей, совершивших это событие. Проверьте, будет ли отличие между группами статистически достоверным. Проделайте то же самое для всех других событий (удобно обернуть проверку в отдельную функцию). Можно ли сказать, что разбиение на группы работает корректно?\n",
    "- Аналогично поступите с группой с изменённым шрифтом. Сравните результаты с каждой из контрольных групп в отдельности по каждому событию. Сравните результаты с объединённой контрольной группой. Какие выводы из эксперимента можно сделать?\n",
    "- Какой уровень значимости вы выбрали при проверке статистических гипотез выше? Посчитайте, сколько проверок статистических гипотез вы сделали. При уровне значимости 0.1 в 10% случаев можно ошибочно отклонить нулевую гипотезу при условии, что она верна. Какой уровень значимости стоит применить? Если вы хотите изменить его, проделайте предыдущие пункты и проверьте свои выводы.\n",
    "\n",
    "**Шаг 6. Напишите общие выводы**"
   ]
  },
  {
   "cell_type": "markdown",
   "metadata": {},
   "source": [
    "### Шаг 1. Откроем файл с данными и изучим общую информацию"
   ]
  },
  {
   "cell_type": "markdown",
   "metadata": {},
   "source": [
    "Считаем данные из csv-файла в датафрейм и сохраним в пременную `logs`. Путь к файлу: `/datasets/logs_exp.csv`"
   ]
  },
  {
   "cell_type": "code",
   "execution_count": 1,
   "metadata": {},
   "outputs": [],
   "source": [
    "import pandas as pd\n",
    "from datetime import datetime as dt\n",
    "import matplotlib.pyplot as plt\n",
    "import numpy as np\n",
    "from scipy import stats as st\n",
    "import math as mth"
   ]
  },
  {
   "cell_type": "code",
   "execution_count": 2,
   "metadata": {},
   "outputs": [],
   "source": [
    "try:\n",
    "    logs = pd.read_csv('/datasets/logs_exp.csv', sep = '\\t')\n",
    "except:\n",
    "    logs = pd.read_csv('https://code.s3.yandex.net/datasets/logs_exp.csv', sep = '\\t')"
   ]
  },
  {
   "cell_type": "markdown",
   "metadata": {},
   "source": [
    "Зададим функцию для вывода всей информации о таблице."
   ]
  },
  {
   "cell_type": "code",
   "execution_count": 3,
   "metadata": {},
   "outputs": [],
   "source": [
    "def df_info(df):\n",
    "    print('\\033[1m' + 'Первые 20 строк таблицы:' + '\\033[0m')\n",
    "    display(df.head(20))\n",
    "    print()\n",
    "    print('\\033[1m' + 'Общая информация о таблице:' + '\\033[0m')\n",
    "    print(df.info())\n",
    "    print()\n",
    "    print('\\033[1m' + 'Количество пропусков в таблице:' + '\\033[0m')\n",
    "    print(df.isna().sum())\n",
    "    print()\n",
    "    print('\\033[1m' + 'Количество дубликатов в таблице:' + '\\033[0m')\n",
    "    print(df.duplicated().sum())"
   ]
  },
  {
   "cell_type": "markdown",
   "metadata": {},
   "source": [
    "Выведем основную информацию о датафрейме `logs`."
   ]
  },
  {
   "cell_type": "code",
   "execution_count": 4,
   "metadata": {},
   "outputs": [
    {
     "name": "stdout",
     "output_type": "stream",
     "text": [
      "\u001b[1mПервые 20 строк таблицы:\u001b[0m\n"
     ]
    },
    {
     "data": {
      "text/html": [
       "<div>\n",
       "<style scoped>\n",
       "    .dataframe tbody tr th:only-of-type {\n",
       "        vertical-align: middle;\n",
       "    }\n",
       "\n",
       "    .dataframe tbody tr th {\n",
       "        vertical-align: top;\n",
       "    }\n",
       "\n",
       "    .dataframe thead th {\n",
       "        text-align: right;\n",
       "    }\n",
       "</style>\n",
       "<table border=\"1\" class=\"dataframe\">\n",
       "  <thead>\n",
       "    <tr style=\"text-align: right;\">\n",
       "      <th></th>\n",
       "      <th>EventName</th>\n",
       "      <th>DeviceIDHash</th>\n",
       "      <th>EventTimestamp</th>\n",
       "      <th>ExpId</th>\n",
       "    </tr>\n",
       "  </thead>\n",
       "  <tbody>\n",
       "    <tr>\n",
       "      <th>0</th>\n",
       "      <td>MainScreenAppear</td>\n",
       "      <td>4575588528974610257</td>\n",
       "      <td>1564029816</td>\n",
       "      <td>246</td>\n",
       "    </tr>\n",
       "    <tr>\n",
       "      <th>1</th>\n",
       "      <td>MainScreenAppear</td>\n",
       "      <td>7416695313311560658</td>\n",
       "      <td>1564053102</td>\n",
       "      <td>246</td>\n",
       "    </tr>\n",
       "    <tr>\n",
       "      <th>2</th>\n",
       "      <td>PaymentScreenSuccessful</td>\n",
       "      <td>3518123091307005509</td>\n",
       "      <td>1564054127</td>\n",
       "      <td>248</td>\n",
       "    </tr>\n",
       "    <tr>\n",
       "      <th>3</th>\n",
       "      <td>CartScreenAppear</td>\n",
       "      <td>3518123091307005509</td>\n",
       "      <td>1564054127</td>\n",
       "      <td>248</td>\n",
       "    </tr>\n",
       "    <tr>\n",
       "      <th>4</th>\n",
       "      <td>PaymentScreenSuccessful</td>\n",
       "      <td>6217807653094995999</td>\n",
       "      <td>1564055322</td>\n",
       "      <td>248</td>\n",
       "    </tr>\n",
       "    <tr>\n",
       "      <th>5</th>\n",
       "      <td>CartScreenAppear</td>\n",
       "      <td>6217807653094995999</td>\n",
       "      <td>1564055323</td>\n",
       "      <td>248</td>\n",
       "    </tr>\n",
       "    <tr>\n",
       "      <th>6</th>\n",
       "      <td>OffersScreenAppear</td>\n",
       "      <td>8351860793733343758</td>\n",
       "      <td>1564066242</td>\n",
       "      <td>246</td>\n",
       "    </tr>\n",
       "    <tr>\n",
       "      <th>7</th>\n",
       "      <td>MainScreenAppear</td>\n",
       "      <td>5682100281902512875</td>\n",
       "      <td>1564085677</td>\n",
       "      <td>246</td>\n",
       "    </tr>\n",
       "    <tr>\n",
       "      <th>8</th>\n",
       "      <td>MainScreenAppear</td>\n",
       "      <td>1850981295691852772</td>\n",
       "      <td>1564086702</td>\n",
       "      <td>247</td>\n",
       "    </tr>\n",
       "    <tr>\n",
       "      <th>9</th>\n",
       "      <td>MainScreenAppear</td>\n",
       "      <td>5407636962369102641</td>\n",
       "      <td>1564112112</td>\n",
       "      <td>246</td>\n",
       "    </tr>\n",
       "    <tr>\n",
       "      <th>10</th>\n",
       "      <td>MainScreenAppear</td>\n",
       "      <td>948465712512390382</td>\n",
       "      <td>1564119214</td>\n",
       "      <td>247</td>\n",
       "    </tr>\n",
       "    <tr>\n",
       "      <th>11</th>\n",
       "      <td>MainScreenAppear</td>\n",
       "      <td>2547684315586332355</td>\n",
       "      <td>1564123826</td>\n",
       "      <td>248</td>\n",
       "    </tr>\n",
       "    <tr>\n",
       "      <th>12</th>\n",
       "      <td>MainScreenAppear</td>\n",
       "      <td>8885295911290764495</td>\n",
       "      <td>1564124085</td>\n",
       "      <td>248</td>\n",
       "    </tr>\n",
       "    <tr>\n",
       "      <th>13</th>\n",
       "      <td>MainScreenAppear</td>\n",
       "      <td>2140904690380565988</td>\n",
       "      <td>1564125732</td>\n",
       "      <td>247</td>\n",
       "    </tr>\n",
       "    <tr>\n",
       "      <th>14</th>\n",
       "      <td>MainScreenAppear</td>\n",
       "      <td>4444236400320272864</td>\n",
       "      <td>1564135560</td>\n",
       "      <td>246</td>\n",
       "    </tr>\n",
       "    <tr>\n",
       "      <th>15</th>\n",
       "      <td>MainScreenAppear</td>\n",
       "      <td>8947220251154009657</td>\n",
       "      <td>1564140668</td>\n",
       "      <td>248</td>\n",
       "    </tr>\n",
       "    <tr>\n",
       "      <th>16</th>\n",
       "      <td>MainScreenAppear</td>\n",
       "      <td>5839517684026830712</td>\n",
       "      <td>1564141421</td>\n",
       "      <td>247</td>\n",
       "    </tr>\n",
       "    <tr>\n",
       "      <th>17</th>\n",
       "      <td>MainScreenAppear</td>\n",
       "      <td>7540130374989658208</td>\n",
       "      <td>1564144283</td>\n",
       "      <td>248</td>\n",
       "    </tr>\n",
       "    <tr>\n",
       "      <th>18</th>\n",
       "      <td>CartScreenAppear</td>\n",
       "      <td>2575393697599976818</td>\n",
       "      <td>1564148945</td>\n",
       "      <td>247</td>\n",
       "    </tr>\n",
       "    <tr>\n",
       "      <th>19</th>\n",
       "      <td>MainScreenAppear</td>\n",
       "      <td>4651149533106703820</td>\n",
       "      <td>1564149866</td>\n",
       "      <td>246</td>\n",
       "    </tr>\n",
       "  </tbody>\n",
       "</table>\n",
       "</div>"
      ],
      "text/plain": [
       "                  EventName         DeviceIDHash  EventTimestamp  ExpId\n",
       "0          MainScreenAppear  4575588528974610257      1564029816    246\n",
       "1          MainScreenAppear  7416695313311560658      1564053102    246\n",
       "2   PaymentScreenSuccessful  3518123091307005509      1564054127    248\n",
       "3          CartScreenAppear  3518123091307005509      1564054127    248\n",
       "4   PaymentScreenSuccessful  6217807653094995999      1564055322    248\n",
       "5          CartScreenAppear  6217807653094995999      1564055323    248\n",
       "6        OffersScreenAppear  8351860793733343758      1564066242    246\n",
       "7          MainScreenAppear  5682100281902512875      1564085677    246\n",
       "8          MainScreenAppear  1850981295691852772      1564086702    247\n",
       "9          MainScreenAppear  5407636962369102641      1564112112    246\n",
       "10         MainScreenAppear   948465712512390382      1564119214    247\n",
       "11         MainScreenAppear  2547684315586332355      1564123826    248\n",
       "12         MainScreenAppear  8885295911290764495      1564124085    248\n",
       "13         MainScreenAppear  2140904690380565988      1564125732    247\n",
       "14         MainScreenAppear  4444236400320272864      1564135560    246\n",
       "15         MainScreenAppear  8947220251154009657      1564140668    248\n",
       "16         MainScreenAppear  5839517684026830712      1564141421    247\n",
       "17         MainScreenAppear  7540130374989658208      1564144283    248\n",
       "18         CartScreenAppear  2575393697599976818      1564148945    247\n",
       "19         MainScreenAppear  4651149533106703820      1564149866    246"
      ]
     },
     "metadata": {},
     "output_type": "display_data"
    },
    {
     "name": "stdout",
     "output_type": "stream",
     "text": [
      "\n",
      "\u001b[1mОбщая информация о таблице:\u001b[0m\n",
      "<class 'pandas.core.frame.DataFrame'>\n",
      "RangeIndex: 244126 entries, 0 to 244125\n",
      "Data columns (total 4 columns):\n",
      " #   Column          Non-Null Count   Dtype \n",
      "---  ------          --------------   ----- \n",
      " 0   EventName       244126 non-null  object\n",
      " 1   DeviceIDHash    244126 non-null  int64 \n",
      " 2   EventTimestamp  244126 non-null  int64 \n",
      " 3   ExpId           244126 non-null  int64 \n",
      "dtypes: int64(3), object(1)\n",
      "memory usage: 7.5+ MB\n",
      "None\n",
      "\n",
      "\u001b[1mКоличество пропусков в таблице:\u001b[0m\n",
      "EventName         0\n",
      "DeviceIDHash      0\n",
      "EventTimestamp    0\n",
      "ExpId             0\n",
      "dtype: int64\n",
      "\n",
      "\u001b[1mКоличество дубликатов в таблице:\u001b[0m\n",
      "413\n"
     ]
    }
   ],
   "source": [
    "df_info(logs)"
   ]
  },
  {
   "cell_type": "markdown",
   "metadata": {},
   "source": [
    "Таблица содержит 413 дубликатов, посчитаем их долю, чтобы понимать, какую часть данных они занимают."
   ]
  },
  {
   "cell_type": "code",
   "execution_count": 5,
   "metadata": {},
   "outputs": [
    {
     "name": "stdout",
     "output_type": "stream",
     "text": [
      "Доля дубликатов в данных составляет 0.0017\n"
     ]
    }
   ],
   "source": [
    "duplicates_share = round(logs.duplicated().sum() / logs.shape[0], 4)\n",
    "print('Доля дубликатов в данных составляет', duplicates_share)"
   ]
  },
  {
   "cell_type": "markdown",
   "metadata": {},
   "source": [
    "Доля дубликатов менее 1%."
   ]
  },
  {
   "cell_type": "markdown",
   "metadata": {},
   "source": [
    "На этом этапе данные считаны из файла и сохранены в переменной `logs`. Датафрейм содержитсодержит 244126 строк, 4 столбца. В датафрейме есть дубликаты, пропуски отсутствуют."
   ]
  },
  {
   "cell_type": "markdown",
   "metadata": {},
   "source": [
    "### Шаг 2. Подготовим данные"
   ]
  },
  {
   "cell_type": "markdown",
   "metadata": {},
   "source": [
    "Заменим названия столбцов."
   ]
  },
  {
   "cell_type": "code",
   "execution_count": 6,
   "metadata": {},
   "outputs": [],
   "source": [
    "logs = logs.rename(columns = {'EventName' : 'event', 'DeviceIDHash' : 'user', 'EventTimestamp' : 'timestamp', 'ExpId' : 'group'})"
   ]
  },
  {
   "cell_type": "markdown",
   "metadata": {},
   "source": [
    "Таблица содержит дубликаты, удалим их."
   ]
  },
  {
   "cell_type": "code",
   "execution_count": 7,
   "metadata": {},
   "outputs": [],
   "source": [
    "logs = logs.drop_duplicates().reset_index(drop=True)"
   ]
  },
  {
   "cell_type": "markdown",
   "metadata": {},
   "source": [
    "Добавим столбец даты и времени, а также отдельный столбец дат."
   ]
  },
  {
   "cell_type": "code",
   "execution_count": 8,
   "metadata": {},
   "outputs": [],
   "source": [
    "logs['datetime'] = logs['timestamp'].apply(lambda x: dt.fromtimestamp(x))\n",
    "logs['date'] = logs['timestamp'].apply(lambda x: dt.fromtimestamp(x).date())"
   ]
  },
  {
   "cell_type": "markdown",
   "metadata": {},
   "source": [
    "Выведемм информацию о датафрейме после всех изменений"
   ]
  },
  {
   "cell_type": "code",
   "execution_count": 9,
   "metadata": {},
   "outputs": [
    {
     "name": "stdout",
     "output_type": "stream",
     "text": [
      "\u001b[1mПервые 20 строк таблицы:\u001b[0m\n"
     ]
    },
    {
     "data": {
      "text/html": [
       "<div>\n",
       "<style scoped>\n",
       "    .dataframe tbody tr th:only-of-type {\n",
       "        vertical-align: middle;\n",
       "    }\n",
       "\n",
       "    .dataframe tbody tr th {\n",
       "        vertical-align: top;\n",
       "    }\n",
       "\n",
       "    .dataframe thead th {\n",
       "        text-align: right;\n",
       "    }\n",
       "</style>\n",
       "<table border=\"1\" class=\"dataframe\">\n",
       "  <thead>\n",
       "    <tr style=\"text-align: right;\">\n",
       "      <th></th>\n",
       "      <th>event</th>\n",
       "      <th>user</th>\n",
       "      <th>timestamp</th>\n",
       "      <th>group</th>\n",
       "      <th>datetime</th>\n",
       "      <th>date</th>\n",
       "    </tr>\n",
       "  </thead>\n",
       "  <tbody>\n",
       "    <tr>\n",
       "      <th>0</th>\n",
       "      <td>MainScreenAppear</td>\n",
       "      <td>4575588528974610257</td>\n",
       "      <td>1564029816</td>\n",
       "      <td>246</td>\n",
       "      <td>2019-07-25 07:43:36</td>\n",
       "      <td>2019-07-25</td>\n",
       "    </tr>\n",
       "    <tr>\n",
       "      <th>1</th>\n",
       "      <td>MainScreenAppear</td>\n",
       "      <td>7416695313311560658</td>\n",
       "      <td>1564053102</td>\n",
       "      <td>246</td>\n",
       "      <td>2019-07-25 14:11:42</td>\n",
       "      <td>2019-07-25</td>\n",
       "    </tr>\n",
       "    <tr>\n",
       "      <th>2</th>\n",
       "      <td>PaymentScreenSuccessful</td>\n",
       "      <td>3518123091307005509</td>\n",
       "      <td>1564054127</td>\n",
       "      <td>248</td>\n",
       "      <td>2019-07-25 14:28:47</td>\n",
       "      <td>2019-07-25</td>\n",
       "    </tr>\n",
       "    <tr>\n",
       "      <th>3</th>\n",
       "      <td>CartScreenAppear</td>\n",
       "      <td>3518123091307005509</td>\n",
       "      <td>1564054127</td>\n",
       "      <td>248</td>\n",
       "      <td>2019-07-25 14:28:47</td>\n",
       "      <td>2019-07-25</td>\n",
       "    </tr>\n",
       "    <tr>\n",
       "      <th>4</th>\n",
       "      <td>PaymentScreenSuccessful</td>\n",
       "      <td>6217807653094995999</td>\n",
       "      <td>1564055322</td>\n",
       "      <td>248</td>\n",
       "      <td>2019-07-25 14:48:42</td>\n",
       "      <td>2019-07-25</td>\n",
       "    </tr>\n",
       "    <tr>\n",
       "      <th>5</th>\n",
       "      <td>CartScreenAppear</td>\n",
       "      <td>6217807653094995999</td>\n",
       "      <td>1564055323</td>\n",
       "      <td>248</td>\n",
       "      <td>2019-07-25 14:48:43</td>\n",
       "      <td>2019-07-25</td>\n",
       "    </tr>\n",
       "    <tr>\n",
       "      <th>6</th>\n",
       "      <td>OffersScreenAppear</td>\n",
       "      <td>8351860793733343758</td>\n",
       "      <td>1564066242</td>\n",
       "      <td>246</td>\n",
       "      <td>2019-07-25 17:50:42</td>\n",
       "      <td>2019-07-25</td>\n",
       "    </tr>\n",
       "    <tr>\n",
       "      <th>7</th>\n",
       "      <td>MainScreenAppear</td>\n",
       "      <td>5682100281902512875</td>\n",
       "      <td>1564085677</td>\n",
       "      <td>246</td>\n",
       "      <td>2019-07-25 23:14:37</td>\n",
       "      <td>2019-07-25</td>\n",
       "    </tr>\n",
       "    <tr>\n",
       "      <th>8</th>\n",
       "      <td>MainScreenAppear</td>\n",
       "      <td>1850981295691852772</td>\n",
       "      <td>1564086702</td>\n",
       "      <td>247</td>\n",
       "      <td>2019-07-25 23:31:42</td>\n",
       "      <td>2019-07-25</td>\n",
       "    </tr>\n",
       "    <tr>\n",
       "      <th>9</th>\n",
       "      <td>MainScreenAppear</td>\n",
       "      <td>5407636962369102641</td>\n",
       "      <td>1564112112</td>\n",
       "      <td>246</td>\n",
       "      <td>2019-07-26 06:35:12</td>\n",
       "      <td>2019-07-26</td>\n",
       "    </tr>\n",
       "    <tr>\n",
       "      <th>10</th>\n",
       "      <td>MainScreenAppear</td>\n",
       "      <td>948465712512390382</td>\n",
       "      <td>1564119214</td>\n",
       "      <td>247</td>\n",
       "      <td>2019-07-26 08:33:34</td>\n",
       "      <td>2019-07-26</td>\n",
       "    </tr>\n",
       "    <tr>\n",
       "      <th>11</th>\n",
       "      <td>MainScreenAppear</td>\n",
       "      <td>2547684315586332355</td>\n",
       "      <td>1564123826</td>\n",
       "      <td>248</td>\n",
       "      <td>2019-07-26 09:50:26</td>\n",
       "      <td>2019-07-26</td>\n",
       "    </tr>\n",
       "    <tr>\n",
       "      <th>12</th>\n",
       "      <td>MainScreenAppear</td>\n",
       "      <td>8885295911290764495</td>\n",
       "      <td>1564124085</td>\n",
       "      <td>248</td>\n",
       "      <td>2019-07-26 09:54:45</td>\n",
       "      <td>2019-07-26</td>\n",
       "    </tr>\n",
       "    <tr>\n",
       "      <th>13</th>\n",
       "      <td>MainScreenAppear</td>\n",
       "      <td>2140904690380565988</td>\n",
       "      <td>1564125732</td>\n",
       "      <td>247</td>\n",
       "      <td>2019-07-26 10:22:12</td>\n",
       "      <td>2019-07-26</td>\n",
       "    </tr>\n",
       "    <tr>\n",
       "      <th>14</th>\n",
       "      <td>MainScreenAppear</td>\n",
       "      <td>4444236400320272864</td>\n",
       "      <td>1564135560</td>\n",
       "      <td>246</td>\n",
       "      <td>2019-07-26 13:06:00</td>\n",
       "      <td>2019-07-26</td>\n",
       "    </tr>\n",
       "    <tr>\n",
       "      <th>15</th>\n",
       "      <td>MainScreenAppear</td>\n",
       "      <td>8947220251154009657</td>\n",
       "      <td>1564140668</td>\n",
       "      <td>248</td>\n",
       "      <td>2019-07-26 14:31:08</td>\n",
       "      <td>2019-07-26</td>\n",
       "    </tr>\n",
       "    <tr>\n",
       "      <th>16</th>\n",
       "      <td>MainScreenAppear</td>\n",
       "      <td>5839517684026830712</td>\n",
       "      <td>1564141421</td>\n",
       "      <td>247</td>\n",
       "      <td>2019-07-26 14:43:41</td>\n",
       "      <td>2019-07-26</td>\n",
       "    </tr>\n",
       "    <tr>\n",
       "      <th>17</th>\n",
       "      <td>MainScreenAppear</td>\n",
       "      <td>7540130374989658208</td>\n",
       "      <td>1564144283</td>\n",
       "      <td>248</td>\n",
       "      <td>2019-07-26 15:31:23</td>\n",
       "      <td>2019-07-26</td>\n",
       "    </tr>\n",
       "    <tr>\n",
       "      <th>18</th>\n",
       "      <td>CartScreenAppear</td>\n",
       "      <td>2575393697599976818</td>\n",
       "      <td>1564148945</td>\n",
       "      <td>247</td>\n",
       "      <td>2019-07-26 16:49:05</td>\n",
       "      <td>2019-07-26</td>\n",
       "    </tr>\n",
       "    <tr>\n",
       "      <th>19</th>\n",
       "      <td>MainScreenAppear</td>\n",
       "      <td>4651149533106703820</td>\n",
       "      <td>1564149866</td>\n",
       "      <td>246</td>\n",
       "      <td>2019-07-26 17:04:26</td>\n",
       "      <td>2019-07-26</td>\n",
       "    </tr>\n",
       "  </tbody>\n",
       "</table>\n",
       "</div>"
      ],
      "text/plain": [
       "                      event                 user   timestamp  group  \\\n",
       "0          MainScreenAppear  4575588528974610257  1564029816    246   \n",
       "1          MainScreenAppear  7416695313311560658  1564053102    246   \n",
       "2   PaymentScreenSuccessful  3518123091307005509  1564054127    248   \n",
       "3          CartScreenAppear  3518123091307005509  1564054127    248   \n",
       "4   PaymentScreenSuccessful  6217807653094995999  1564055322    248   \n",
       "5          CartScreenAppear  6217807653094995999  1564055323    248   \n",
       "6        OffersScreenAppear  8351860793733343758  1564066242    246   \n",
       "7          MainScreenAppear  5682100281902512875  1564085677    246   \n",
       "8          MainScreenAppear  1850981295691852772  1564086702    247   \n",
       "9          MainScreenAppear  5407636962369102641  1564112112    246   \n",
       "10         MainScreenAppear   948465712512390382  1564119214    247   \n",
       "11         MainScreenAppear  2547684315586332355  1564123826    248   \n",
       "12         MainScreenAppear  8885295911290764495  1564124085    248   \n",
       "13         MainScreenAppear  2140904690380565988  1564125732    247   \n",
       "14         MainScreenAppear  4444236400320272864  1564135560    246   \n",
       "15         MainScreenAppear  8947220251154009657  1564140668    248   \n",
       "16         MainScreenAppear  5839517684026830712  1564141421    247   \n",
       "17         MainScreenAppear  7540130374989658208  1564144283    248   \n",
       "18         CartScreenAppear  2575393697599976818  1564148945    247   \n",
       "19         MainScreenAppear  4651149533106703820  1564149866    246   \n",
       "\n",
       "              datetime        date  \n",
       "0  2019-07-25 07:43:36  2019-07-25  \n",
       "1  2019-07-25 14:11:42  2019-07-25  \n",
       "2  2019-07-25 14:28:47  2019-07-25  \n",
       "3  2019-07-25 14:28:47  2019-07-25  \n",
       "4  2019-07-25 14:48:42  2019-07-25  \n",
       "5  2019-07-25 14:48:43  2019-07-25  \n",
       "6  2019-07-25 17:50:42  2019-07-25  \n",
       "7  2019-07-25 23:14:37  2019-07-25  \n",
       "8  2019-07-25 23:31:42  2019-07-25  \n",
       "9  2019-07-26 06:35:12  2019-07-26  \n",
       "10 2019-07-26 08:33:34  2019-07-26  \n",
       "11 2019-07-26 09:50:26  2019-07-26  \n",
       "12 2019-07-26 09:54:45  2019-07-26  \n",
       "13 2019-07-26 10:22:12  2019-07-26  \n",
       "14 2019-07-26 13:06:00  2019-07-26  \n",
       "15 2019-07-26 14:31:08  2019-07-26  \n",
       "16 2019-07-26 14:43:41  2019-07-26  \n",
       "17 2019-07-26 15:31:23  2019-07-26  \n",
       "18 2019-07-26 16:49:05  2019-07-26  \n",
       "19 2019-07-26 17:04:26  2019-07-26  "
      ]
     },
     "metadata": {},
     "output_type": "display_data"
    },
    {
     "name": "stdout",
     "output_type": "stream",
     "text": [
      "\n",
      "\u001b[1mОбщая информация о таблице:\u001b[0m\n",
      "<class 'pandas.core.frame.DataFrame'>\n",
      "RangeIndex: 243713 entries, 0 to 243712\n",
      "Data columns (total 6 columns):\n",
      " #   Column     Non-Null Count   Dtype         \n",
      "---  ------     --------------   -----         \n",
      " 0   event      243713 non-null  object        \n",
      " 1   user       243713 non-null  int64         \n",
      " 2   timestamp  243713 non-null  int64         \n",
      " 3   group      243713 non-null  int64         \n",
      " 4   datetime   243713 non-null  datetime64[ns]\n",
      " 5   date       243713 non-null  object        \n",
      "dtypes: datetime64[ns](1), int64(3), object(2)\n",
      "memory usage: 11.2+ MB\n",
      "None\n",
      "\n",
      "\u001b[1mКоличество пропусков в таблице:\u001b[0m\n",
      "event        0\n",
      "user         0\n",
      "timestamp    0\n",
      "group        0\n",
      "datetime     0\n",
      "date         0\n",
      "dtype: int64\n",
      "\n",
      "\u001b[1mКоличество дубликатов в таблице:\u001b[0m\n",
      "0\n"
     ]
    }
   ],
   "source": [
    "df_info(logs)"
   ]
  },
  {
   "cell_type": "markdown",
   "metadata": {},
   "source": [
    "Проверим, есть ли в таблице пользователи, оказавшиеся одновременно в нескольких группах. При А/В-тестировании могут быть ошибки при логировании и распределении пользователей по группам."
   ]
  },
  {
   "cell_type": "code",
   "execution_count": 10,
   "metadata": {},
   "outputs": [
    {
     "data": {
      "text/plain": [
       "group    0\n",
       "dtype: int64"
      ]
     },
     "execution_count": 10,
     "metadata": {},
     "output_type": "execute_result"
    }
   ],
   "source": [
    "logs_mis = logs.pivot_table(\n",
    "    index='user',\n",
    "    values='group',\n",
    "    aggfunc='nunique'\n",
    ")\n",
    "\n",
    "logs_mis.query('group > 1').count()"
   ]
  },
  {
   "cell_type": "markdown",
   "metadata": {},
   "source": [
    "Ошибки при логировании не обнаружены. Таблица содержит только пользователей, каждый из которых относится только к одной группе."
   ]
  },
  {
   "cell_type": "markdown",
   "metadata": {},
   "source": [
    "На этом этапе названия столбцов изменены и переведены в `snake_case`. Форматы столбцов приведены в соответствие с их содержанием. Удалены дубликаты. Добавлен столбец даты и времени, а также отдельный столбец дат. Также проведена проверка на наличие ошибок логирования при проведении эксперимента, ошибки отсутствуют. Итоговый датафрейм `logs` содержит 243713 строк, 6 столбцов."
   ]
  },
  {
   "cell_type": "markdown",
   "metadata": {},
   "source": [
    "### Шаг 3. Изучим и проверим данные"
   ]
  },
  {
   "cell_type": "markdown",
   "metadata": {},
   "source": [
    "Проверим, сколько всего событий в логе."
   ]
  },
  {
   "cell_type": "code",
   "execution_count": 11,
   "metadata": {},
   "outputs": [
    {
     "name": "stdout",
     "output_type": "stream",
     "text": [
      "В логе всего 243713 событий\n"
     ]
    }
   ],
   "source": [
    "print('В логе всего', logs['event'].count(), 'событий')"
   ]
  },
  {
   "cell_type": "markdown",
   "metadata": {},
   "source": [
    "Проверим, сколько всего пользователей в логе."
   ]
  },
  {
   "cell_type": "code",
   "execution_count": 12,
   "metadata": {},
   "outputs": [
    {
     "name": "stdout",
     "output_type": "stream",
     "text": [
      "В логе всего 7551 пользователей\n"
     ]
    }
   ],
   "source": [
    "print('В логе всего', logs['user'].nunique(), 'пользователей')"
   ]
  },
  {
   "cell_type": "markdown",
   "metadata": {},
   "source": [
    "Посчитаем, сколько в среднем событий приходится на одного пользователя."
   ]
  },
  {
   "cell_type": "code",
   "execution_count": 13,
   "metadata": {},
   "outputs": [
    {
     "name": "stdout",
     "output_type": "stream",
     "text": [
      "В среднем на одного пользователя приходится 32.0 события\n"
     ]
    }
   ],
   "source": [
    "print('В среднем на одного пользователя приходится', round(logs['event'].count()/logs['user'].nunique(), 0), 'события')"
   ]
  },
  {
   "cell_type": "markdown",
   "metadata": {},
   "source": [
    "В качестве дополнительного исследования можно проверить, существование аномальных пользователей. Построим гистограмму распределения количества событий, совершенных пользователеми."
   ]
  },
  {
   "cell_type": "code",
   "execution_count": 14,
   "metadata": {},
   "outputs": [],
   "source": [
    "events_by_user = logs.groupby('user')['event'].count()"
   ]
  },
  {
   "cell_type": "code",
   "execution_count": 15,
   "metadata": {},
   "outputs": [
    {
     "data": {
      "image/png": "[encoded data removed]",
      "text/plain": [
       "<Figure size 1900x1000 with 1 Axes>"
      ]
     },
     "metadata": {},
     "output_type": "display_data"
    }
   ],
   "source": [
    "plt.figure(figsize=(19,10))\n",
    "plt.hist(events_by_user, color = 'blue', bins = 5000)\n",
    "plt.title('Гистограмма количества событий, совершенных пользователями', fontsize = 20)\n",
    "plt.xlabel('Количество пользователей', fontsize=15)\n",
    "plt.ylabel('Количество событий', fontsize=15);"
   ]
  },
  {
   "cell_type": "markdown",
   "metadata": {},
   "source": [
    "На гистограмме видно, что есть достаточно большой хвост вправо, что говорит о том, что достаточно большое количество пользователей совершало единичные события. С другой стороны есть пользователи, которые наоборот совершали очень много событий."
   ]
  },
  {
   "cell_type": "markdown",
   "metadata": {},
   "source": [
    "Проверим, данными за какой период мы располагаем. Найдем максимальную и минимальную дату."
   ]
  },
  {
   "cell_type": "code",
   "execution_count": 16,
   "metadata": {},
   "outputs": [
    {
     "name": "stdout",
     "output_type": "stream",
     "text": [
      "Максимальная дата в  логе - 2019-08-08\n",
      "Минимальная дата в  логе - 2019-07-25\n"
     ]
    }
   ],
   "source": [
    "print('Максимальная дата в  логе -', logs['date'].max())\n",
    "print('Минимальная дата в  логе -', logs['date'].min())"
   ]
  },
  {
   "cell_type": "markdown",
   "metadata": {},
   "source": [
    "Мы располагаем данными за 14 дней с 25 июля 2019 года по 7 августа 2019 года."
   ]
  },
  {
   "cell_type": "markdown",
   "metadata": {},
   "source": [
    "Изучим, как меняется количество данных в зависимости от времени в разрезе групп."
   ]
  },
  {
   "cell_type": "code",
   "execution_count": 17,
   "metadata": {},
   "outputs": [
    {
     "data": {
      "text/html": [
       "<div>\n",
       "<style scoped>\n",
       "    .dataframe tbody tr th:only-of-type {\n",
       "        vertical-align: middle;\n",
       "    }\n",
       "\n",
       "    .dataframe tbody tr th {\n",
       "        vertical-align: top;\n",
       "    }\n",
       "\n",
       "    .dataframe thead th {\n",
       "        text-align: right;\n",
       "    }\n",
       "</style>\n",
       "<table border=\"1\" class=\"dataframe\">\n",
       "  <thead>\n",
       "    <tr style=\"text-align: right;\">\n",
       "      <th>group</th>\n",
       "      <th>246</th>\n",
       "      <th>247</th>\n",
       "      <th>248</th>\n",
       "    </tr>\n",
       "    <tr>\n",
       "      <th>date</th>\n",
       "      <th></th>\n",
       "      <th></th>\n",
       "      <th></th>\n",
       "    </tr>\n",
       "  </thead>\n",
       "  <tbody>\n",
       "    <tr>\n",
       "      <th>2019-07-25</th>\n",
       "      <td>4</td>\n",
       "      <td>1</td>\n",
       "      <td>4</td>\n",
       "    </tr>\n",
       "    <tr>\n",
       "      <th>2019-07-26</th>\n",
       "      <td>14</td>\n",
       "      <td>8</td>\n",
       "      <td>8</td>\n",
       "    </tr>\n",
       "    <tr>\n",
       "      <th>2019-07-27</th>\n",
       "      <td>24</td>\n",
       "      <td>23</td>\n",
       "      <td>8</td>\n",
       "    </tr>\n",
       "    <tr>\n",
       "      <th>2019-07-28</th>\n",
       "      <td>32</td>\n",
       "      <td>36</td>\n",
       "      <td>36</td>\n",
       "    </tr>\n",
       "    <tr>\n",
       "      <th>2019-07-29</th>\n",
       "      <td>53</td>\n",
       "      <td>58</td>\n",
       "      <td>70</td>\n",
       "    </tr>\n",
       "    <tr>\n",
       "      <th>2019-07-30</th>\n",
       "      <td>127</td>\n",
       "      <td>129</td>\n",
       "      <td>141</td>\n",
       "    </tr>\n",
       "    <tr>\n",
       "      <th>2019-07-31</th>\n",
       "      <td>371</td>\n",
       "      <td>402</td>\n",
       "      <td>440</td>\n",
       "    </tr>\n",
       "    <tr>\n",
       "      <th>2019-08-01</th>\n",
       "      <td>11598</td>\n",
       "      <td>11959</td>\n",
       "      <td>12210</td>\n",
       "    </tr>\n",
       "    <tr>\n",
       "      <th>2019-08-02</th>\n",
       "      <td>10955</td>\n",
       "      <td>11240</td>\n",
       "      <td>13376</td>\n",
       "    </tr>\n",
       "    <tr>\n",
       "      <th>2019-08-03</th>\n",
       "      <td>10479</td>\n",
       "      <td>11167</td>\n",
       "      <td>11956</td>\n",
       "    </tr>\n",
       "    <tr>\n",
       "      <th>2019-08-04</th>\n",
       "      <td>11438</td>\n",
       "      <td>9683</td>\n",
       "      <td>11462</td>\n",
       "    </tr>\n",
       "    <tr>\n",
       "      <th>2019-08-05</th>\n",
       "      <td>12430</td>\n",
       "      <td>10969</td>\n",
       "      <td>12676</td>\n",
       "    </tr>\n",
       "    <tr>\n",
       "      <th>2019-08-06</th>\n",
       "      <td>11774</td>\n",
       "      <td>11952</td>\n",
       "      <td>12544</td>\n",
       "    </tr>\n",
       "    <tr>\n",
       "      <th>2019-08-07</th>\n",
       "      <td>10845</td>\n",
       "      <td>10304</td>\n",
       "      <td>10639</td>\n",
       "    </tr>\n",
       "    <tr>\n",
       "      <th>2019-08-08</th>\n",
       "      <td>37</td>\n",
       "      <td>19</td>\n",
       "      <td>12</td>\n",
       "    </tr>\n",
       "  </tbody>\n",
       "</table>\n",
       "</div>"
      ],
      "text/plain": [
       "group         246    247    248\n",
       "date                           \n",
       "2019-07-25      4      1      4\n",
       "2019-07-26     14      8      8\n",
       "2019-07-27     24     23      8\n",
       "2019-07-28     32     36     36\n",
       "2019-07-29     53     58     70\n",
       "2019-07-30    127    129    141\n",
       "2019-07-31    371    402    440\n",
       "2019-08-01  11598  11959  12210\n",
       "2019-08-02  10955  11240  13376\n",
       "2019-08-03  10479  11167  11956\n",
       "2019-08-04  11438   9683  11462\n",
       "2019-08-05  12430  10969  12676\n",
       "2019-08-06  11774  11952  12544\n",
       "2019-08-07  10845  10304  10639\n",
       "2019-08-08     37     19     12"
      ]
     },
     "execution_count": 17,
     "metadata": {},
     "output_type": "execute_result"
    }
   ],
   "source": [
    "events_by_date = logs.pivot_table(index='date', columns='group', values='event', aggfunc='count')\n",
    "events_by_date"
   ]
  },
  {
   "cell_type": "markdown",
   "metadata": {},
   "source": [
    "Построим столбчатую диаграмму, которая отобразит количество событий в зависимости от времени в разрезе групп."
   ]
  },
  {
   "cell_type": "code",
   "execution_count": 18,
   "metadata": {},
   "outputs": [
    {
     "data": {
      "image/png": "[encoded data removed]",
      "text/plain": [
       "<Figure size 1900x1000 with 1 Axes>"
      ]
     },
     "metadata": {},
     "output_type": "display_data"
    }
   ],
   "source": [
    "events_by_date.plot(kind='bar', figsize=(19, 10))\n",
    "plt.title('Количество событий по датам в разрезе групп', fontsize = 20)\n",
    "plt.xlabel('Дата', fontsize=15)\n",
    "plt.ylabel('Количество событий', fontsize=15);"
   ]
  },
  {
   "cell_type": "markdown",
   "metadata": {},
   "source": [
    "На диаграммме явно видно, что данные значительно различаются в зависимости от даты. До 31 июля 2019 года вклюючительно количество событий незначительно. Мы имеем полные данные начиная с 1 августа 2019 года, т.е фактически располагаем данными за 7 дней с 1 по 7 августа 2019 года. Отбросим более старые данные."
   ]
  },
  {
   "cell_type": "code",
   "execution_count": 19,
   "metadata": {},
   "outputs": [],
   "source": [
    "cutoff_date = pd.to_datetime(\"2019-07-31\")\n",
    "logs_act = logs.query('date > @cutoff_date.date()')"
   ]
  },
  {
   "cell_type": "markdown",
   "metadata": {},
   "source": [
    "Проверим, много ли событий и пользователей мы потеряли, отбросив старые данные."
   ]
  },
  {
   "cell_type": "code",
   "execution_count": 20,
   "metadata": {},
   "outputs": [
    {
     "name": "stdout",
     "output_type": "stream",
     "text": [
      "Отбросив старые данные, мы потеряли 1989 событий, что составляет 0.82% от изначальных данных\n",
      "Отбросив старые данные, мы потеряли 13 пользователей, что составляет 0.17% от изначальных данных\n"
     ]
    }
   ],
   "source": [
    "print(\n",
    "    'Отбросив старые данные, мы потеряли',\n",
    "    logs['event'].count() - logs_act['event'].count(),\n",
    "    'событий, что составляет',\n",
    "    '{0:.2%}'.format((logs['event'].count() - logs_act['event'].count())/logs['event'].count()),\n",
    "    'от изначальных данных' \n",
    ")\n",
    "print(\n",
    "    'Отбросив старые данные, мы потеряли',\n",
    "    logs['user'].nunique() - logs_act['user'].nunique(),\n",
    "    'пользователей, что составляет',\n",
    "    '{0:.2%}'.format((logs['user'].nunique() - logs_act['user'].nunique())/logs['user'].nunique()),\n",
    "    'от изначальных данных' \n",
    ")"
   ]
  },
  {
   "cell_type": "markdown",
   "metadata": {},
   "source": [
    "Такие потери являются приемлемыми и не окажут существенного влияния на дальнейший анализ."
   ]
  },
  {
   "cell_type": "markdown",
   "metadata": {},
   "source": [
    "На диаграмме видно, что  у нас есть пользователи из всех трёх экспериментальных групп. Проверим, сколько их в каждой группе."
   ]
  },
  {
   "cell_type": "code",
   "execution_count": 21,
   "metadata": {},
   "outputs": [
    {
     "data": {
      "text/html": [
       "<div>\n",
       "<style scoped>\n",
       "    .dataframe tbody tr th:only-of-type {\n",
       "        vertical-align: middle;\n",
       "    }\n",
       "\n",
       "    .dataframe tbody tr th {\n",
       "        vertical-align: top;\n",
       "    }\n",
       "\n",
       "    .dataframe thead th {\n",
       "        text-align: right;\n",
       "    }\n",
       "</style>\n",
       "<table border=\"1\" class=\"dataframe\">\n",
       "  <thead>\n",
       "    <tr style=\"text-align: right;\">\n",
       "      <th></th>\n",
       "      <th>user</th>\n",
       "    </tr>\n",
       "    <tr>\n",
       "      <th>group</th>\n",
       "      <th></th>\n",
       "    </tr>\n",
       "  </thead>\n",
       "  <tbody>\n",
       "    <tr>\n",
       "      <th>246</th>\n",
       "      <td>2484</td>\n",
       "    </tr>\n",
       "    <tr>\n",
       "      <th>247</th>\n",
       "      <td>2517</td>\n",
       "    </tr>\n",
       "    <tr>\n",
       "      <th>248</th>\n",
       "      <td>2537</td>\n",
       "    </tr>\n",
       "  </tbody>\n",
       "</table>\n",
       "</div>"
      ],
      "text/plain": [
       "       user\n",
       "group      \n",
       "246    2484\n",
       "247    2517\n",
       "248    2537"
      ]
     },
     "execution_count": 21,
     "metadata": {},
     "output_type": "execute_result"
    }
   ],
   "source": [
    "users_by_group = logs_act.pivot_table(index='group', values='user', aggfunc='nunique')\n",
    "users_by_group"
   ]
  },
  {
   "cell_type": "markdown",
   "metadata": {},
   "source": [
    "Количество пользователей в групах примерно одинаковое."
   ]
  },
  {
   "cell_type": "markdown",
   "metadata": {},
   "source": [
    "На этом этапе было проверено, сколько всего событий в логе, сколько всего пользователей в логе, посчитано, колько в среднем событий приходится на пользователя.\n",
    "\n",
    "Было изучено, данными за какой период мы располагаем, найдены максимальная и минимальна даты. Также было изучено, как меняется количество данных в зависимости от времени в разрезе групп. Было проверено, данными за какой период времени мы располагаем на самом деле, более старые данные были отброшены.\n",
    "\n",
    "Было расчитано, много ли событий и пользователей мы потеряли, отбросив старые данные. И проверено, что у нас остались пользователи из всех трёх экспериментальных групп и сколько пользователей в каждой группе."
   ]
  },
  {
   "cell_type": "markdown",
   "metadata": {},
   "source": [
    "### Шаг 4. Изучим воронку событий"
   ]
  },
  {
   "cell_type": "markdown",
   "metadata": {},
   "source": [
    "Посмотрим, какие события есть в логах."
   ]
  },
  {
   "cell_type": "code",
   "execution_count": 22,
   "metadata": {},
   "outputs": [
    {
     "data": {
      "text/plain": [
       "array(['MainScreenAppear', 'OffersScreenAppear',\n",
       "       'PaymentScreenSuccessful', 'CartScreenAppear', 'Tutorial'],\n",
       "      dtype=object)"
      ]
     },
     "execution_count": 22,
     "metadata": {},
     "output_type": "execute_result"
    }
   ],
   "source": [
    "logs_act['event'].unique()"
   ]
  },
  {
   "cell_type": "markdown",
   "metadata": {},
   "source": [
    "Изучим, как часто они встречаются. Отсортируем события по частоте."
   ]
  },
  {
   "cell_type": "code",
   "execution_count": 23,
   "metadata": {},
   "outputs": [
    {
     "data": {
      "text/plain": [
       "event\n",
       "MainScreenAppear           117889\n",
       "OffersScreenAppear          46531\n",
       "CartScreenAppear            42343\n",
       "PaymentScreenSuccessful     33951\n",
       "Tutorial                     1010\n",
       "Name: user, dtype: int64"
      ]
     },
     "execution_count": 23,
     "metadata": {},
     "output_type": "execute_result"
    }
   ],
   "source": [
    "logs_act.groupby('event')['user'].count().sort_values(ascending=False)"
   ]
  },
  {
   "cell_type": "markdown",
   "metadata": {},
   "source": [
    "Посчитаем, сколько пользователей совершали каждое из этих событий. Отсортируем события по числу пользователей."
   ]
  },
  {
   "cell_type": "code",
   "execution_count": 24,
   "metadata": {},
   "outputs": [
    {
     "data": {
      "text/html": [
       "<div>\n",
       "<style scoped>\n",
       "    .dataframe tbody tr th:only-of-type {\n",
       "        vertical-align: middle;\n",
       "    }\n",
       "\n",
       "    .dataframe tbody tr th {\n",
       "        vertical-align: top;\n",
       "    }\n",
       "\n",
       "    .dataframe thead th {\n",
       "        text-align: right;\n",
       "    }\n",
       "</style>\n",
       "<table border=\"1\" class=\"dataframe\">\n",
       "  <thead>\n",
       "    <tr style=\"text-align: right;\">\n",
       "      <th></th>\n",
       "      <th>user</th>\n",
       "    </tr>\n",
       "    <tr>\n",
       "      <th>event</th>\n",
       "      <th></th>\n",
       "    </tr>\n",
       "  </thead>\n",
       "  <tbody>\n",
       "    <tr>\n",
       "      <th>MainScreenAppear</th>\n",
       "      <td>7423</td>\n",
       "    </tr>\n",
       "    <tr>\n",
       "      <th>OffersScreenAppear</th>\n",
       "      <td>4597</td>\n",
       "    </tr>\n",
       "    <tr>\n",
       "      <th>CartScreenAppear</th>\n",
       "      <td>3736</td>\n",
       "    </tr>\n",
       "    <tr>\n",
       "      <th>PaymentScreenSuccessful</th>\n",
       "      <td>3540</td>\n",
       "    </tr>\n",
       "    <tr>\n",
       "      <th>Tutorial</th>\n",
       "      <td>843</td>\n",
       "    </tr>\n",
       "  </tbody>\n",
       "</table>\n",
       "</div>"
      ],
      "text/plain": [
       "                         user\n",
       "event                        \n",
       "MainScreenAppear         7423\n",
       "OffersScreenAppear       4597\n",
       "CartScreenAppear         3736\n",
       "PaymentScreenSuccessful  3540\n",
       "Tutorial                  843"
      ]
     },
     "execution_count": 24,
     "metadata": {},
     "output_type": "execute_result"
    }
   ],
   "source": [
    "event_funnel = logs_act.pivot_table(index='event', values='user', aggfunc='nunique').sort_values(by='user', ascending=False)\n",
    "event_funnel"
   ]
  },
  {
   "cell_type": "markdown",
   "metadata": {},
   "source": [
    "Посчитаем долю пользователей, которые хоть раз совершали событие."
   ]
  },
  {
   "cell_type": "code",
   "execution_count": 25,
   "metadata": {},
   "outputs": [
    {
     "data": {
      "text/html": [
       "<div>\n",
       "<style scoped>\n",
       "    .dataframe tbody tr th:only-of-type {\n",
       "        vertical-align: middle;\n",
       "    }\n",
       "\n",
       "    .dataframe tbody tr th {\n",
       "        vertical-align: top;\n",
       "    }\n",
       "\n",
       "    .dataframe thead th {\n",
       "        text-align: right;\n",
       "    }\n",
       "</style>\n",
       "<table border=\"1\" class=\"dataframe\">\n",
       "  <thead>\n",
       "    <tr style=\"text-align: right;\">\n",
       "      <th></th>\n",
       "      <th>event</th>\n",
       "      <th>users_share</th>\n",
       "    </tr>\n",
       "  </thead>\n",
       "  <tbody>\n",
       "    <tr>\n",
       "      <th>1</th>\n",
       "      <td>MainScreenAppear</td>\n",
       "      <td>0.98</td>\n",
       "    </tr>\n",
       "    <tr>\n",
       "      <th>2</th>\n",
       "      <td>OffersScreenAppear</td>\n",
       "      <td>0.61</td>\n",
       "    </tr>\n",
       "    <tr>\n",
       "      <th>0</th>\n",
       "      <td>CartScreenAppear</td>\n",
       "      <td>0.50</td>\n",
       "    </tr>\n",
       "    <tr>\n",
       "      <th>3</th>\n",
       "      <td>PaymentScreenSuccessful</td>\n",
       "      <td>0.47</td>\n",
       "    </tr>\n",
       "    <tr>\n",
       "      <th>4</th>\n",
       "      <td>Tutorial</td>\n",
       "      <td>0.11</td>\n",
       "    </tr>\n",
       "  </tbody>\n",
       "</table>\n",
       "</div>"
      ],
      "text/plain": [
       "                     event  users_share\n",
       "1         MainScreenAppear         0.98\n",
       "2       OffersScreenAppear         0.61\n",
       "0         CartScreenAppear         0.50\n",
       "3  PaymentScreenSuccessful         0.47\n",
       "4                 Tutorial         0.11"
      ]
     },
     "execution_count": 25,
     "metadata": {},
     "output_type": "execute_result"
    }
   ],
   "source": [
    "users_part_by_event = round(logs_act.pivot_table(index='event', values='user', aggfunc='nunique')/\n",
    "                            logs_act['user'].nunique(), 2).reset_index().sort_values(by='user', ascending=False)\n",
    "users_part_by_event.columns = ('event', 'users_share')\n",
    "users_part_by_event"
   ]
  },
  {
   "cell_type": "markdown",
   "metadata": {},
   "source": [
    "Исходя из данных мы видим следующую последовательность событий: `MainScreenAppear` → `OffersScreenAppear` → `CartScreenAppear` → `PaymentScreenSuccessful`, т.е пользователь последовательно проходит главный экран, экран с товарами, экран корзины, экран подтверждения оплаты. Также 11% пользователей посещают экран `Tutorial`, но это событие нельзя отнести к последовательной цепочке событий, связанных с продажами, поэтому не будем учитывать это событие при расчетах."
   ]
  },
  {
   "cell_type": "markdown",
   "metadata": {},
   "source": [
    "По воронке событий посчитаем, какая доля пользователей проходит на следующий шаг воронки (от числа пользователей на предыдущем). Для этого сначала выделим количество пользователей каждого события в отдельную переменную."
   ]
  },
  {
   "cell_type": "code",
   "execution_count": 26,
   "metadata": {},
   "outputs": [
    {
     "name": "stdout",
     "output_type": "stream",
     "text": [
      "Количество пользователей, совершивших событие MainScreeenAppear равно 7423\n"
     ]
    }
   ],
   "source": [
    "users_share_msa = logs_act.query('event == \"MainScreenAppear\"')['user'].nunique()\n",
    "print('Количество пользователей, совершивших событие MainScreeenAppear равно', users_share_msa)"
   ]
  },
  {
   "cell_type": "code",
   "execution_count": 27,
   "metadata": {},
   "outputs": [
    {
     "name": "stdout",
     "output_type": "stream",
     "text": [
      "Количество пользователей, совершивших событие OffersScreeenAppear равно 4597\n"
     ]
    }
   ],
   "source": [
    "users_share_osa = logs_act.query('event == \"OffersScreenAppear\"')['user'].nunique()\n",
    "print('Количество пользователей, совершивших событие OffersScreeenAppear равно', users_share_osa)"
   ]
  },
  {
   "cell_type": "code",
   "execution_count": 28,
   "metadata": {},
   "outputs": [
    {
     "name": "stdout",
     "output_type": "stream",
     "text": [
      "Количество пользователей, совершивших событие CartScreeenAppear равно 3736\n"
     ]
    }
   ],
   "source": [
    "users_share_csa = logs_act.query('event == \"CartScreenAppear\"')['user'].nunique()\n",
    "print('Количество пользователей, совершивших событие CartScreeenAppear равно', users_share_csa)"
   ]
  },
  {
   "cell_type": "code",
   "execution_count": 29,
   "metadata": {},
   "outputs": [
    {
     "name": "stdout",
     "output_type": "stream",
     "text": [
      "Количество пользователей, совершивших событие PaymentScreenSuccessful равно 3540\n"
     ]
    }
   ],
   "source": [
    "users_share_pss = logs_act.query('event == \"PaymentScreenSuccessful\"')['user'].nunique()\n",
    "print('Количество пользователей, совершивших событие PaymentScreenSuccessful равно', users_share_pss)"
   ]
  },
  {
   "cell_type": "code",
   "execution_count": 30,
   "metadata": {},
   "outputs": [
    {
     "name": "stdout",
     "output_type": "stream",
     "text": [
      "Доля пользователей, прошедших на шаг OfferScreenAppear равна 0.62\n"
     ]
    }
   ],
   "source": [
    "users_share_osa_msa = round(users_share_osa / users_share_msa, 2)\n",
    "print('Доля пользователей, прошедших на шаг OfferScreenAppear равна', users_share_osa_msa)"
   ]
  },
  {
   "cell_type": "code",
   "execution_count": 31,
   "metadata": {},
   "outputs": [
    {
     "name": "stdout",
     "output_type": "stream",
     "text": [
      "Доля пользователей, прошедших на шаг CartScreenAppear равна 0.81\n"
     ]
    }
   ],
   "source": [
    "users_share_csa_osa = round(users_share_csa / users_share_osa, 2)\n",
    "print('Доля пользователей, прошедших на шаг CartScreenAppear равна', users_share_csa_osa)"
   ]
  },
  {
   "cell_type": "code",
   "execution_count": 32,
   "metadata": {},
   "outputs": [
    {
     "name": "stdout",
     "output_type": "stream",
     "text": [
      "Доля пользователей, прошедших на шаг CartScreenAppear равна 0.95\n"
     ]
    }
   ],
   "source": [
    "users_share_pss_csa = round(users_share_pss / users_share_csa, 2)\n",
    "print('Доля пользователей, прошедших на шаг CartScreenAppear равна', users_share_pss_csa)"
   ]
  },
  {
   "cell_type": "markdown",
   "metadata": {},
   "source": [
    "Больше всего пользователей теряется при переходе к событию `OfferScreenAppear` - 38%."
   ]
  },
  {
   "cell_type": "markdown",
   "metadata": {},
   "source": [
    "Посчитаем также, какая доля пользователей доходит от первого события до оплаты."
   ]
  },
  {
   "cell_type": "code",
   "execution_count": 33,
   "metadata": {},
   "outputs": [
    {
     "name": "stdout",
     "output_type": "stream",
     "text": [
      "Доля пользователей, дошедших от первого события до оплаты, равна 0.48\n"
     ]
    }
   ],
   "source": [
    "users_share_pss_msa = round(users_share_pss / users_share_msa, 2)\n",
    "print('Доля пользователей, дошедших от первого события до оплаты, равна', users_share_pss_msa)"
   ]
  },
  {
   "cell_type": "markdown",
   "metadata": {},
   "source": [
    "Построим столбчатую диаграмму воронки событий по количетву пользователей."
   ]
  },
  {
   "cell_type": "code",
   "execution_count": 34,
   "metadata": {},
   "outputs": [
    {
     "data": {
      "text/html": [
       "<div>\n",
       "<style scoped>\n",
       "    .dataframe tbody tr th:only-of-type {\n",
       "        vertical-align: middle;\n",
       "    }\n",
       "\n",
       "    .dataframe tbody tr th {\n",
       "        vertical-align: top;\n",
       "    }\n",
       "\n",
       "    .dataframe thead th {\n",
       "        text-align: right;\n",
       "    }\n",
       "</style>\n",
       "<table border=\"1\" class=\"dataframe\">\n",
       "  <thead>\n",
       "    <tr style=\"text-align: right;\">\n",
       "      <th></th>\n",
       "      <th>user</th>\n",
       "    </tr>\n",
       "    <tr>\n",
       "      <th>event</th>\n",
       "      <th></th>\n",
       "    </tr>\n",
       "  </thead>\n",
       "  <tbody>\n",
       "    <tr>\n",
       "      <th>MainScreenAppear</th>\n",
       "      <td>7423</td>\n",
       "    </tr>\n",
       "    <tr>\n",
       "      <th>OffersScreenAppear</th>\n",
       "      <td>4597</td>\n",
       "    </tr>\n",
       "    <tr>\n",
       "      <th>CartScreenAppear</th>\n",
       "      <td>3736</td>\n",
       "    </tr>\n",
       "    <tr>\n",
       "      <th>PaymentScreenSuccessful</th>\n",
       "      <td>3540</td>\n",
       "    </tr>\n",
       "  </tbody>\n",
       "</table>\n",
       "</div>"
      ],
      "text/plain": [
       "                         user\n",
       "event                        \n",
       "MainScreenAppear         7423\n",
       "OffersScreenAppear       4597\n",
       "CartScreenAppear         3736\n",
       "PaymentScreenSuccessful  3540"
      ]
     },
     "execution_count": 34,
     "metadata": {},
     "output_type": "execute_result"
    }
   ],
   "source": [
    "event_funnel_act = event_funnel.query('event != \"Tutorial\"')\n",
    "event_funnel_act"
   ]
  },
  {
   "cell_type": "code",
   "execution_count": 35,
   "metadata": {},
   "outputs": [
    {
     "data": {
      "image/png": "[encoded data removed]",
      "text/plain": [
       "<Figure size 1900x1000 with 1 Axes>"
      ]
     },
     "metadata": {},
     "output_type": "display_data"
    }
   ],
   "source": [
    "event_funnel_act.plot(kind='barh', figsize=(19, 10))\n",
    "plt.title('Воронка событий', fontsize = 20)\n",
    "plt.xlabel('Количество пользователей', fontsize=15)\n",
    "plt.ylabel('Событие', fontsize=15)\n",
    "plt.grid(True);"
   ]
  },
  {
   "cell_type": "markdown",
   "metadata": {},
   "source": [
    "На этом этапе было изучено, какие события есть в логах, и как часто они встречаются. \n",
    "\n",
    "Было посчитано, сколько пользователей совершали каждое из событий, а также доля пользователей, которые хоть раз совершали событие.\n",
    "\n",
    "Было описано, в каком порядке происходят события, какие события выстраиваются в последовательную цепочку, а какие нет.\n",
    "\n",
    "По воронке событий было посчитано, какая доля пользователей проходит на следующий шаг воронки (от числа пользователей на предыдущем).\n",
    "\n",
    "Было определено, на каком шаге теряете больше всего пользователей, а также, какая доля пользователей доходит от первого события до оплаты."
   ]
  },
  {
   "cell_type": "markdown",
   "metadata": {},
   "source": [
    "### Шаг 5. Изучим результаты эксперимента"
   ]
  },
  {
   "cell_type": "markdown",
   "metadata": {},
   "source": [
    "У нас есть данные, сколько пользователей в каждой экспериментальной группе."
   ]
  },
  {
   "cell_type": "code",
   "execution_count": 36,
   "metadata": {},
   "outputs": [
    {
     "data": {
      "text/html": [
       "<div>\n",
       "<style scoped>\n",
       "    .dataframe tbody tr th:only-of-type {\n",
       "        vertical-align: middle;\n",
       "    }\n",
       "\n",
       "    .dataframe tbody tr th {\n",
       "        vertical-align: top;\n",
       "    }\n",
       "\n",
       "    .dataframe thead th {\n",
       "        text-align: right;\n",
       "    }\n",
       "</style>\n",
       "<table border=\"1\" class=\"dataframe\">\n",
       "  <thead>\n",
       "    <tr style=\"text-align: right;\">\n",
       "      <th></th>\n",
       "      <th>group</th>\n",
       "      <th>users_number</th>\n",
       "    </tr>\n",
       "  </thead>\n",
       "  <tbody>\n",
       "    <tr>\n",
       "      <th>0</th>\n",
       "      <td>246</td>\n",
       "      <td>2484</td>\n",
       "    </tr>\n",
       "    <tr>\n",
       "      <th>1</th>\n",
       "      <td>247</td>\n",
       "      <td>2517</td>\n",
       "    </tr>\n",
       "    <tr>\n",
       "      <th>2</th>\n",
       "      <td>248</td>\n",
       "      <td>2537</td>\n",
       "    </tr>\n",
       "  </tbody>\n",
       "</table>\n",
       "</div>"
      ],
      "text/plain": [
       "   group  users_number\n",
       "0    246          2484\n",
       "1    247          2517\n",
       "2    248          2537"
      ]
     },
     "execution_count": 36,
     "metadata": {},
     "output_type": "execute_result"
    }
   ],
   "source": [
    "users_by_group = users_by_group.reset_index()\n",
    "users_by_group.columns = ('group', 'users_number')\n",
    "users_by_group"
   ]
  },
  {
   "cell_type": "markdown",
   "metadata": {},
   "source": [
    "Есть 2 контрольные группы для А/А-эксперимента, чтобы проверить корректность всех механизмов и расчётов. Проверим, находят ли статистические критерии разницу между выборками 246 и 247."
   ]
  },
  {
   "cell_type": "markdown",
   "metadata": {},
   "source": [
    "Самым популярным событием является `MainScreenAppear` . Посчитаем число пользователей, совершивших это событие в каждой из контрольных групп, а также долю пользователей, совершивших это событие. Для этого сначала запишем вотдельные переменные количество пользователей каждой группы."
   ]
  },
  {
   "cell_type": "code",
   "execution_count": 37,
   "metadata": {},
   "outputs": [
    {
     "name": "stdout",
     "output_type": "stream",
     "text": [
      "Количество пользователей в группе 246 равно 2484\n",
      "Количество пользователей в группе 247 равно 2517\n"
     ]
    }
   ],
   "source": [
    "users_246 = logs_act.query('group == 246')['user'].nunique()\n",
    "print('Количество пользователей в группе 246 равно', users_246)\n",
    "users_247 = logs_act.query('group == 247')['user'].nunique()\n",
    "print('Количество пользователей в группе 247 равно', users_247)"
   ]
  },
  {
   "cell_type": "code",
   "execution_count": 38,
   "metadata": {},
   "outputs": [
    {
     "name": "stdout",
     "output_type": "stream",
     "text": [
      "Количество пользователей группы 246, совершивших событие MainScreenAppear равно 2450\n",
      "Количество пользователей группы 247, совершивших событие MainScreenAppear равно 2479\n"
     ]
    }
   ],
   "source": [
    "users_246_msa = logs_act.query('event == \"MainScreenAppear\" and group == 246')['user'].nunique()\n",
    "print('Количество пользователей группы 246, совершивших событие MainScreenAppear равно', users_246_msa)\n",
    "users_247_msa = logs_act.query('event == \"MainScreenAppear\" and group == 247')['user'].nunique()\n",
    "print('Количество пользователей группы 247, совершивших событие MainScreenAppear равно', users_247_msa)"
   ]
  },
  {
   "cell_type": "code",
   "execution_count": 39,
   "metadata": {},
   "outputs": [
    {
     "name": "stdout",
     "output_type": "stream",
     "text": [
      "Доля пользователей группы 246, совершивших событие MainScreenAppear равно 0.99\n",
      "Доля пользователей группы 247, совершивших событие MainScreenAppear равно 0.98\n"
     ]
    }
   ],
   "source": [
    "users_246_msa_share = round(users_246_msa / users_246, 2)\n",
    "print('Доля пользователей группы 246, совершивших событие MainScreenAppear равно', users_246_msa_share)\n",
    "users_247_msa_share = round(users_247_msa / users_247, 2)\n",
    "print('Доля пользователей группы 247, совершивших событие MainScreenAppear равно', users_247_msa_share)"
   ]
  },
  {
   "cell_type": "markdown",
   "metadata": {},
   "source": [
    "Проверим, будет ли отличие между группами статистически достоверным. Проделаем то же самое для всех других событий."
   ]
  },
  {
   "cell_type": "markdown",
   "metadata": {},
   "source": [
    "Для этого подготовим данные. Рассчитаем количество пользователь каждого события по группам."
   ]
  },
  {
   "cell_type": "code",
   "execution_count": 40,
   "metadata": {},
   "outputs": [
    {
     "data": {
      "text/html": [
       "<div>\n",
       "<style scoped>\n",
       "    .dataframe tbody tr th:only-of-type {\n",
       "        vertical-align: middle;\n",
       "    }\n",
       "\n",
       "    .dataframe tbody tr th {\n",
       "        vertical-align: top;\n",
       "    }\n",
       "\n",
       "    .dataframe thead th {\n",
       "        text-align: right;\n",
       "    }\n",
       "</style>\n",
       "<table border=\"1\" class=\"dataframe\">\n",
       "  <thead>\n",
       "    <tr style=\"text-align: right;\">\n",
       "      <th></th>\n",
       "      <th>event</th>\n",
       "      <th>246</th>\n",
       "      <th>247</th>\n",
       "      <th>248</th>\n",
       "    </tr>\n",
       "  </thead>\n",
       "  <tbody>\n",
       "    <tr>\n",
       "      <th>0</th>\n",
       "      <td>MainScreenAppear</td>\n",
       "      <td>2450</td>\n",
       "      <td>2479</td>\n",
       "      <td>2494</td>\n",
       "    </tr>\n",
       "    <tr>\n",
       "      <th>1</th>\n",
       "      <td>OffersScreenAppear</td>\n",
       "      <td>1542</td>\n",
       "      <td>1524</td>\n",
       "      <td>1531</td>\n",
       "    </tr>\n",
       "    <tr>\n",
       "      <th>2</th>\n",
       "      <td>CartScreenAppear</td>\n",
       "      <td>1266</td>\n",
       "      <td>1239</td>\n",
       "      <td>1231</td>\n",
       "    </tr>\n",
       "    <tr>\n",
       "      <th>3</th>\n",
       "      <td>PaymentScreenSuccessful</td>\n",
       "      <td>1200</td>\n",
       "      <td>1158</td>\n",
       "      <td>1182</td>\n",
       "    </tr>\n",
       "  </tbody>\n",
       "</table>\n",
       "</div>"
      ],
      "text/plain": [
       "                     event   246   247   248\n",
       "0         MainScreenAppear  2450  2479  2494\n",
       "1       OffersScreenAppear  1542  1524  1531\n",
       "2         CartScreenAppear  1266  1239  1231\n",
       "3  PaymentScreenSuccessful  1200  1158  1182"
      ]
     },
     "execution_count": 40,
     "metadata": {},
     "output_type": "execute_result"
    }
   ],
   "source": [
    "test_data = logs_act.query('event != \"Tutorial\"').pivot_table(\n",
    "    index='event', columns = 'group', values='user', aggfunc='nunique').reset_index()\n",
    "test_data.columns = ('event', '246', '247', '248')\n",
    "test_data = test_data.sort_values(by='246', ascending=False).reset_index(drop=True)\n",
    "test_data"
   ]
  },
  {
   "cell_type": "markdown",
   "metadata": {},
   "source": [
    "Сформулируем гипотеы. \n",
    "\n",
    "Нулевая гипотеза: между долями пользователей, совершившия события, в группах нет статистически значимой разницы. \n",
    "    \n",
    "Альтернптивная гипотеза: между долями пользователей, совершившия события, в группах есть статистически значимая разница."
   ]
  },
  {
   "cell_type": "markdown",
   "metadata": {},
   "source": [
    "Примем уровень статистической значимости равным 0.05."
   ]
  },
  {
   "cell_type": "code",
   "execution_count": 41,
   "metadata": {},
   "outputs": [],
   "source": [
    "alpha = 0.05"
   ]
  },
  {
   "cell_type": "markdown",
   "metadata": {},
   "source": [
    "Напишем функцию для проверки гипотез."
   ]
  },
  {
   "cell_type": "code",
   "execution_count": 42,
   "metadata": {},
   "outputs": [],
   "source": [
    "def ztest(df1, df2, group1, group2, alpha):\n",
    "    for i in range(df1.shape[0]):\n",
    "        users_on_step = np.array([df1[group1][i], df1[group2][i]])\n",
    "        users_in_group = np.array([df2[df2['group'] == int(group1)]['users_number'].values[0],\n",
    "                                   df2[df2['group'] == int(group2)]['users_number'].values[0]])\n",
    "        p1 = users_on_step[0]/users_in_group[0]\n",
    "        p2 = users_on_step[1]/users_in_group[1]\n",
    "        p_combined = (users_on_step[0] + users_on_step[1]) / (users_in_group[0] + users_in_group[1])\n",
    "        difference = p1 - p2\n",
    "        z_value = difference / mth.sqrt(p_combined * (1 - p_combined) * (1/users_in_group[0] + 1/users_in_group[1]))\n",
    "        distr = st.norm(0, 1)\n",
    "        p_value = (1 - distr.cdf(abs(z_value))) * 2\n",
    "        if p_value < alpha:\n",
    "            print('Отвергаем нулевую гипотезу:  между долями пользователей события', df1['event'][i],\n",
    "                  'в группах', group1, 'и', group2, 'есть статистически значимая разница')\n",
    "        else:\n",
    "            print('Не можем отвергнуть нулевую гипотезу, между долями пользователей события', df1['event'][i],\n",
    "                  'в группах', group1, 'и', group2, 'нет статистически значимой разницы')\n",
    "        print('p-value =', p_value, 'при alpha =', alpha)"
   ]
  },
  {
   "cell_type": "markdown",
   "metadata": {},
   "source": [
    "Сравним две контрольные группы 246 и 247."
   ]
  },
  {
   "cell_type": "code",
   "execution_count": 43,
   "metadata": {},
   "outputs": [
    {
     "name": "stdout",
     "output_type": "stream",
     "text": [
      "Не можем отвергнуть нулевую гипотезу, между долями пользователей события MainScreenAppear в группах 246 и 247 нет статистически значимой разницы\n",
      "p-value = 0.6756217702005545 при alpha = 0.05\n",
      "Не можем отвергнуть нулевую гипотезу, между долями пользователей события OffersScreenAppear в группах 246 и 247 нет статистически значимой разницы\n",
      "p-value = 0.26698769175859516 при alpha = 0.05\n",
      "Не можем отвергнуть нулевую гипотезу, между долями пользователей события CartScreenAppear в группах 246 и 247 нет статистически значимой разницы\n",
      "p-value = 0.2182812140633792 при alpha = 0.05\n",
      "Не можем отвергнуть нулевую гипотезу, между долями пользователей события PaymentScreenSuccessful в группах 246 и 247 нет статистически значимой разницы\n",
      "p-value = 0.10298394982948822 при alpha = 0.05\n"
     ]
    }
   ],
   "source": [
    "ztest(test_data, users_by_group, '246', '247', alpha)"
   ]
  },
  {
   "cell_type": "markdown",
   "metadata": {},
   "source": [
    "По результатам проверки можно сказать, что разбиение на группы работает корректно, группы не отличаются между собой."
   ]
  },
  {
   "cell_type": "markdown",
   "metadata": {},
   "source": [
    "Теперь сраним группу с изменённым шрифтом с каждой из контрольных групп."
   ]
  },
  {
   "cell_type": "markdown",
   "metadata": {},
   "source": [
    "Сравним группы 246 и 248."
   ]
  },
  {
   "cell_type": "code",
   "execution_count": 44,
   "metadata": {},
   "outputs": [
    {
     "name": "stdout",
     "output_type": "stream",
     "text": [
      "Не можем отвергнуть нулевую гипотезу, между долями пользователей события MainScreenAppear в группах 246 и 248 нет статистически значимой разницы\n",
      "p-value = 0.34705881021236484 при alpha = 0.05\n",
      "Не можем отвергнуть нулевую гипотезу, между долями пользователей события OffersScreenAppear в группах 246 и 248 нет статистически значимой разницы\n",
      "p-value = 0.20836205402738917 при alpha = 0.05\n",
      "Не можем отвергнуть нулевую гипотезу, между долями пользователей события CartScreenAppear в группах 246 и 248 нет статистически значимой разницы\n",
      "p-value = 0.08328412977507749 при alpha = 0.05\n",
      "Не можем отвергнуть нулевую гипотезу, между долями пользователей события PaymentScreenSuccessful в группах 246 и 248 нет статистически значимой разницы\n",
      "p-value = 0.22269358994682742 при alpha = 0.05\n"
     ]
    }
   ],
   "source": [
    "ztest(test_data, users_by_group, '246', '248', alpha)"
   ]
  },
  {
   "cell_type": "markdown",
   "metadata": {},
   "source": [
    "Сравним группы 247 и 248."
   ]
  },
  {
   "cell_type": "code",
   "execution_count": 45,
   "metadata": {},
   "outputs": [
    {
     "name": "stdout",
     "output_type": "stream",
     "text": [
      "Не можем отвергнуть нулевую гипотезу, между долями пользователей события MainScreenAppear в группах 247 и 248 нет статистически значимой разницы\n",
      "p-value = 0.6001661582453706 при alpha = 0.05\n",
      "Не можем отвергнуть нулевую гипотезу, между долями пользователей события OffersScreenAppear в группах 247 и 248 нет статистически значимой разницы\n",
      "p-value = 0.8835956656016957 при alpha = 0.05\n",
      "Не можем отвергнуть нулевую гипотезу, между долями пользователей события CartScreenAppear в группах 247 и 248 нет статистически значимой разницы\n",
      "p-value = 0.6169517476996997 при alpha = 0.05\n",
      "Не можем отвергнуть нулевую гипотезу, между долями пользователей события PaymentScreenSuccessful в группах 247 и 248 нет статистически значимой разницы\n",
      "p-value = 0.6775413642906454 при alpha = 0.05\n"
     ]
    }
   ],
   "source": [
    "ztest(test_data, users_by_group, '247', '248', alpha)"
   ]
  },
  {
   "cell_type": "markdown",
   "metadata": {},
   "source": [
    "Теперь сраним группу с изменённым шрифтом с объединённой контрольной группой."
   ]
  },
  {
   "cell_type": "markdown",
   "metadata": {},
   "source": [
    "Обозначим объединенную контрольную группу номером 249 и посчитаем количество пользователей в этой группе, добавим данные в таблицу `users_by_group`."
   ]
  },
  {
   "cell_type": "code",
   "execution_count": 46,
   "metadata": {},
   "outputs": [
    {
     "data": {
      "text/html": [
       "<div>\n",
       "<style scoped>\n",
       "    .dataframe tbody tr th:only-of-type {\n",
       "        vertical-align: middle;\n",
       "    }\n",
       "\n",
       "    .dataframe tbody tr th {\n",
       "        vertical-align: top;\n",
       "    }\n",
       "\n",
       "    .dataframe thead th {\n",
       "        text-align: right;\n",
       "    }\n",
       "</style>\n",
       "<table border=\"1\" class=\"dataframe\">\n",
       "  <thead>\n",
       "    <tr style=\"text-align: right;\">\n",
       "      <th></th>\n",
       "      <th>group</th>\n",
       "      <th>users_number</th>\n",
       "    </tr>\n",
       "  </thead>\n",
       "  <tbody>\n",
       "    <tr>\n",
       "      <th>0</th>\n",
       "      <td>246</td>\n",
       "      <td>2484</td>\n",
       "    </tr>\n",
       "    <tr>\n",
       "      <th>1</th>\n",
       "      <td>247</td>\n",
       "      <td>2517</td>\n",
       "    </tr>\n",
       "    <tr>\n",
       "      <th>2</th>\n",
       "      <td>248</td>\n",
       "      <td>2537</td>\n",
       "    </tr>\n",
       "    <tr>\n",
       "      <th>3</th>\n",
       "      <td>249</td>\n",
       "      <td>5001</td>\n",
       "    </tr>\n",
       "  </tbody>\n",
       "</table>\n",
       "</div>"
      ],
      "text/plain": [
       "   group  users_number\n",
       "0    246          2484\n",
       "1    247          2517\n",
       "2    248          2537\n",
       "3    249          5001"
      ]
     },
     "execution_count": 46,
     "metadata": {},
     "output_type": "execute_result"
    }
   ],
   "source": [
    "users_249 = logs_act.query('group == 246 or group == 247')['user'].nunique()\n",
    "users_by_group.loc[len(users_by_group.index )] = [249, users_249]\n",
    "users_by_group"
   ]
  },
  {
   "cell_type": "code",
   "execution_count": 47,
   "metadata": {},
   "outputs": [
    {
     "data": {
      "text/html": [
       "<div>\n",
       "<style scoped>\n",
       "    .dataframe tbody tr th:only-of-type {\n",
       "        vertical-align: middle;\n",
       "    }\n",
       "\n",
       "    .dataframe tbody tr th {\n",
       "        vertical-align: top;\n",
       "    }\n",
       "\n",
       "    .dataframe thead th {\n",
       "        text-align: right;\n",
       "    }\n",
       "</style>\n",
       "<table border=\"1\" class=\"dataframe\">\n",
       "  <thead>\n",
       "    <tr style=\"text-align: right;\">\n",
       "      <th></th>\n",
       "      <th>event</th>\n",
       "      <th>246</th>\n",
       "      <th>247</th>\n",
       "      <th>248</th>\n",
       "      <th>249</th>\n",
       "    </tr>\n",
       "  </thead>\n",
       "  <tbody>\n",
       "    <tr>\n",
       "      <th>0</th>\n",
       "      <td>MainScreenAppear</td>\n",
       "      <td>2450</td>\n",
       "      <td>2479</td>\n",
       "      <td>2494</td>\n",
       "      <td>4929</td>\n",
       "    </tr>\n",
       "    <tr>\n",
       "      <th>1</th>\n",
       "      <td>OffersScreenAppear</td>\n",
       "      <td>1542</td>\n",
       "      <td>1524</td>\n",
       "      <td>1531</td>\n",
       "      <td>3066</td>\n",
       "    </tr>\n",
       "    <tr>\n",
       "      <th>2</th>\n",
       "      <td>CartScreenAppear</td>\n",
       "      <td>1266</td>\n",
       "      <td>1239</td>\n",
       "      <td>1231</td>\n",
       "      <td>2505</td>\n",
       "    </tr>\n",
       "    <tr>\n",
       "      <th>3</th>\n",
       "      <td>PaymentScreenSuccessful</td>\n",
       "      <td>1200</td>\n",
       "      <td>1158</td>\n",
       "      <td>1182</td>\n",
       "      <td>2358</td>\n",
       "    </tr>\n",
       "  </tbody>\n",
       "</table>\n",
       "</div>"
      ],
      "text/plain": [
       "                     event   246   247   248   249\n",
       "0         MainScreenAppear  2450  2479  2494  4929\n",
       "1       OffersScreenAppear  1542  1524  1531  3066\n",
       "2         CartScreenAppear  1266  1239  1231  2505\n",
       "3  PaymentScreenSuccessful  1200  1158  1182  2358"
      ]
     },
     "execution_count": 47,
     "metadata": {},
     "output_type": "execute_result"
    }
   ],
   "source": [
    "test_data['249'] = test_data['246'] + test_data['247']\n",
    "test_data"
   ]
  },
  {
   "cell_type": "markdown",
   "metadata": {},
   "source": [
    "Сравним группы 248 и 249."
   ]
  },
  {
   "cell_type": "code",
   "execution_count": 48,
   "metadata": {},
   "outputs": [
    {
     "name": "stdout",
     "output_type": "stream",
     "text": [
      "Не можем отвергнуть нулевую гипотезу, между долями пользователей события MainScreenAppear в группах 248 и 249 нет статистически значимой разницы\n",
      "p-value = 0.39298914928006035 при alpha = 0.05\n",
      "Не можем отвергнуть нулевую гипотезу, между долями пользователей события OffersScreenAppear в группах 248 и 249 нет статистически значимой разницы\n",
      "p-value = 0.418998284007599 при alpha = 0.05\n",
      "Не можем отвергнуть нулевую гипотезу, между долями пользователей события CartScreenAppear в группах 248 и 249 нет статистически значимой разницы\n",
      "p-value = 0.19819340844527744 при alpha = 0.05\n",
      "Не можем отвергнуть нулевую гипотезу, между долями пользователей события PaymentScreenSuccessful в группах 248 и 249 нет статистически значимой разницы\n",
      "p-value = 0.6452057673098244 при alpha = 0.05\n"
     ]
    }
   ],
   "source": [
    "ztest(test_data, users_by_group, '248', '249', alpha)"
   ]
  },
  {
   "cell_type": "markdown",
   "metadata": {},
   "source": [
    "По результатам сравнения группы с измененным шрифтом с двумя контрольными группами по отдельности и с объединенной контрольной группой можно сделать вывод, что изменение шрифта не повлекло значительных изменений в доле пользователей, совершавших каждое из событий. Контрольные и тестовые группы не имеют статистически значимых различий.\n",
    "\n",
    "Мы принимали уровень статистической значимости равны 0.05. Мы провели 16 проверок статистических гипотез. При уровне значимости 0.05 в 5% случаев можно ошибочно отклонить нулевую гипотезу при условии, что она верна. "
   ]
  },
  {
   "cell_type": "markdown",
   "metadata": {},
   "source": [
    "В данном случае не требуется корректировать имеющийся уровень значимости, т.к. он уже достаточно низкий и при этом мы не можем отвергнуть нулевую гипотезу ни в одном тесте. Корректировка будет дополнительно снижать уровень значимости, и в этом случае мы практически всегда будем оказываться в ситуации, когда нулевая гипотеза не отвергается и, возможно, будем совершать частые ошибки второго рода (то есть пострадает мощность теста)."
   ]
  },
  {
   "cell_type": "markdown",
   "metadata": {},
   "source": [
    "### Шаг 6. Общие выводы"
   ]
  },
  {
   "cell_type": "markdown",
   "metadata": {},
   "source": [
    "Целью данного проекта было изучение воронки продаж, а также исследование результатов A/A/B-эксперимента. Мы исследовали лог сервера с информацией о действиях пользователей при использовании приложения. \n",
    "\n",
    "В ходе работы над проектом было пройдено несколько этапов. Сначала данные были подготовлены к анализу, в том числе была проведена проверка на наличие ошибок логирования при проведении эксперимента.\n",
    "\n",
    "На следующем этапе было установлено, что фактически мы располагаем полными данными за 7 дней с 1 по 7 августа 2019 года. За этот период времени у нас есть информация о 240887 событиях, совершенных 7534 пользователелями, которые практически равномерно распределены между двумя контрольными и одной тестовой группами.\n",
    "\n",
    "После этого была изучена воронка событий. Было изучено, какие события есть в логах, и как часто они встречаются.\n",
    "Было посчитано, сколько пользователей совершали каждое из событий, а также доля пользователей, которые хоть раз совершали событие.\n",
    "На основании этих данных была построена воронка продаж и определено, что больше всего пользователей теряется при переходе к событию `OfferScreenAppear` - 38%, а также, что доля пользователей, дошедших от первого события до оплаты, равна 48%.\n",
    "\n",
    "На заключительном этапе были изучены результаты эксперимента. По итогу сравнения группы с измененным шрифтом с двумя контрольными группами по отдельности и с объединенной контрольной группой был сделан вывод, что изменение шрифта не повлекло значительных изменений в доле пользователей, совершавших каждое из событий. Контрольные и тестовые группы не имеют статистически значимых различий, значение `p-value` во всех тестах оказалось больше уровня статистической значимости `alpha`, раного 0.05."
   ]
  },
  {
   "cell_type": "code",
   "execution_count": null,
   "metadata": {},
   "outputs": [],
   "source": []
  }
 ],
 "metadata": {
  "ExecuteTimeLog": [
   {
    "duration": 39,
    "start_time": "2024-06-15T08:25:15.891Z"
   },
   {
    "duration": 340,
    "start_time": "2024-06-15T08:26:59.502Z"
   },
   {
    "duration": 851,
    "start_time": "2024-06-15T08:26:59.844Z"
   },
   {
    "duration": 3,
    "start_time": "2024-06-15T08:27:00.696Z"
   },
   {
    "duration": 312,
    "start_time": "2024-06-15T08:27:00.701Z"
   },
   {
    "duration": 51,
    "start_time": "2024-06-15T08:27:59.198Z"
   },
   {
    "duration": 133,
    "start_time": "2024-06-15T08:28:42.711Z"
   },
   {
    "duration": 370,
    "start_time": "2024-06-15T08:28:51.663Z"
   },
   {
    "duration": 133,
    "start_time": "2024-06-15T08:28:52.035Z"
   },
   {
    "duration": 3,
    "start_time": "2024-06-15T08:28:52.170Z"
   },
   {
    "duration": 77,
    "start_time": "2024-06-15T08:28:52.174Z"
   },
   {
    "duration": 51,
    "start_time": "2024-06-15T09:07:13.220Z"
   },
   {
    "duration": 340,
    "start_time": "2024-06-15T09:07:22.505Z"
   },
   {
    "duration": 147,
    "start_time": "2024-06-15T09:07:22.846Z"
   },
   {
    "duration": 6,
    "start_time": "2024-06-15T09:07:22.994Z"
   },
   {
    "duration": 110,
    "start_time": "2024-06-15T09:07:23.002Z"
   },
   {
    "duration": 53,
    "start_time": "2024-06-15T09:07:23.113Z"
   },
   {
    "duration": 236,
    "start_time": "2024-06-15T09:16:16.645Z"
   },
   {
    "duration": 191,
    "start_time": "2024-06-15T09:16:27.656Z"
   },
   {
    "duration": 124,
    "start_time": "2024-06-15T09:16:42.515Z"
   },
   {
    "duration": 15,
    "start_time": "2024-06-15T09:16:50.239Z"
   },
   {
    "duration": 124,
    "start_time": "2024-06-15T09:17:21.341Z"
   },
   {
    "duration": 11,
    "start_time": "2024-06-15T09:17:23.573Z"
   },
   {
    "duration": 71,
    "start_time": "2024-06-15T09:29:08.716Z"
   },
   {
    "duration": 63,
    "start_time": "2024-06-15T09:29:48.226Z"
   },
   {
    "duration": 234,
    "start_time": "2024-06-15T09:32:42.505Z"
   },
   {
    "duration": 372,
    "start_time": "2024-06-15T09:33:00.968Z"
   },
   {
    "duration": 149,
    "start_time": "2024-06-15T09:33:01.342Z"
   },
   {
    "duration": 3,
    "start_time": "2024-06-15T09:33:01.493Z"
   },
   {
    "duration": 201,
    "start_time": "2024-06-15T09:33:01.497Z"
   },
   {
    "duration": 55,
    "start_time": "2024-06-15T09:33:01.699Z"
   },
   {
    "duration": 3,
    "start_time": "2024-06-15T09:33:01.755Z"
   },
   {
    "duration": 780,
    "start_time": "2024-06-15T09:33:01.759Z"
   },
   {
    "duration": 0,
    "start_time": "2024-06-15T09:33:02.540Z"
   },
   {
    "duration": 111,
    "start_time": "2024-06-15T09:33:21.129Z"
   },
   {
    "duration": 736,
    "start_time": "2024-06-15T09:33:24.825Z"
   },
   {
    "duration": 70,
    "start_time": "2024-06-15T09:34:07.516Z"
   },
   {
    "duration": 361,
    "start_time": "2024-06-15T09:35:00.156Z"
   },
   {
    "duration": 130,
    "start_time": "2024-06-15T09:35:00.519Z"
   },
   {
    "duration": 4,
    "start_time": "2024-06-15T09:35:00.650Z"
   },
   {
    "duration": 123,
    "start_time": "2024-06-15T09:35:00.655Z"
   },
   {
    "duration": 59,
    "start_time": "2024-06-15T09:35:00.780Z"
   },
   {
    "duration": 3,
    "start_time": "2024-06-15T09:35:00.840Z"
   },
   {
    "duration": 109,
    "start_time": "2024-06-15T09:35:00.844Z"
   },
   {
    "duration": 119,
    "start_time": "2024-06-15T09:35:00.955Z"
   },
   {
    "duration": 901,
    "start_time": "2024-06-15T09:35:01.076Z"
   },
   {
    "duration": 0,
    "start_time": "2024-06-15T09:35:01.978Z"
   },
   {
    "duration": 50,
    "start_time": "2024-06-15T09:38:36.892Z"
   },
   {
    "duration": 5,
    "start_time": "2024-06-15T09:39:00.631Z"
   },
   {
    "duration": 71,
    "start_time": "2024-06-15T09:39:05.544Z"
   },
   {
    "duration": 371,
    "start_time": "2024-06-15T09:39:19.077Z"
   },
   {
    "duration": 127,
    "start_time": "2024-06-15T09:39:19.449Z"
   },
   {
    "duration": 3,
    "start_time": "2024-06-15T09:39:19.578Z"
   },
   {
    "duration": 77,
    "start_time": "2024-06-15T09:39:19.582Z"
   },
   {
    "duration": 60,
    "start_time": "2024-06-15T09:39:19.660Z"
   },
   {
    "duration": 6,
    "start_time": "2024-06-15T09:39:19.722Z"
   },
   {
    "duration": 78,
    "start_time": "2024-06-15T09:39:19.729Z"
   },
   {
    "duration": 130,
    "start_time": "2024-06-15T09:39:19.808Z"
   },
   {
    "duration": 786,
    "start_time": "2024-06-15T09:39:19.939Z"
   },
   {
    "duration": 0,
    "start_time": "2024-06-15T09:39:20.727Z"
   },
   {
    "duration": 745,
    "start_time": "2024-06-15T09:39:52.179Z"
   },
   {
    "duration": 7,
    "start_time": "2024-06-15T09:40:16.539Z"
   },
   {
    "duration": 763,
    "start_time": "2024-06-15T09:40:22.598Z"
   },
   {
    "duration": 317,
    "start_time": "2024-06-15T09:41:44.561Z"
   },
   {
    "duration": 159,
    "start_time": "2024-06-15T09:41:44.880Z"
   },
   {
    "duration": 3,
    "start_time": "2024-06-15T09:41:45.040Z"
   },
   {
    "duration": 115,
    "start_time": "2024-06-15T09:41:45.045Z"
   },
   {
    "duration": 61,
    "start_time": "2024-06-15T09:41:45.161Z"
   },
   {
    "duration": 131,
    "start_time": "2024-06-15T09:41:45.223Z"
   },
   {
    "duration": 7,
    "start_time": "2024-06-15T09:41:45.356Z"
   },
   {
    "duration": 86,
    "start_time": "2024-06-15T09:41:45.364Z"
   },
   {
    "duration": 70,
    "start_time": "2024-06-15T09:41:45.451Z"
   },
   {
    "duration": 0,
    "start_time": "2024-06-15T09:41:45.522Z"
   },
   {
    "duration": 5,
    "start_time": "2024-06-15T09:41:55.529Z"
   },
   {
    "duration": 87,
    "start_time": "2024-06-15T09:42:00.138Z"
   },
   {
    "duration": 847,
    "start_time": "2024-06-15T09:42:31.449Z"
   },
   {
    "duration": 6,
    "start_time": "2024-06-15T09:42:32.899Z"
   },
   {
    "duration": 310,
    "start_time": "2024-06-15T09:42:45.552Z"
   },
   {
    "duration": 144,
    "start_time": "2024-06-15T09:42:45.863Z"
   },
   {
    "duration": 3,
    "start_time": "2024-06-15T09:42:46.008Z"
   },
   {
    "duration": 76,
    "start_time": "2024-06-15T09:42:46.013Z"
   },
   {
    "duration": 63,
    "start_time": "2024-06-15T09:42:46.090Z"
   },
   {
    "duration": 152,
    "start_time": "2024-06-15T09:42:46.155Z"
   },
   {
    "duration": 5,
    "start_time": "2024-06-15T09:42:46.309Z"
   },
   {
    "duration": 69,
    "start_time": "2024-06-15T09:42:46.315Z"
   },
   {
    "duration": 879,
    "start_time": "2024-06-15T09:42:46.386Z"
   },
   {
    "duration": 0,
    "start_time": "2024-06-15T09:42:47.266Z"
   },
   {
    "duration": 4,
    "start_time": "2024-06-15T09:42:55.218Z"
   },
   {
    "duration": 68,
    "start_time": "2024-06-15T09:42:58.282Z"
   },
   {
    "duration": 780,
    "start_time": "2024-06-15T09:43:56.936Z"
   },
   {
    "duration": 291,
    "start_time": "2024-06-15T09:44:05.451Z"
   },
   {
    "duration": 128,
    "start_time": "2024-06-15T09:44:05.744Z"
   },
   {
    "duration": 3,
    "start_time": "2024-06-15T09:44:05.873Z"
   },
   {
    "duration": 79,
    "start_time": "2024-06-15T09:44:05.878Z"
   },
   {
    "duration": 61,
    "start_time": "2024-06-15T09:44:05.958Z"
   },
   {
    "duration": 126,
    "start_time": "2024-06-15T09:44:06.020Z"
   },
   {
    "duration": 9,
    "start_time": "2024-06-15T09:44:06.147Z"
   },
   {
    "duration": 87,
    "start_time": "2024-06-15T09:44:06.158Z"
   },
   {
    "duration": 231,
    "start_time": "2024-06-15T09:44:06.246Z"
   },
   {
    "duration": 0,
    "start_time": "2024-06-15T09:44:06.478Z"
   },
   {
    "duration": 5,
    "start_time": "2024-06-15T09:44:12.776Z"
   },
   {
    "duration": 68,
    "start_time": "2024-06-15T09:44:16.249Z"
   },
   {
    "duration": 318,
    "start_time": "2024-06-15T09:48:11.630Z"
   },
   {
    "duration": 129,
    "start_time": "2024-06-15T09:48:11.950Z"
   },
   {
    "duration": 4,
    "start_time": "2024-06-15T09:48:12.080Z"
   },
   {
    "duration": 77,
    "start_time": "2024-06-15T09:48:12.089Z"
   },
   {
    "duration": 65,
    "start_time": "2024-06-15T09:48:12.167Z"
   },
   {
    "duration": 134,
    "start_time": "2024-06-15T09:48:12.233Z"
   },
   {
    "duration": 84,
    "start_time": "2024-06-15T09:48:12.368Z"
   },
   {
    "duration": 769,
    "start_time": "2024-06-15T09:48:12.453Z"
   },
   {
    "duration": 1,
    "start_time": "2024-06-15T09:48:13.223Z"
   },
   {
    "duration": 51,
    "start_time": "2024-06-15T09:55:02.127Z"
   },
   {
    "duration": 218,
    "start_time": "2024-06-15T09:55:59.520Z"
   },
   {
    "duration": 36,
    "start_time": "2024-06-15T09:56:42.229Z"
   },
   {
    "duration": 214,
    "start_time": "2024-06-15T09:56:59.324Z"
   },
   {
    "duration": 326,
    "start_time": "2024-06-15T09:57:19.418Z"
   },
   {
    "duration": 127,
    "start_time": "2024-06-15T09:57:19.746Z"
   },
   {
    "duration": 3,
    "start_time": "2024-06-15T09:57:19.874Z"
   },
   {
    "duration": 85,
    "start_time": "2024-06-15T09:57:19.878Z"
   },
   {
    "duration": 53,
    "start_time": "2024-06-15T09:57:19.964Z"
   },
   {
    "duration": 136,
    "start_time": "2024-06-15T09:57:20.018Z"
   },
   {
    "duration": 76,
    "start_time": "2024-06-15T09:57:20.156Z"
   },
   {
    "duration": 250,
    "start_time": "2024-06-15T09:57:20.234Z"
   },
   {
    "duration": 40,
    "start_time": "2024-06-15T09:57:38.460Z"
   },
   {
    "duration": 36,
    "start_time": "2024-06-15T09:58:07.512Z"
   },
   {
    "duration": 41,
    "start_time": "2024-06-15T09:58:18.881Z"
   },
   {
    "duration": 37,
    "start_time": "2024-06-15T09:59:03.271Z"
   },
   {
    "duration": 40,
    "start_time": "2024-06-15T09:59:14.519Z"
   },
   {
    "duration": 357,
    "start_time": "2024-06-15T10:05:39.558Z"
   },
   {
    "duration": 137,
    "start_time": "2024-06-15T10:05:39.916Z"
   },
   {
    "duration": 3,
    "start_time": "2024-06-15T10:05:40.054Z"
   },
   {
    "duration": 91,
    "start_time": "2024-06-15T10:05:40.059Z"
   },
   {
    "duration": 60,
    "start_time": "2024-06-15T10:05:40.151Z"
   },
   {
    "duration": 133,
    "start_time": "2024-06-15T10:05:40.212Z"
   },
   {
    "duration": 75,
    "start_time": "2024-06-15T10:05:40.346Z"
   },
   {
    "duration": 45,
    "start_time": "2024-06-15T10:05:40.422Z"
   },
   {
    "duration": 3,
    "start_time": "2024-06-15T10:12:01.281Z"
   },
   {
    "duration": 355,
    "start_time": "2024-06-15T10:17:09.591Z"
   },
   {
    "duration": 126,
    "start_time": "2024-06-15T10:17:09.947Z"
   },
   {
    "duration": 3,
    "start_time": "2024-06-15T10:17:10.075Z"
   },
   {
    "duration": 78,
    "start_time": "2024-06-15T10:17:10.079Z"
   },
   {
    "duration": 5,
    "start_time": "2024-06-15T10:17:10.158Z"
   },
   {
    "duration": 64,
    "start_time": "2024-06-15T10:17:10.165Z"
   },
   {
    "duration": 717,
    "start_time": "2024-06-15T10:17:10.230Z"
   },
   {
    "duration": 0,
    "start_time": "2024-06-15T10:17:10.949Z"
   },
   {
    "duration": 0,
    "start_time": "2024-06-15T10:17:10.950Z"
   },
   {
    "duration": 4,
    "start_time": "2024-06-15T10:18:51.557Z"
   },
   {
    "duration": 66,
    "start_time": "2024-06-15T10:18:56.509Z"
   },
   {
    "duration": 245,
    "start_time": "2024-06-15T10:19:58.950Z"
   },
   {
    "duration": 103,
    "start_time": "2024-06-15T10:20:06.097Z"
   },
   {
    "duration": 44,
    "start_time": "2024-06-15T10:20:20.691Z"
   },
   {
    "duration": 28,
    "start_time": "2024-06-15T10:27:42.082Z"
   },
   {
    "duration": 24,
    "start_time": "2024-06-15T10:27:52.693Z"
   },
   {
    "duration": 8,
    "start_time": "2024-06-15T10:29:55.238Z"
   },
   {
    "duration": 8,
    "start_time": "2024-06-15T10:38:32.210Z"
   },
   {
    "duration": 5,
    "start_time": "2024-06-15T10:38:41.568Z"
   },
   {
    "duration": 11,
    "start_time": "2024-06-15T10:40:05.004Z"
   },
   {
    "duration": 11,
    "start_time": "2024-06-15T10:40:48.336Z"
   },
   {
    "duration": 12,
    "start_time": "2024-06-15T10:40:59.599Z"
   },
   {
    "duration": 628,
    "start_time": "2024-06-15T10:43:38.080Z"
   },
   {
    "duration": 21,
    "start_time": "2024-06-15T10:43:50.522Z"
   },
   {
    "duration": 415,
    "start_time": "2024-06-15T10:57:54.581Z"
   },
   {
    "duration": 0,
    "start_time": "2024-06-15T10:57:54.998Z"
   },
   {
    "duration": 0,
    "start_time": "2024-06-15T10:57:54.999Z"
   },
   {
    "duration": 0,
    "start_time": "2024-06-15T10:57:55.000Z"
   },
   {
    "duration": 0,
    "start_time": "2024-06-15T10:57:55.000Z"
   },
   {
    "duration": 0,
    "start_time": "2024-06-15T10:57:55.001Z"
   },
   {
    "duration": 0,
    "start_time": "2024-06-15T10:57:55.002Z"
   },
   {
    "duration": 0,
    "start_time": "2024-06-15T10:57:55.003Z"
   },
   {
    "duration": 0,
    "start_time": "2024-06-15T10:57:55.003Z"
   },
   {
    "duration": 0,
    "start_time": "2024-06-15T10:57:55.004Z"
   },
   {
    "duration": 0,
    "start_time": "2024-06-15T10:57:55.005Z"
   },
   {
    "duration": 0,
    "start_time": "2024-06-15T10:57:55.006Z"
   },
   {
    "duration": 0,
    "start_time": "2024-06-15T10:57:55.007Z"
   },
   {
    "duration": 0,
    "start_time": "2024-06-15T10:57:55.008Z"
   },
   {
    "duration": 0,
    "start_time": "2024-06-15T10:57:55.009Z"
   },
   {
    "duration": 53,
    "start_time": "2024-06-15T10:58:46.872Z"
   },
   {
    "duration": 0,
    "start_time": "2024-06-15T10:58:46.926Z"
   },
   {
    "duration": 0,
    "start_time": "2024-06-15T10:58:46.927Z"
   },
   {
    "duration": 0,
    "start_time": "2024-06-15T10:58:46.928Z"
   },
   {
    "duration": 0,
    "start_time": "2024-06-15T10:58:46.928Z"
   },
   {
    "duration": 0,
    "start_time": "2024-06-15T10:58:46.929Z"
   },
   {
    "duration": 0,
    "start_time": "2024-06-15T10:58:46.930Z"
   },
   {
    "duration": 0,
    "start_time": "2024-06-15T10:58:46.931Z"
   },
   {
    "duration": 0,
    "start_time": "2024-06-15T10:58:46.932Z"
   },
   {
    "duration": 0,
    "start_time": "2024-06-15T10:58:46.932Z"
   },
   {
    "duration": 0,
    "start_time": "2024-06-15T10:58:46.933Z"
   },
   {
    "duration": 0,
    "start_time": "2024-06-15T10:58:46.934Z"
   },
   {
    "duration": 0,
    "start_time": "2024-06-15T10:58:46.935Z"
   },
   {
    "duration": 0,
    "start_time": "2024-06-15T10:58:46.935Z"
   },
   {
    "duration": 0,
    "start_time": "2024-06-15T10:58:46.936Z"
   },
   {
    "duration": 701,
    "start_time": "2024-06-15T10:59:11.572Z"
   },
   {
    "duration": 130,
    "start_time": "2024-06-15T10:59:12.275Z"
   },
   {
    "duration": 3,
    "start_time": "2024-06-15T10:59:12.407Z"
   },
   {
    "duration": 78,
    "start_time": "2024-06-15T10:59:12.411Z"
   },
   {
    "duration": 7,
    "start_time": "2024-06-15T10:59:12.491Z"
   },
   {
    "duration": 68,
    "start_time": "2024-06-15T10:59:12.499Z"
   },
   {
    "duration": 239,
    "start_time": "2024-06-15T10:59:12.569Z"
   },
   {
    "duration": 0,
    "start_time": "2024-06-15T10:59:12.809Z"
   },
   {
    "duration": 0,
    "start_time": "2024-06-15T10:59:12.810Z"
   },
   {
    "duration": 0,
    "start_time": "2024-06-15T10:59:12.811Z"
   },
   {
    "duration": 0,
    "start_time": "2024-06-15T10:59:12.811Z"
   },
   {
    "duration": 0,
    "start_time": "2024-06-15T10:59:12.812Z"
   },
   {
    "duration": 0,
    "start_time": "2024-06-15T10:59:12.813Z"
   },
   {
    "duration": 0,
    "start_time": "2024-06-15T10:59:12.814Z"
   },
   {
    "duration": 0,
    "start_time": "2024-06-15T10:59:12.814Z"
   },
   {
    "duration": 585,
    "start_time": "2024-06-15T11:00:02.574Z"
   },
   {
    "duration": 127,
    "start_time": "2024-06-15T11:00:03.160Z"
   },
   {
    "duration": 4,
    "start_time": "2024-06-15T11:00:03.288Z"
   },
   {
    "duration": 99,
    "start_time": "2024-06-15T11:00:03.293Z"
   },
   {
    "duration": 7,
    "start_time": "2024-06-15T11:00:03.393Z"
   },
   {
    "duration": 69,
    "start_time": "2024-06-15T11:00:03.401Z"
   },
   {
    "duration": 235,
    "start_time": "2024-06-15T11:00:03.472Z"
   },
   {
    "duration": 105,
    "start_time": "2024-06-15T11:00:03.708Z"
   },
   {
    "duration": 41,
    "start_time": "2024-06-15T11:00:03.814Z"
   },
   {
    "duration": 8,
    "start_time": "2024-06-15T11:00:03.857Z"
   },
   {
    "duration": 23,
    "start_time": "2024-06-15T11:00:03.866Z"
   },
   {
    "duration": 20,
    "start_time": "2024-06-15T11:00:03.890Z"
   },
   {
    "duration": 31,
    "start_time": "2024-06-15T11:00:03.911Z"
   },
   {
    "duration": 25,
    "start_time": "2024-06-15T11:00:03.943Z"
   },
   {
    "duration": 55,
    "start_time": "2024-06-15T11:00:03.970Z"
   },
   {
    "duration": 120,
    "start_time": "2024-06-15T11:00:37.208Z"
   },
   {
    "duration": 30,
    "start_time": "2024-06-15T11:01:31.522Z"
   },
   {
    "duration": 712,
    "start_time": "2024-06-15T11:01:57.149Z"
   },
   {
    "duration": 29,
    "start_time": "2024-06-15T11:02:25.386Z"
   },
   {
    "duration": 686,
    "start_time": "2024-06-15T11:02:34.386Z"
   },
   {
    "duration": 30,
    "start_time": "2024-06-15T11:03:08.286Z"
   },
   {
    "duration": 114,
    "start_time": "2024-06-15T11:03:19.720Z"
   },
   {
    "duration": 6,
    "start_time": "2024-06-15T11:04:11.509Z"
   },
   {
    "duration": 143,
    "start_time": "2024-06-15T11:04:19.661Z"
   },
   {
    "duration": 166,
    "start_time": "2024-06-15T11:06:16.615Z"
   },
   {
    "duration": 181,
    "start_time": "2024-06-15T11:06:55.420Z"
   },
   {
    "duration": 149,
    "start_time": "2024-06-15T11:07:17.791Z"
   },
   {
    "duration": 192,
    "start_time": "2024-06-15T11:07:40.197Z"
   },
   {
    "duration": 209,
    "start_time": "2024-06-15T11:07:59.629Z"
   },
   {
    "duration": 45,
    "start_time": "2024-06-15T11:11:03.455Z"
   },
   {
    "duration": 664,
    "start_time": "2024-06-15T11:11:27.105Z"
   },
   {
    "duration": 42,
    "start_time": "2024-06-15T11:11:45.926Z"
   },
   {
    "duration": 263,
    "start_time": "2024-06-15T11:12:08.664Z"
   },
   {
    "duration": 268,
    "start_time": "2024-06-15T11:13:56.048Z"
   },
   {
    "duration": 66,
    "start_time": "2024-06-15T11:24:37.028Z"
   },
   {
    "duration": 23,
    "start_time": "2024-06-15T11:25:34.224Z"
   },
   {
    "duration": 49,
    "start_time": "2024-06-15T11:25:58.075Z"
   },
   {
    "duration": 555,
    "start_time": "2024-06-15T11:26:07.276Z"
   },
   {
    "duration": 130,
    "start_time": "2024-06-15T11:26:07.833Z"
   },
   {
    "duration": 3,
    "start_time": "2024-06-15T11:26:07.964Z"
   },
   {
    "duration": 74,
    "start_time": "2024-06-15T11:26:07.968Z"
   },
   {
    "duration": 6,
    "start_time": "2024-06-15T11:26:08.044Z"
   },
   {
    "duration": 63,
    "start_time": "2024-06-15T11:26:08.051Z"
   },
   {
    "duration": 245,
    "start_time": "2024-06-15T11:26:08.116Z"
   },
   {
    "duration": 111,
    "start_time": "2024-06-15T11:26:08.362Z"
   },
   {
    "duration": 49,
    "start_time": "2024-06-15T11:26:08.474Z"
   },
   {
    "duration": 9,
    "start_time": "2024-06-15T11:26:08.525Z"
   },
   {
    "duration": 7,
    "start_time": "2024-06-15T11:26:08.535Z"
   },
   {
    "duration": 10,
    "start_time": "2024-06-15T11:26:08.543Z"
   },
   {
    "duration": 39,
    "start_time": "2024-06-15T11:26:08.555Z"
   },
   {
    "duration": 39,
    "start_time": "2024-06-15T11:26:08.596Z"
   },
   {
    "duration": 277,
    "start_time": "2024-06-15T11:26:08.636Z"
   },
   {
    "duration": 51,
    "start_time": "2024-06-15T11:26:08.914Z"
   },
   {
    "duration": 239,
    "start_time": "2024-06-15T11:26:28.483Z"
   },
   {
    "duration": 25,
    "start_time": "2024-06-15T11:26:51.583Z"
   },
   {
    "duration": 51,
    "start_time": "2024-06-15T11:27:19.334Z"
   },
   {
    "duration": 50,
    "start_time": "2024-06-15T11:32:39.130Z"
   },
   {
    "duration": 25,
    "start_time": "2024-06-15T11:33:33.552Z"
   },
   {
    "duration": 683,
    "start_time": "2024-06-15T11:34:04.757Z"
   },
   {
    "duration": 14,
    "start_time": "2024-06-15T11:34:13.699Z"
   },
   {
    "duration": 107,
    "start_time": "2024-06-15T11:36:21.499Z"
   },
   {
    "duration": 21,
    "start_time": "2024-06-15T11:37:15.813Z"
   },
   {
    "duration": 3,
    "start_time": "2024-06-15T11:40:15.290Z"
   },
   {
    "duration": 703,
    "start_time": "2024-06-15T11:40:27.556Z"
   },
   {
    "duration": 25,
    "start_time": "2024-06-15T11:40:37.296Z"
   },
   {
    "duration": 21,
    "start_time": "2024-06-15T11:40:45.286Z"
   },
   {
    "duration": 20,
    "start_time": "2024-06-15T11:42:01.498Z"
   },
   {
    "duration": 20,
    "start_time": "2024-06-15T11:44:58.188Z"
   },
   {
    "duration": 42,
    "start_time": "2024-06-15T11:46:24.436Z"
   },
   {
    "duration": 39,
    "start_time": "2024-06-15T11:49:56.017Z"
   },
   {
    "duration": 560,
    "start_time": "2024-06-15T11:51:22.569Z"
   },
   {
    "duration": 127,
    "start_time": "2024-06-15T11:51:23.130Z"
   },
   {
    "duration": 4,
    "start_time": "2024-06-15T11:51:23.259Z"
   },
   {
    "duration": 79,
    "start_time": "2024-06-15T11:51:23.265Z"
   },
   {
    "duration": 7,
    "start_time": "2024-06-15T11:51:23.345Z"
   },
   {
    "duration": 63,
    "start_time": "2024-06-15T11:51:23.353Z"
   },
   {
    "duration": 243,
    "start_time": "2024-06-15T11:51:23.418Z"
   },
   {
    "duration": 109,
    "start_time": "2024-06-15T11:51:23.662Z"
   },
   {
    "duration": 48,
    "start_time": "2024-06-15T11:51:23.772Z"
   },
   {
    "duration": 8,
    "start_time": "2024-06-15T11:51:23.822Z"
   },
   {
    "duration": 6,
    "start_time": "2024-06-15T11:51:23.831Z"
   },
   {
    "duration": 10,
    "start_time": "2024-06-15T11:51:23.838Z"
   },
   {
    "duration": 21,
    "start_time": "2024-06-15T11:51:23.850Z"
   },
   {
    "duration": 56,
    "start_time": "2024-06-15T11:51:23.872Z"
   },
   {
    "duration": 279,
    "start_time": "2024-06-15T11:51:23.929Z"
   },
   {
    "duration": 23,
    "start_time": "2024-06-15T11:51:24.209Z"
   },
   {
    "duration": 28,
    "start_time": "2024-06-15T11:51:24.234Z"
   },
   {
    "duration": 47,
    "start_time": "2024-06-15T11:51:24.263Z"
   },
   {
    "duration": 50,
    "start_time": "2024-06-16T10:13:12.487Z"
   },
   {
    "duration": 893,
    "start_time": "2024-06-16T10:13:21.565Z"
   },
   {
    "duration": 835,
    "start_time": "2024-06-16T10:13:22.461Z"
   },
   {
    "duration": 4,
    "start_time": "2024-06-16T10:13:23.298Z"
   },
   {
    "duration": 118,
    "start_time": "2024-06-16T10:13:23.303Z"
   },
   {
    "duration": 8,
    "start_time": "2024-06-16T10:13:23.423Z"
   },
   {
    "duration": 82,
    "start_time": "2024-06-16T10:13:23.433Z"
   },
   {
    "duration": 321,
    "start_time": "2024-06-16T10:13:23.517Z"
   },
   {
    "duration": 167,
    "start_time": "2024-06-16T10:13:23.840Z"
   },
   {
    "duration": 64,
    "start_time": "2024-06-16T10:13:24.010Z"
   },
   {
    "duration": 28,
    "start_time": "2024-06-16T10:13:24.076Z"
   },
   {
    "duration": 12,
    "start_time": "2024-06-16T10:13:24.106Z"
   },
   {
    "duration": 26,
    "start_time": "2024-06-16T10:13:24.120Z"
   },
   {
    "duration": 46,
    "start_time": "2024-06-16T10:13:24.148Z"
   },
   {
    "duration": 70,
    "start_time": "2024-06-16T10:13:24.198Z"
   },
   {
    "duration": 381,
    "start_time": "2024-06-16T10:13:24.269Z"
   },
   {
    "duration": 40,
    "start_time": "2024-06-16T10:13:24.652Z"
   },
   {
    "duration": 48,
    "start_time": "2024-06-16T10:13:24.694Z"
   },
   {
    "duration": 64,
    "start_time": "2024-06-16T10:13:24.744Z"
   },
   {
    "duration": 97,
    "start_time": "2024-06-16T10:13:24.810Z"
   },
   {
    "duration": 73,
    "start_time": "2024-06-16T10:15:12.631Z"
   },
   {
    "duration": 25,
    "start_time": "2024-06-16T10:15:41.523Z"
   },
   {
    "duration": 18,
    "start_time": "2024-06-16T10:17:00.137Z"
   },
   {
    "duration": 23,
    "start_time": "2024-06-16T10:17:47.735Z"
   },
   {
    "duration": 24,
    "start_time": "2024-06-16T10:18:02.688Z"
   },
   {
    "duration": 17,
    "start_time": "2024-06-16T10:20:44.802Z"
   },
   {
    "duration": 69,
    "start_time": "2024-06-16T10:20:56.722Z"
   },
   {
    "duration": 80,
    "start_time": "2024-06-16T10:21:06.627Z"
   },
   {
    "duration": 76,
    "start_time": "2024-06-16T10:21:18.620Z"
   },
   {
    "duration": 89,
    "start_time": "2024-06-16T10:21:39.582Z"
   },
   {
    "duration": 74,
    "start_time": "2024-06-16T10:21:54.804Z"
   },
   {
    "duration": 85,
    "start_time": "2024-06-16T10:22:09.779Z"
   },
   {
    "duration": 83,
    "start_time": "2024-06-16T10:24:29.849Z"
   },
   {
    "duration": 69,
    "start_time": "2024-06-16T10:25:02.591Z"
   },
   {
    "duration": 84,
    "start_time": "2024-06-16T10:25:07.130Z"
   },
   {
    "duration": 76,
    "start_time": "2024-06-16T10:25:42.123Z"
   },
   {
    "duration": 53,
    "start_time": "2024-06-16T10:25:59.682Z"
   },
   {
    "duration": 57,
    "start_time": "2024-06-16T10:26:11.033Z"
   },
   {
    "duration": 57,
    "start_time": "2024-06-16T10:26:27.768Z"
   },
   {
    "duration": 76,
    "start_time": "2024-06-16T10:26:35.878Z"
   },
   {
    "duration": 56,
    "start_time": "2024-06-16T10:26:44.526Z"
   },
   {
    "duration": 75,
    "start_time": "2024-06-16T10:26:56.230Z"
   },
   {
    "duration": 86,
    "start_time": "2024-06-16T10:27:48.056Z"
   },
   {
    "duration": 86,
    "start_time": "2024-06-16T10:28:15.918Z"
   },
   {
    "duration": 51,
    "start_time": "2024-06-16T10:29:22.013Z"
   },
   {
    "duration": 53,
    "start_time": "2024-06-16T10:29:33.535Z"
   },
   {
    "duration": 55,
    "start_time": "2024-06-16T10:30:12.688Z"
   },
   {
    "duration": 67,
    "start_time": "2024-06-16T10:30:42.940Z"
   },
   {
    "duration": 59,
    "start_time": "2024-06-16T10:30:59.341Z"
   },
   {
    "duration": 88,
    "start_time": "2024-06-16T10:31:05.942Z"
   },
   {
    "duration": 62,
    "start_time": "2024-06-16T10:31:28.611Z"
   },
   {
    "duration": 75,
    "start_time": "2024-06-16T10:31:55.322Z"
   },
   {
    "duration": 77,
    "start_time": "2024-06-16T10:32:18.144Z"
   },
   {
    "duration": 82,
    "start_time": "2024-06-16T10:32:28.303Z"
   },
   {
    "duration": 81,
    "start_time": "2024-06-16T10:48:54.123Z"
   },
   {
    "duration": 97,
    "start_time": "2024-06-16T10:54:06.668Z"
   },
   {
    "duration": 281,
    "start_time": "2024-06-16T10:55:34.383Z"
   },
   {
    "duration": 259,
    "start_time": "2024-06-16T10:55:57.674Z"
   },
   {
    "duration": 4,
    "start_time": "2024-06-16T10:56:44.791Z"
   },
   {
    "duration": 262,
    "start_time": "2024-06-16T10:57:08.694Z"
   },
   {
    "duration": 82,
    "start_time": "2024-06-16T10:57:51.970Z"
   },
   {
    "duration": 84,
    "start_time": "2024-06-16T10:58:06.443Z"
   },
   {
    "duration": 77,
    "start_time": "2024-06-16T10:58:39.170Z"
   },
   {
    "duration": 80,
    "start_time": "2024-06-16T10:59:09.140Z"
   },
   {
    "duration": 78,
    "start_time": "2024-06-16T10:59:41.355Z"
   },
   {
    "duration": 14,
    "start_time": "2024-06-16T11:41:37.773Z"
   },
   {
    "duration": 24,
    "start_time": "2024-06-16T11:43:31.712Z"
   },
   {
    "duration": 24,
    "start_time": "2024-06-16T11:43:47.711Z"
   },
   {
    "duration": 24,
    "start_time": "2024-06-16T11:44:03.759Z"
   },
   {
    "duration": 23,
    "start_time": "2024-06-16T11:45:11.821Z"
   },
   {
    "duration": 23,
    "start_time": "2024-06-16T11:46:15.076Z"
   },
   {
    "duration": 8,
    "start_time": "2024-06-16T11:46:17.459Z"
   },
   {
    "duration": 18,
    "start_time": "2024-06-16T11:46:46.704Z"
   },
   {
    "duration": 9,
    "start_time": "2024-06-16T11:47:37.556Z"
   },
   {
    "duration": 20,
    "start_time": "2024-06-16T11:48:36.437Z"
   },
   {
    "duration": 9,
    "start_time": "2024-06-16T11:49:31.549Z"
   },
   {
    "duration": 18,
    "start_time": "2024-06-16T11:50:03.069Z"
   },
   {
    "duration": 69,
    "start_time": "2024-06-16T12:09:34.725Z"
   },
   {
    "duration": 66,
    "start_time": "2024-06-16T12:10:05.644Z"
   },
   {
    "duration": 9,
    "start_time": "2024-06-16T12:10:13.951Z"
   },
   {
    "duration": 3,
    "start_time": "2024-06-16T12:10:31.954Z"
   },
   {
    "duration": 4,
    "start_time": "2024-06-16T12:13:11.986Z"
   },
   {
    "duration": 4,
    "start_time": "2024-06-16T12:13:47.836Z"
   },
   {
    "duration": 4,
    "start_time": "2024-06-16T12:16:55.380Z"
   },
   {
    "duration": 645,
    "start_time": "2024-06-16T12:21:16.921Z"
   },
   {
    "duration": 197,
    "start_time": "2024-06-16T12:21:17.569Z"
   },
   {
    "duration": 4,
    "start_time": "2024-06-16T12:21:17.768Z"
   },
   {
    "duration": 112,
    "start_time": "2024-06-16T12:21:17.773Z"
   },
   {
    "duration": 10,
    "start_time": "2024-06-16T12:21:17.893Z"
   },
   {
    "duration": 101,
    "start_time": "2024-06-16T12:21:17.905Z"
   },
   {
    "duration": 355,
    "start_time": "2024-06-16T12:21:18.007Z"
   },
   {
    "duration": 152,
    "start_time": "2024-06-16T12:21:18.364Z"
   },
   {
    "duration": 54,
    "start_time": "2024-06-16T12:21:18.518Z"
   },
   {
    "duration": 22,
    "start_time": "2024-06-16T12:21:18.574Z"
   },
   {
    "duration": 8,
    "start_time": "2024-06-16T12:21:18.597Z"
   },
   {
    "duration": 17,
    "start_time": "2024-06-16T12:21:18.607Z"
   },
   {
    "duration": 47,
    "start_time": "2024-06-16T12:21:18.626Z"
   },
   {
    "duration": 56,
    "start_time": "2024-06-16T12:21:18.691Z"
   },
   {
    "duration": 366,
    "start_time": "2024-06-16T12:21:18.749Z"
   },
   {
    "duration": 32,
    "start_time": "2024-06-16T12:21:19.117Z"
   },
   {
    "duration": 60,
    "start_time": "2024-06-16T12:21:19.151Z"
   },
   {
    "duration": 44,
    "start_time": "2024-06-16T12:21:19.213Z"
   },
   {
    "duration": 37,
    "start_time": "2024-06-16T12:21:19.259Z"
   },
   {
    "duration": 29,
    "start_time": "2024-06-16T12:21:19.298Z"
   },
   {
    "duration": 87,
    "start_time": "2024-06-16T12:21:19.328Z"
   },
   {
    "duration": 90,
    "start_time": "2024-06-16T12:21:19.416Z"
   },
   {
    "duration": 21,
    "start_time": "2024-06-16T12:21:19.507Z"
   },
   {
    "duration": 19,
    "start_time": "2024-06-16T12:21:19.529Z"
   },
   {
    "duration": 20,
    "start_time": "2024-06-16T12:21:19.550Z"
   },
   {
    "duration": 15,
    "start_time": "2024-06-16T12:21:19.592Z"
   },
   {
    "duration": 3,
    "start_time": "2024-06-16T12:21:19.609Z"
   },
   {
    "duration": 7,
    "start_time": "2024-06-16T12:21:19.614Z"
   },
   {
    "duration": 14,
    "start_time": "2024-06-16T12:21:19.623Z"
   },
   {
    "duration": 6,
    "start_time": "2024-06-16T12:21:19.639Z"
   },
   {
    "duration": 4,
    "start_time": "2024-06-16T12:23:30.632Z"
   },
   {
    "duration": 6,
    "start_time": "2024-06-16T12:27:30.217Z"
   },
   {
    "duration": 265,
    "start_time": "2024-06-16T12:31:27.349Z"
   },
   {
    "duration": 8,
    "start_time": "2024-06-16T12:31:46.542Z"
   },
   {
    "duration": 24,
    "start_time": "2024-06-16T14:30:07.653Z"
   },
   {
    "duration": 9,
    "start_time": "2024-06-16T14:30:24.428Z"
   },
   {
    "duration": 8,
    "start_time": "2024-06-16T14:31:21.008Z"
   },
   {
    "duration": 684,
    "start_time": "2024-06-16T14:31:55.637Z"
   },
   {
    "duration": 8,
    "start_time": "2024-06-16T14:32:39.640Z"
   },
   {
    "duration": 7,
    "start_time": "2024-06-16T14:33:01.773Z"
   },
   {
    "duration": 9,
    "start_time": "2024-06-16T14:34:19.720Z"
   },
   {
    "duration": 25,
    "start_time": "2024-06-16T14:35:14.720Z"
   },
   {
    "duration": 16,
    "start_time": "2024-06-16T14:35:49.271Z"
   },
   {
    "duration": 17,
    "start_time": "2024-06-16T14:36:45.460Z"
   },
   {
    "duration": 24,
    "start_time": "2024-06-16T14:37:20.369Z"
   },
   {
    "duration": 36,
    "start_time": "2024-06-16T14:38:31.280Z"
   },
   {
    "duration": 47,
    "start_time": "2024-06-16T14:41:01.221Z"
   },
   {
    "duration": 39,
    "start_time": "2024-06-16T14:41:21.679Z"
   },
   {
    "duration": 5,
    "start_time": "2024-06-16T14:43:35.854Z"
   },
   {
    "duration": 5,
    "start_time": "2024-06-16T14:43:47.920Z"
   },
   {
    "duration": 5,
    "start_time": "2024-06-16T14:44:25.247Z"
   },
   {
    "duration": 5,
    "start_time": "2024-06-16T14:44:35.779Z"
   },
   {
    "duration": 4,
    "start_time": "2024-06-16T14:44:55.857Z"
   },
   {
    "duration": 4,
    "start_time": "2024-06-16T14:45:00.724Z"
   },
   {
    "duration": 4,
    "start_time": "2024-06-16T14:45:08.543Z"
   },
   {
    "duration": 5,
    "start_time": "2024-06-16T14:46:08.868Z"
   },
   {
    "duration": 5,
    "start_time": "2024-06-16T14:46:26.641Z"
   },
   {
    "duration": 40,
    "start_time": "2024-06-16T17:22:24.601Z"
   },
   {
    "duration": 57,
    "start_time": "2024-06-16T17:22:32.573Z"
   },
   {
    "duration": 31,
    "start_time": "2024-06-16T17:22:41.395Z"
   },
   {
    "duration": 37,
    "start_time": "2024-06-16T17:22:58.238Z"
   },
   {
    "duration": 34,
    "start_time": "2024-06-16T17:23:06.574Z"
   },
   {
    "duration": 38,
    "start_time": "2024-06-16T17:24:08.811Z"
   },
   {
    "duration": 40,
    "start_time": "2024-06-16T17:24:42.491Z"
   },
   {
    "duration": 221,
    "start_time": "2024-06-16T17:25:47.402Z"
   },
   {
    "duration": 50,
    "start_time": "2024-06-16T17:26:15.590Z"
   },
   {
    "duration": 41,
    "start_time": "2024-06-16T17:26:23.582Z"
   },
   {
    "duration": 40,
    "start_time": "2024-06-16T17:27:10.946Z"
   },
   {
    "duration": 8,
    "start_time": "2024-06-16T17:30:43.856Z"
   },
   {
    "duration": 749,
    "start_time": "2024-06-16T17:31:07.416Z"
   },
   {
    "duration": 4,
    "start_time": "2024-06-16T17:31:22.418Z"
   },
   {
    "duration": 4,
    "start_time": "2024-06-16T17:32:44.559Z"
   },
   {
    "duration": 54,
    "start_time": "2024-06-16T17:35:13.842Z"
   },
   {
    "duration": 4,
    "start_time": "2024-06-16T17:35:20.639Z"
   },
   {
    "duration": 851,
    "start_time": "2024-06-16T17:35:39.538Z"
   },
   {
    "duration": 4,
    "start_time": "2024-06-16T17:37:43.871Z"
   },
   {
    "duration": 4,
    "start_time": "2024-06-16T17:37:50.478Z"
   },
   {
    "duration": 8,
    "start_time": "2024-06-16T17:45:59.362Z"
   },
   {
    "duration": 1133,
    "start_time": "2024-06-16T17:46:11.843Z"
   },
   {
    "duration": 188,
    "start_time": "2024-06-16T17:46:12.979Z"
   },
   {
    "duration": 6,
    "start_time": "2024-06-16T17:46:13.168Z"
   },
   {
    "duration": 116,
    "start_time": "2024-06-16T17:46:13.175Z"
   },
   {
    "duration": 7,
    "start_time": "2024-06-16T17:46:13.294Z"
   },
   {
    "duration": 96,
    "start_time": "2024-06-16T17:46:13.303Z"
   },
   {
    "duration": 309,
    "start_time": "2024-06-16T17:46:13.401Z"
   },
   {
    "duration": 153,
    "start_time": "2024-06-16T17:46:13.712Z"
   },
   {
    "duration": 61,
    "start_time": "2024-06-16T17:46:13.867Z"
   },
   {
    "duration": 14,
    "start_time": "2024-06-16T17:46:13.930Z"
   },
   {
    "duration": 10,
    "start_time": "2024-06-16T17:46:13.946Z"
   },
   {
    "duration": 51,
    "start_time": "2024-06-16T17:46:13.958Z"
   },
   {
    "duration": 48,
    "start_time": "2024-06-16T17:46:14.011Z"
   },
   {
    "duration": 76,
    "start_time": "2024-06-16T17:46:14.063Z"
   },
   {
    "duration": 371,
    "start_time": "2024-06-16T17:46:14.141Z"
   },
   {
    "duration": 35,
    "start_time": "2024-06-16T17:46:14.514Z"
   },
   {
    "duration": 63,
    "start_time": "2024-06-16T17:46:14.551Z"
   },
   {
    "duration": 45,
    "start_time": "2024-06-16T17:46:14.616Z"
   },
   {
    "duration": 32,
    "start_time": "2024-06-16T17:46:14.662Z"
   },
   {
    "duration": 24,
    "start_time": "2024-06-16T17:46:14.696Z"
   },
   {
    "duration": 84,
    "start_time": "2024-06-16T17:46:14.721Z"
   },
   {
    "duration": 89,
    "start_time": "2024-06-16T17:46:14.806Z"
   },
   {
    "duration": 21,
    "start_time": "2024-06-16T17:46:14.896Z"
   },
   {
    "duration": 16,
    "start_time": "2024-06-16T17:46:14.919Z"
   },
   {
    "duration": 16,
    "start_time": "2024-06-16T17:46:14.936Z"
   },
   {
    "duration": 45,
    "start_time": "2024-06-16T17:46:14.953Z"
   },
   {
    "duration": 3,
    "start_time": "2024-06-16T17:46:14.999Z"
   },
   {
    "duration": 54,
    "start_time": "2024-06-16T17:46:15.004Z"
   },
   {
    "duration": 79,
    "start_time": "2024-06-16T17:46:15.059Z"
   },
   {
    "duration": 41,
    "start_time": "2024-06-16T17:46:15.140Z"
   },
   {
    "duration": 13,
    "start_time": "2024-06-16T17:46:15.183Z"
   },
   {
    "duration": 63,
    "start_time": "2024-06-16T17:46:15.198Z"
   },
   {
    "duration": 0,
    "start_time": "2024-06-16T17:46:15.262Z"
   },
   {
    "duration": 0,
    "start_time": "2024-06-16T17:46:15.264Z"
   },
   {
    "duration": 0,
    "start_time": "2024-06-16T17:46:15.266Z"
   },
   {
    "duration": 0,
    "start_time": "2024-06-16T17:46:15.267Z"
   },
   {
    "duration": 0,
    "start_time": "2024-06-16T17:46:15.269Z"
   },
   {
    "duration": 1,
    "start_time": "2024-06-16T17:46:15.271Z"
   },
   {
    "duration": 0,
    "start_time": "2024-06-16T17:46:15.273Z"
   },
   {
    "duration": 4,
    "start_time": "2024-06-16T17:46:51.263Z"
   },
   {
    "duration": 107,
    "start_time": "2024-06-16T17:46:53.217Z"
   },
   {
    "duration": 47,
    "start_time": "2024-06-16T17:47:21.191Z"
   },
   {
    "duration": 1146,
    "start_time": "2024-06-16T17:47:51.127Z"
   },
   {
    "duration": 181,
    "start_time": "2024-06-16T17:47:52.274Z"
   },
   {
    "duration": 5,
    "start_time": "2024-06-16T17:47:52.457Z"
   },
   {
    "duration": 114,
    "start_time": "2024-06-16T17:47:52.464Z"
   },
   {
    "duration": 13,
    "start_time": "2024-06-16T17:47:52.579Z"
   },
   {
    "duration": 82,
    "start_time": "2024-06-16T17:47:52.594Z"
   },
   {
    "duration": 314,
    "start_time": "2024-06-16T17:47:52.678Z"
   },
   {
    "duration": 162,
    "start_time": "2024-06-16T17:47:52.994Z"
   },
   {
    "duration": 58,
    "start_time": "2024-06-16T17:47:53.158Z"
   },
   {
    "duration": 14,
    "start_time": "2024-06-16T17:47:53.219Z"
   },
   {
    "duration": 9,
    "start_time": "2024-06-16T17:47:53.234Z"
   },
   {
    "duration": 27,
    "start_time": "2024-06-16T17:47:53.245Z"
   },
   {
    "duration": 51,
    "start_time": "2024-06-16T17:47:53.273Z"
   },
   {
    "duration": 66,
    "start_time": "2024-06-16T17:47:53.326Z"
   },
   {
    "duration": 368,
    "start_time": "2024-06-16T17:47:53.394Z"
   },
   {
    "duration": 41,
    "start_time": "2024-06-16T17:47:53.764Z"
   },
   {
    "duration": 48,
    "start_time": "2024-06-16T17:47:53.806Z"
   },
   {
    "duration": 57,
    "start_time": "2024-06-16T17:47:53.855Z"
   },
   {
    "duration": 20,
    "start_time": "2024-06-16T17:47:53.913Z"
   },
   {
    "duration": 53,
    "start_time": "2024-06-16T17:47:53.934Z"
   },
   {
    "duration": 70,
    "start_time": "2024-06-16T17:47:53.990Z"
   },
   {
    "duration": 103,
    "start_time": "2024-06-16T17:47:54.061Z"
   },
   {
    "duration": 30,
    "start_time": "2024-06-16T17:47:54.166Z"
   },
   {
    "duration": 18,
    "start_time": "2024-06-16T17:47:54.199Z"
   },
   {
    "duration": 49,
    "start_time": "2024-06-16T17:47:54.219Z"
   },
   {
    "duration": 14,
    "start_time": "2024-06-16T17:47:54.270Z"
   },
   {
    "duration": 4,
    "start_time": "2024-06-16T17:47:54.286Z"
   },
   {
    "duration": 5,
    "start_time": "2024-06-16T17:47:54.295Z"
   },
   {
    "duration": 5,
    "start_time": "2024-06-16T17:47:54.302Z"
   },
   {
    "duration": 20,
    "start_time": "2024-06-16T17:47:54.309Z"
   },
   {
    "duration": 10,
    "start_time": "2024-06-16T17:47:54.331Z"
   },
   {
    "duration": 36,
    "start_time": "2024-06-16T17:47:54.343Z"
   },
   {
    "duration": 36,
    "start_time": "2024-06-16T17:47:54.381Z"
   },
   {
    "duration": 5,
    "start_time": "2024-06-16T17:47:54.419Z"
   },
   {
    "duration": 42,
    "start_time": "2024-06-16T17:47:54.426Z"
   },
   {
    "duration": 62,
    "start_time": "2024-06-16T17:47:54.469Z"
   },
   {
    "duration": 4,
    "start_time": "2024-06-16T17:47:54.533Z"
   },
   {
    "duration": 14,
    "start_time": "2024-06-16T17:47:54.539Z"
   },
   {
    "duration": 7,
    "start_time": "2024-06-16T17:47:54.554Z"
   },
   {
    "duration": 6,
    "start_time": "2024-06-16T17:53:29.648Z"
   },
   {
    "duration": 10,
    "start_time": "2024-06-16T17:53:32.285Z"
   },
   {
    "duration": 104,
    "start_time": "2024-06-16T18:06:12.665Z"
   },
   {
    "duration": 721,
    "start_time": "2024-06-16T18:06:20.866Z"
   },
   {
    "duration": 6,
    "start_time": "2024-06-16T18:06:31.293Z"
   },
   {
    "duration": 815,
    "start_time": "2024-06-16T18:06:50.016Z"
   },
   {
    "duration": 13,
    "start_time": "2024-06-16T18:07:32.912Z"
   },
   {
    "duration": 5,
    "start_time": "2024-06-16T18:10:56.652Z"
   },
   {
    "duration": 6,
    "start_time": "2024-06-16T18:11:08.662Z"
   },
   {
    "duration": 4,
    "start_time": "2024-06-16T18:11:27.771Z"
   },
   {
    "duration": 46,
    "start_time": "2024-06-16T18:18:10.340Z"
   },
   {
    "duration": 8,
    "start_time": "2024-06-16T18:18:24.824Z"
   },
   {
    "duration": 76,
    "start_time": "2024-06-16T18:19:41.574Z"
   },
   {
    "duration": 21,
    "start_time": "2024-06-16T18:19:55.490Z"
   },
   {
    "duration": 24,
    "start_time": "2024-06-16T18:20:29.949Z"
   },
   {
    "duration": 13,
    "start_time": "2024-06-16T18:47:53.829Z"
   },
   {
    "duration": 8,
    "start_time": "2024-06-16T18:48:08.816Z"
   },
   {
    "duration": 57,
    "start_time": "2024-06-16T18:48:44.792Z"
   },
   {
    "duration": 3,
    "start_time": "2024-06-16T18:51:34.994Z"
   },
   {
    "duration": 13,
    "start_time": "2024-06-16T18:52:13.670Z"
   },
   {
    "duration": 13,
    "start_time": "2024-06-16T18:53:22.397Z"
   },
   {
    "duration": 1577,
    "start_time": "2024-06-16T18:53:34.908Z"
   },
   {
    "duration": 193,
    "start_time": "2024-06-16T18:53:36.491Z"
   },
   {
    "duration": 5,
    "start_time": "2024-06-16T18:53:36.686Z"
   },
   {
    "duration": 118,
    "start_time": "2024-06-16T18:53:36.693Z"
   },
   {
    "duration": 8,
    "start_time": "2024-06-16T18:53:36.812Z"
   },
   {
    "duration": 81,
    "start_time": "2024-06-16T18:53:36.822Z"
   },
   {
    "duration": 298,
    "start_time": "2024-06-16T18:53:36.904Z"
   },
   {
    "duration": 151,
    "start_time": "2024-06-16T18:53:37.203Z"
   },
   {
    "duration": 61,
    "start_time": "2024-06-16T18:53:37.355Z"
   },
   {
    "duration": 14,
    "start_time": "2024-06-16T18:53:37.418Z"
   },
   {
    "duration": 27,
    "start_time": "2024-06-16T18:53:37.433Z"
   },
   {
    "duration": 36,
    "start_time": "2024-06-16T18:53:37.461Z"
   },
   {
    "duration": 39,
    "start_time": "2024-06-16T18:53:37.498Z"
   },
   {
    "duration": 69,
    "start_time": "2024-06-16T18:53:37.539Z"
   },
   {
    "duration": 353,
    "start_time": "2024-06-16T18:53:37.610Z"
   },
   {
    "duration": 38,
    "start_time": "2024-06-16T18:53:37.965Z"
   },
   {
    "duration": 52,
    "start_time": "2024-06-16T18:53:38.005Z"
   },
   {
    "duration": 73,
    "start_time": "2024-06-16T18:53:38.059Z"
   },
   {
    "duration": 18,
    "start_time": "2024-06-16T18:53:38.135Z"
   },
   {
    "duration": 42,
    "start_time": "2024-06-16T18:53:38.155Z"
   },
   {
    "duration": 72,
    "start_time": "2024-06-16T18:53:38.199Z"
   },
   {
    "duration": 91,
    "start_time": "2024-06-16T18:53:38.273Z"
   },
   {
    "duration": 34,
    "start_time": "2024-06-16T18:53:38.366Z"
   },
   {
    "duration": 15,
    "start_time": "2024-06-16T18:53:38.401Z"
   },
   {
    "duration": 17,
    "start_time": "2024-06-16T18:53:38.418Z"
   },
   {
    "duration": 14,
    "start_time": "2024-06-16T18:53:38.436Z"
   },
   {
    "duration": 4,
    "start_time": "2024-06-16T18:53:38.451Z"
   },
   {
    "duration": 3,
    "start_time": "2024-06-16T18:53:38.458Z"
   },
   {
    "duration": 31,
    "start_time": "2024-06-16T18:53:38.462Z"
   },
   {
    "duration": 13,
    "start_time": "2024-06-16T18:53:38.494Z"
   },
   {
    "duration": 9,
    "start_time": "2024-06-16T18:53:38.508Z"
   },
   {
    "duration": 6,
    "start_time": "2024-06-16T18:53:38.518Z"
   },
   {
    "duration": 18,
    "start_time": "2024-06-16T18:53:38.526Z"
   },
   {
    "duration": 11,
    "start_time": "2024-06-16T18:53:38.546Z"
   },
   {
    "duration": 50,
    "start_time": "2024-06-16T18:53:38.559Z"
   },
   {
    "duration": 34,
    "start_time": "2024-06-16T18:53:38.611Z"
   },
   {
    "duration": 4,
    "start_time": "2024-06-16T18:53:38.647Z"
   },
   {
    "duration": 65,
    "start_time": "2024-06-16T18:53:38.652Z"
   },
   {
    "duration": 37,
    "start_time": "2024-06-16T18:53:38.718Z"
   },
   {
    "duration": 3,
    "start_time": "2024-06-16T18:53:38.757Z"
   },
   {
    "duration": 30,
    "start_time": "2024-06-16T18:53:38.761Z"
   },
   {
    "duration": 46,
    "start_time": "2024-06-16T18:53:38.792Z"
   },
   {
    "duration": 1132,
    "start_time": "2024-06-16T18:53:54.942Z"
   },
   {
    "duration": 184,
    "start_time": "2024-06-16T18:53:56.076Z"
   },
   {
    "duration": 5,
    "start_time": "2024-06-16T18:53:56.261Z"
   },
   {
    "duration": 116,
    "start_time": "2024-06-16T18:53:56.268Z"
   },
   {
    "duration": 8,
    "start_time": "2024-06-16T18:53:56.386Z"
   },
   {
    "duration": 76,
    "start_time": "2024-06-16T18:53:56.396Z"
   },
   {
    "duration": 328,
    "start_time": "2024-06-16T18:53:56.473Z"
   },
   {
    "duration": 180,
    "start_time": "2024-06-16T18:53:56.803Z"
   },
   {
    "duration": 61,
    "start_time": "2024-06-16T18:53:56.985Z"
   },
   {
    "duration": 15,
    "start_time": "2024-06-16T18:53:57.048Z"
   },
   {
    "duration": 28,
    "start_time": "2024-06-16T18:53:57.065Z"
   },
   {
    "duration": 18,
    "start_time": "2024-06-16T18:53:57.095Z"
   },
   {
    "duration": 43,
    "start_time": "2024-06-16T18:53:57.114Z"
   },
   {
    "duration": 88,
    "start_time": "2024-06-16T18:53:57.159Z"
   },
   {
    "duration": 384,
    "start_time": "2024-06-16T18:53:57.249Z"
   },
   {
    "duration": 33,
    "start_time": "2024-06-16T18:53:57.634Z"
   },
   {
    "duration": 60,
    "start_time": "2024-06-16T18:53:57.669Z"
   },
   {
    "duration": 46,
    "start_time": "2024-06-16T18:53:57.731Z"
   },
   {
    "duration": 29,
    "start_time": "2024-06-16T18:53:57.779Z"
   },
   {
    "duration": 76,
    "start_time": "2024-06-16T18:53:57.810Z"
   },
   {
    "duration": 82,
    "start_time": "2024-06-16T18:53:57.887Z"
   },
   {
    "duration": 106,
    "start_time": "2024-06-16T18:53:57.971Z"
   },
   {
    "duration": 39,
    "start_time": "2024-06-16T18:53:58.080Z"
   },
   {
    "duration": 24,
    "start_time": "2024-06-16T18:53:58.121Z"
   },
   {
    "duration": 16,
    "start_time": "2024-06-16T18:53:58.147Z"
   },
   {
    "duration": 36,
    "start_time": "2024-06-16T18:53:58.164Z"
   },
   {
    "duration": 3,
    "start_time": "2024-06-16T18:53:58.202Z"
   },
   {
    "duration": 7,
    "start_time": "2024-06-16T18:53:58.208Z"
   },
   {
    "duration": 4,
    "start_time": "2024-06-16T18:53:58.217Z"
   },
   {
    "duration": 4,
    "start_time": "2024-06-16T18:53:58.223Z"
   },
   {
    "duration": 9,
    "start_time": "2024-06-16T18:53:58.228Z"
   },
   {
    "duration": 9,
    "start_time": "2024-06-16T18:53:58.238Z"
   },
   {
    "duration": 57,
    "start_time": "2024-06-16T18:53:58.249Z"
   },
   {
    "duration": 9,
    "start_time": "2024-06-16T18:53:58.308Z"
   },
   {
    "duration": 29,
    "start_time": "2024-06-16T18:53:58.319Z"
   },
   {
    "duration": 58,
    "start_time": "2024-06-16T18:53:58.350Z"
   },
   {
    "duration": 4,
    "start_time": "2024-06-16T18:53:58.410Z"
   },
   {
    "duration": 42,
    "start_time": "2024-06-16T18:53:58.416Z"
   },
   {
    "duration": 60,
    "start_time": "2024-06-16T18:53:58.460Z"
   },
   {
    "duration": 5,
    "start_time": "2024-06-16T18:53:58.521Z"
   },
   {
    "duration": 7,
    "start_time": "2024-06-16T18:53:58.527Z"
   },
   {
    "duration": 23,
    "start_time": "2024-06-16T18:53:58.535Z"
   },
   {
    "duration": 22,
    "start_time": "2024-06-16T18:54:38.028Z"
   },
   {
    "duration": 115,
    "start_time": "2024-06-16T18:59:41.220Z"
   },
   {
    "duration": 115,
    "start_time": "2024-06-16T18:59:57.697Z"
   },
   {
    "duration": 103,
    "start_time": "2024-06-16T19:01:15.429Z"
   },
   {
    "duration": 103,
    "start_time": "2024-06-16T19:01:25.954Z"
   },
   {
    "duration": 339,
    "start_time": "2024-06-16T19:03:01.276Z"
   },
   {
    "duration": 109,
    "start_time": "2024-06-16T19:03:27.637Z"
   },
   {
    "duration": 113,
    "start_time": "2024-06-16T19:04:09.361Z"
   },
   {
    "duration": 103,
    "start_time": "2024-06-16T19:09:06.966Z"
   },
   {
    "duration": 9,
    "start_time": "2024-06-16T19:09:55.804Z"
   },
   {
    "duration": 5,
    "start_time": "2024-06-16T19:10:50.972Z"
   },
   {
    "duration": 104,
    "start_time": "2024-06-16T19:11:34.528Z"
   },
   {
    "duration": 100,
    "start_time": "2024-06-16T19:11:45.589Z"
   },
   {
    "duration": 5,
    "start_time": "2024-06-16T19:11:52.002Z"
   },
   {
    "duration": 5,
    "start_time": "2024-06-16T19:17:14.379Z"
   },
   {
    "duration": 4,
    "start_time": "2024-06-16T19:20:53.512Z"
   },
   {
    "duration": 782,
    "start_time": "2024-06-16T19:20:56.641Z"
   },
   {
    "duration": 8,
    "start_time": "2024-06-16T19:21:45.183Z"
   },
   {
    "duration": 4,
    "start_time": "2024-06-16T19:21:48.002Z"
   },
   {
    "duration": 4,
    "start_time": "2024-06-16T19:22:03.766Z"
   },
   {
    "duration": 726,
    "start_time": "2024-06-16T19:22:06.620Z"
   },
   {
    "duration": 3,
    "start_time": "2024-06-16T19:22:36.773Z"
   },
   {
    "duration": 666,
    "start_time": "2024-06-16T19:22:43.541Z"
   },
   {
    "duration": 4,
    "start_time": "2024-06-16T19:24:38.341Z"
   },
   {
    "duration": 683,
    "start_time": "2024-06-16T19:24:42.040Z"
   },
   {
    "duration": 859,
    "start_time": "2024-06-16T19:25:20.218Z"
   },
   {
    "duration": 4,
    "start_time": "2024-06-16T19:26:17.589Z"
   },
   {
    "duration": 717,
    "start_time": "2024-06-16T19:26:20.572Z"
   },
   {
    "duration": 4,
    "start_time": "2024-06-16T19:27:40.341Z"
   },
   {
    "duration": 5,
    "start_time": "2024-06-16T19:27:43.900Z"
   },
   {
    "duration": 13,
    "start_time": "2024-06-16T19:28:30.188Z"
   },
   {
    "duration": 6,
    "start_time": "2024-06-16T19:28:48.712Z"
   },
   {
    "duration": 4,
    "start_time": "2024-06-16T19:30:25.647Z"
   },
   {
    "duration": 709,
    "start_time": "2024-06-16T19:30:28.265Z"
   },
   {
    "duration": 5,
    "start_time": "2024-06-16T19:30:53.842Z"
   },
   {
    "duration": 5,
    "start_time": "2024-06-16T19:30:58.307Z"
   },
   {
    "duration": 9,
    "start_time": "2024-06-16T19:31:43.124Z"
   },
   {
    "duration": 5,
    "start_time": "2024-06-16T19:31:48.550Z"
   },
   {
    "duration": 4,
    "start_time": "2024-06-16T19:32:50.849Z"
   },
   {
    "duration": 5,
    "start_time": "2024-06-16T19:32:54.110Z"
   },
   {
    "duration": 5,
    "start_time": "2024-06-16T19:34:28.089Z"
   },
   {
    "duration": 5,
    "start_time": "2024-06-16T19:35:21.065Z"
   },
   {
    "duration": 8,
    "start_time": "2024-06-16T19:35:54.007Z"
   },
   {
    "duration": 9,
    "start_time": "2024-06-16T19:35:58.522Z"
   },
   {
    "duration": 5,
    "start_time": "2024-06-16T19:37:26.429Z"
   },
   {
    "duration": 8,
    "start_time": "2024-06-16T19:37:29.135Z"
   },
   {
    "duration": 1220,
    "start_time": "2024-06-16T19:38:39.076Z"
   },
   {
    "duration": 181,
    "start_time": "2024-06-16T19:38:40.297Z"
   },
   {
    "duration": 5,
    "start_time": "2024-06-16T19:38:40.480Z"
   },
   {
    "duration": 108,
    "start_time": "2024-06-16T19:38:40.491Z"
   },
   {
    "duration": 7,
    "start_time": "2024-06-16T19:38:40.601Z"
   },
   {
    "duration": 88,
    "start_time": "2024-06-16T19:38:40.610Z"
   },
   {
    "duration": 307,
    "start_time": "2024-06-16T19:38:40.700Z"
   },
   {
    "duration": 156,
    "start_time": "2024-06-16T19:38:41.009Z"
   },
   {
    "duration": 69,
    "start_time": "2024-06-16T19:38:41.167Z"
   },
   {
    "duration": 19,
    "start_time": "2024-06-16T19:38:41.238Z"
   },
   {
    "duration": 13,
    "start_time": "2024-06-16T19:38:41.258Z"
   },
   {
    "duration": 31,
    "start_time": "2024-06-16T19:38:41.273Z"
   },
   {
    "duration": 33,
    "start_time": "2024-06-16T19:38:41.306Z"
   },
   {
    "duration": 84,
    "start_time": "2024-06-16T19:38:41.343Z"
   },
   {
    "duration": 382,
    "start_time": "2024-06-16T19:38:41.428Z"
   },
   {
    "duration": 37,
    "start_time": "2024-06-16T19:38:41.812Z"
   },
   {
    "duration": 66,
    "start_time": "2024-06-16T19:38:41.851Z"
   },
   {
    "duration": 46,
    "start_time": "2024-06-16T19:38:41.918Z"
   },
   {
    "duration": 32,
    "start_time": "2024-06-16T19:38:41.966Z"
   },
   {
    "duration": 31,
    "start_time": "2024-06-16T19:38:42.000Z"
   },
   {
    "duration": 111,
    "start_time": "2024-06-16T19:38:42.033Z"
   },
   {
    "duration": 92,
    "start_time": "2024-06-16T19:38:42.146Z"
   },
   {
    "duration": 20,
    "start_time": "2024-06-16T19:38:42.240Z"
   },
   {
    "duration": 33,
    "start_time": "2024-06-16T19:38:42.261Z"
   },
   {
    "duration": 15,
    "start_time": "2024-06-16T19:38:42.296Z"
   },
   {
    "duration": 15,
    "start_time": "2024-06-16T19:38:42.313Z"
   },
   {
    "duration": 3,
    "start_time": "2024-06-16T19:38:42.330Z"
   },
   {
    "duration": 7,
    "start_time": "2024-06-16T19:38:42.335Z"
   },
   {
    "duration": 7,
    "start_time": "2024-06-16T19:38:42.344Z"
   },
   {
    "duration": 4,
    "start_time": "2024-06-16T19:38:42.352Z"
   },
   {
    "duration": 8,
    "start_time": "2024-06-16T19:38:42.391Z"
   },
   {
    "duration": 30,
    "start_time": "2024-06-16T19:38:42.402Z"
   },
   {
    "duration": 33,
    "start_time": "2024-06-16T19:38:42.434Z"
   },
   {
    "duration": 4,
    "start_time": "2024-06-16T19:38:42.492Z"
   },
   {
    "duration": 118,
    "start_time": "2024-06-16T19:38:42.497Z"
   },
   {
    "duration": 4,
    "start_time": "2024-06-16T19:38:42.617Z"
   },
   {
    "duration": 4,
    "start_time": "2024-06-16T19:38:42.623Z"
   },
   {
    "duration": 4,
    "start_time": "2024-06-16T19:38:42.628Z"
   },
   {
    "duration": 5,
    "start_time": "2024-06-16T19:38:42.634Z"
   },
   {
    "duration": 15,
    "start_time": "2024-06-16T19:38:42.640Z"
   },
   {
    "duration": 6,
    "start_time": "2024-06-16T19:38:42.658Z"
   },
   {
    "duration": 25,
    "start_time": "2024-06-16T19:38:42.692Z"
   },
   {
    "duration": 9,
    "start_time": "2024-06-16T19:38:42.718Z"
   },
   {
    "duration": 9,
    "start_time": "2024-06-16T19:38:45.272Z"
   },
   {
    "duration": 5,
    "start_time": "2024-06-16T19:39:01.260Z"
   },
   {
    "duration": 55,
    "start_time": "2024-06-16T19:40:42.753Z"
   },
   {
    "duration": 58,
    "start_time": "2024-06-16T19:41:00.386Z"
   },
   {
    "duration": 80,
    "start_time": "2024-06-16T19:41:11.665Z"
   },
   {
    "duration": 8,
    "start_time": "2024-06-16T19:41:28.476Z"
   },
   {
    "duration": 132,
    "start_time": "2024-06-16T19:41:51.073Z"
   },
   {
    "duration": 7,
    "start_time": "2024-06-16T19:42:17.015Z"
   },
   {
    "duration": 7,
    "start_time": "2024-06-16T19:42:30.509Z"
   },
   {
    "duration": 4,
    "start_time": "2024-06-16T19:43:20.549Z"
   },
   {
    "duration": 34,
    "start_time": "2024-06-16T19:43:23.212Z"
   },
   {
    "duration": 4,
    "start_time": "2024-06-16T19:43:47.929Z"
   },
   {
    "duration": 7,
    "start_time": "2024-06-16T19:43:51.120Z"
   },
   {
    "duration": 4,
    "start_time": "2024-06-16T19:44:10.023Z"
   },
   {
    "duration": 4,
    "start_time": "2024-06-16T19:44:47.684Z"
   },
   {
    "duration": 9,
    "start_time": "2024-06-16T19:44:51.309Z"
   },
   {
    "duration": 8,
    "start_time": "2024-06-16T19:46:51.198Z"
   },
   {
    "duration": 11,
    "start_time": "2024-06-16T19:46:54.451Z"
   },
   {
    "duration": 2,
    "start_time": "2024-06-16T19:50:30.090Z"
   },
   {
    "duration": 11,
    "start_time": "2024-06-16T19:50:43.460Z"
   },
   {
    "duration": 9,
    "start_time": "2024-06-16T19:50:52.525Z"
   },
   {
    "duration": 14,
    "start_time": "2024-06-16T19:50:57.791Z"
   },
   {
    "duration": 6,
    "start_time": "2024-06-16T19:54:55.280Z"
   },
   {
    "duration": 16,
    "start_time": "2024-06-16T19:54:57.442Z"
   },
   {
    "duration": 6,
    "start_time": "2024-06-16T19:58:27.605Z"
   },
   {
    "duration": 15,
    "start_time": "2024-06-16T19:58:32.271Z"
   },
   {
    "duration": 6,
    "start_time": "2024-06-16T20:01:47.625Z"
   },
   {
    "duration": 15,
    "start_time": "2024-06-16T20:01:49.769Z"
   },
   {
    "duration": 6,
    "start_time": "2024-06-16T20:02:33.463Z"
   },
   {
    "duration": 17,
    "start_time": "2024-06-16T20:02:35.727Z"
   },
   {
    "duration": 7,
    "start_time": "2024-06-16T20:03:33.524Z"
   },
   {
    "duration": 3,
    "start_time": "2024-06-16T20:03:45.715Z"
   },
   {
    "duration": 6,
    "start_time": "2024-06-16T20:03:46.856Z"
   },
   {
    "duration": 16,
    "start_time": "2024-06-16T20:03:48.710Z"
   },
   {
    "duration": 3,
    "start_time": "2024-06-16T20:04:26.448Z"
   },
   {
    "duration": 6,
    "start_time": "2024-06-16T20:04:28.143Z"
   },
   {
    "duration": 17,
    "start_time": "2024-06-16T20:04:30.640Z"
   },
   {
    "duration": 8,
    "start_time": "2024-06-16T20:08:02.729Z"
   },
   {
    "duration": 18,
    "start_time": "2024-06-16T20:08:04.502Z"
   },
   {
    "duration": 6,
    "start_time": "2024-06-16T20:08:15.589Z"
   },
   {
    "duration": 16,
    "start_time": "2024-06-16T20:08:17.414Z"
   },
   {
    "duration": 9,
    "start_time": "2024-06-16T20:08:36.557Z"
   },
   {
    "duration": 19,
    "start_time": "2024-06-16T20:08:38.134Z"
   },
   {
    "duration": 64,
    "start_time": "2024-06-16T20:14:09.557Z"
   },
   {
    "duration": 58,
    "start_time": "2024-06-16T20:16:34.172Z"
   },
   {
    "duration": 2,
    "start_time": "2024-06-16T20:18:16.935Z"
   },
   {
    "duration": 7,
    "start_time": "2024-06-16T20:19:00.693Z"
   },
   {
    "duration": 16,
    "start_time": "2024-06-16T20:19:51.939Z"
   },
   {
    "duration": 54,
    "start_time": "2024-06-16T20:21:12.080Z"
   },
   {
    "duration": 22,
    "start_time": "2024-06-16T20:25:00.472Z"
   },
   {
    "duration": 16,
    "start_time": "2024-06-16T20:25:50.231Z"
   },
   {
    "duration": 29,
    "start_time": "2024-06-16T20:29:15.516Z"
   },
   {
    "duration": 11,
    "start_time": "2024-06-16T20:30:19.080Z"
   },
   {
    "duration": 15,
    "start_time": "2024-06-16T20:31:17.578Z"
   },
   {
    "duration": 13,
    "start_time": "2024-06-16T20:31:25.320Z"
   },
   {
    "duration": 24,
    "start_time": "2024-06-16T20:32:53.886Z"
   },
   {
    "duration": 9,
    "start_time": "2024-06-16T20:33:02.165Z"
   },
   {
    "duration": 13,
    "start_time": "2024-06-16T20:33:05.529Z"
   },
   {
    "duration": 3,
    "start_time": "2024-06-16T20:34:16.576Z"
   },
   {
    "duration": 9,
    "start_time": "2024-06-16T20:34:23.532Z"
   },
   {
    "duration": 10,
    "start_time": "2024-06-16T20:34:32.671Z"
   },
   {
    "duration": 5,
    "start_time": "2024-06-16T20:34:45.050Z"
   },
   {
    "duration": 5,
    "start_time": "2024-06-16T20:35:12.730Z"
   },
   {
    "duration": 22,
    "start_time": "2024-06-16T20:35:34.713Z"
   },
   {
    "duration": 6,
    "start_time": "2024-06-16T20:35:38.381Z"
   },
   {
    "duration": 5,
    "start_time": "2024-06-16T20:35:47.754Z"
   },
   {
    "duration": 8,
    "start_time": "2024-06-16T20:35:55.890Z"
   },
   {
    "duration": 21,
    "start_time": "2024-06-16T20:35:58.291Z"
   },
   {
    "duration": 4,
    "start_time": "2024-06-16T20:52:47.168Z"
   },
   {
    "duration": 76,
    "start_time": "2024-06-16T20:53:43.637Z"
   },
   {
    "duration": 21,
    "start_time": "2024-06-16T20:57:15.710Z"
   },
   {
    "duration": 16,
    "start_time": "2024-06-16T20:57:18.864Z"
   },
   {
    "duration": 14,
    "start_time": "2024-06-16T20:57:21.453Z"
   },
   {
    "duration": 16,
    "start_time": "2024-06-16T20:57:23.484Z"
   },
   {
    "duration": 4,
    "start_time": "2024-06-16T20:57:25.522Z"
   },
   {
    "duration": 4,
    "start_time": "2024-06-16T20:57:26.304Z"
   },
   {
    "duration": 9,
    "start_time": "2024-06-16T20:57:26.920Z"
   },
   {
    "duration": 3,
    "start_time": "2024-06-16T20:57:42.203Z"
   },
   {
    "duration": 3,
    "start_time": "2024-06-16T20:58:18.831Z"
   },
   {
    "duration": 5,
    "start_time": "2024-06-16T20:58:36.263Z"
   },
   {
    "duration": 1165,
    "start_time": "2024-06-16T20:58:46.595Z"
   },
   {
    "duration": 181,
    "start_time": "2024-06-16T20:58:47.762Z"
   },
   {
    "duration": 5,
    "start_time": "2024-06-16T20:58:47.945Z"
   },
   {
    "duration": 113,
    "start_time": "2024-06-16T20:58:47.952Z"
   },
   {
    "duration": 8,
    "start_time": "2024-06-16T20:58:48.067Z"
   },
   {
    "duration": 80,
    "start_time": "2024-06-16T20:58:48.077Z"
   },
   {
    "duration": 316,
    "start_time": "2024-06-16T20:58:48.159Z"
   },
   {
    "duration": 161,
    "start_time": "2024-06-16T20:58:48.477Z"
   },
   {
    "duration": 61,
    "start_time": "2024-06-16T20:58:48.640Z"
   },
   {
    "duration": 13,
    "start_time": "2024-06-16T20:58:48.703Z"
   },
   {
    "duration": 7,
    "start_time": "2024-06-16T20:58:48.718Z"
   },
   {
    "duration": 18,
    "start_time": "2024-06-16T20:58:48.726Z"
   },
   {
    "duration": 53,
    "start_time": "2024-06-16T20:58:48.746Z"
   },
   {
    "duration": 56,
    "start_time": "2024-06-16T20:58:48.802Z"
   },
   {
    "duration": 367,
    "start_time": "2024-06-16T20:58:48.860Z"
   },
   {
    "duration": 32,
    "start_time": "2024-06-16T20:58:49.229Z"
   },
   {
    "duration": 59,
    "start_time": "2024-06-16T20:58:49.263Z"
   },
   {
    "duration": 46,
    "start_time": "2024-06-16T20:58:49.324Z"
   },
   {
    "duration": 33,
    "start_time": "2024-06-16T20:58:49.372Z"
   },
   {
    "duration": 27,
    "start_time": "2024-06-16T20:58:49.407Z"
   },
   {
    "duration": 94,
    "start_time": "2024-06-16T20:58:49.436Z"
   },
   {
    "duration": 97,
    "start_time": "2024-06-16T20:58:49.532Z"
   },
   {
    "duration": 22,
    "start_time": "2024-06-16T20:58:49.631Z"
   },
   {
    "duration": 17,
    "start_time": "2024-06-16T20:58:49.654Z"
   },
   {
    "duration": 36,
    "start_time": "2024-06-16T20:58:49.673Z"
   },
   {
    "duration": 15,
    "start_time": "2024-06-16T20:58:49.711Z"
   },
   {
    "duration": 9,
    "start_time": "2024-06-16T20:58:49.727Z"
   },
   {
    "duration": 14,
    "start_time": "2024-06-16T20:58:49.737Z"
   },
   {
    "duration": 6,
    "start_time": "2024-06-16T20:58:49.753Z"
   },
   {
    "duration": 6,
    "start_time": "2024-06-16T20:58:49.761Z"
   },
   {
    "duration": 13,
    "start_time": "2024-06-16T20:58:49.792Z"
   },
   {
    "duration": 57,
    "start_time": "2024-06-16T20:58:49.807Z"
   },
   {
    "duration": 48,
    "start_time": "2024-06-16T20:58:49.866Z"
   },
   {
    "duration": 4,
    "start_time": "2024-06-16T20:58:49.916Z"
   },
   {
    "duration": 142,
    "start_time": "2024-06-16T20:58:49.922Z"
   },
   {
    "duration": 3,
    "start_time": "2024-06-16T20:58:50.066Z"
   },
   {
    "duration": 28,
    "start_time": "2024-06-16T20:58:50.071Z"
   },
   {
    "duration": 38,
    "start_time": "2024-06-16T20:58:50.101Z"
   },
   {
    "duration": 22,
    "start_time": "2024-06-16T20:58:50.141Z"
   },
   {
    "duration": 40,
    "start_time": "2024-06-16T20:58:50.165Z"
   },
   {
    "duration": 27,
    "start_time": "2024-06-16T20:58:50.211Z"
   },
   {
    "duration": 8,
    "start_time": "2024-06-16T20:58:50.239Z"
   },
   {
    "duration": 28,
    "start_time": "2024-06-16T20:58:50.249Z"
   },
   {
    "duration": 875,
    "start_time": "2024-06-17T08:30:28.335Z"
   },
   {
    "duration": 743,
    "start_time": "2024-06-17T08:30:29.212Z"
   },
   {
    "duration": 4,
    "start_time": "2024-06-17T08:30:29.959Z"
   },
   {
    "duration": 86,
    "start_time": "2024-06-17T08:30:29.964Z"
   },
   {
    "duration": 7,
    "start_time": "2024-06-17T08:30:30.052Z"
   },
   {
    "duration": 93,
    "start_time": "2024-06-17T08:30:30.060Z"
   },
   {
    "duration": 270,
    "start_time": "2024-06-17T08:30:30.154Z"
   },
   {
    "duration": 116,
    "start_time": "2024-06-17T08:30:30.425Z"
   },
   {
    "duration": 110,
    "start_time": "2024-06-17T08:30:30.543Z"
   },
   {
    "duration": 97,
    "start_time": "2024-06-17T08:30:30.654Z"
   },
   {
    "duration": 108,
    "start_time": "2024-06-17T08:30:30.752Z"
   },
   {
    "duration": 76,
    "start_time": "2024-06-17T08:30:30.861Z"
   },
   {
    "duration": 80,
    "start_time": "2024-06-17T08:30:30.938Z"
   },
   {
    "duration": 77,
    "start_time": "2024-06-17T08:30:31.019Z"
   },
   {
    "duration": 285,
    "start_time": "2024-06-17T08:30:31.098Z"
   },
   {
    "duration": 23,
    "start_time": "2024-06-17T08:30:31.389Z"
   },
   {
    "duration": 137,
    "start_time": "2024-06-17T08:30:31.413Z"
   },
   {
    "duration": 42,
    "start_time": "2024-06-17T08:30:31.551Z"
   },
   {
    "duration": 15,
    "start_time": "2024-06-17T08:30:31.595Z"
   },
   {
    "duration": 57,
    "start_time": "2024-06-17T08:30:31.611Z"
   },
   {
    "duration": 224,
    "start_time": "2024-06-17T08:30:31.669Z"
   },
   {
    "duration": 60,
    "start_time": "2024-06-17T08:30:31.894Z"
   },
   {
    "duration": 15,
    "start_time": "2024-06-17T08:30:31.956Z"
   },
   {
    "duration": 36,
    "start_time": "2024-06-17T08:30:31.973Z"
   },
   {
    "duration": 45,
    "start_time": "2024-06-17T08:30:32.010Z"
   },
   {
    "duration": 186,
    "start_time": "2024-06-17T08:30:32.056Z"
   },
   {
    "duration": 103,
    "start_time": "2024-06-17T08:30:32.245Z"
   },
   {
    "duration": 19,
    "start_time": "2024-06-17T08:30:32.349Z"
   },
   {
    "duration": 23,
    "start_time": "2024-06-17T08:30:32.369Z"
   },
   {
    "duration": 17,
    "start_time": "2024-06-17T08:30:32.393Z"
   },
   {
    "duration": 23,
    "start_time": "2024-06-17T08:30:32.411Z"
   },
   {
    "duration": 48,
    "start_time": "2024-06-17T08:30:32.435Z"
   },
   {
    "duration": 27,
    "start_time": "2024-06-17T08:30:32.484Z"
   },
   {
    "duration": 3,
    "start_time": "2024-06-17T08:30:32.512Z"
   },
   {
    "duration": 191,
    "start_time": "2024-06-17T08:30:32.516Z"
   },
   {
    "duration": 2,
    "start_time": "2024-06-17T08:30:32.708Z"
   },
   {
    "duration": 66,
    "start_time": "2024-06-17T08:30:32.711Z"
   },
   {
    "duration": 54,
    "start_time": "2024-06-17T08:30:32.778Z"
   },
   {
    "duration": 19,
    "start_time": "2024-06-17T08:30:32.833Z"
   },
   {
    "duration": 22,
    "start_time": "2024-06-17T08:30:32.853Z"
   },
   {
    "duration": 19,
    "start_time": "2024-06-17T08:30:32.876Z"
   },
   {
    "duration": 6,
    "start_time": "2024-06-17T08:30:32.896Z"
   },
   {
    "duration": 35,
    "start_time": "2024-06-17T08:30:32.903Z"
   },
   {
    "duration": 891,
    "start_time": "2024-06-17T08:49:59.613Z"
   },
   {
    "duration": 130,
    "start_time": "2024-06-17T08:50:00.506Z"
   },
   {
    "duration": 49,
    "start_time": "2024-06-17T08:50:00.638Z"
   },
   {
    "duration": 534,
    "start_time": "2024-06-17T08:50:00.689Z"
   },
   {
    "duration": 49,
    "start_time": "2024-06-17T08:50:01.225Z"
   },
   {
    "duration": 96,
    "start_time": "2024-06-17T08:50:01.275Z"
   },
   {
    "duration": 243,
    "start_time": "2024-06-17T08:50:01.372Z"
   },
   {
    "duration": 102,
    "start_time": "2024-06-17T08:50:01.617Z"
   },
   {
    "duration": 150,
    "start_time": "2024-06-17T08:50:01.721Z"
   },
   {
    "duration": 9,
    "start_time": "2024-06-17T08:50:01.873Z"
   },
   {
    "duration": 43,
    "start_time": "2024-06-17T08:50:01.883Z"
   },
   {
    "duration": 193,
    "start_time": "2024-06-17T08:50:01.927Z"
   },
   {
    "duration": 154,
    "start_time": "2024-06-17T08:50:02.122Z"
   },
   {
    "duration": 113,
    "start_time": "2024-06-17T08:50:02.277Z"
   },
   {
    "duration": 364,
    "start_time": "2024-06-17T08:50:02.391Z"
   },
   {
    "duration": 23,
    "start_time": "2024-06-17T08:50:02.756Z"
   },
   {
    "duration": 47,
    "start_time": "2024-06-17T08:50:02.781Z"
   },
   {
    "duration": 36,
    "start_time": "2024-06-17T08:50:02.829Z"
   },
   {
    "duration": 21,
    "start_time": "2024-06-17T08:50:02.866Z"
   },
   {
    "duration": 33,
    "start_time": "2024-06-17T08:50:02.889Z"
   },
   {
    "duration": 60,
    "start_time": "2024-06-17T08:50:02.924Z"
   },
   {
    "duration": 61,
    "start_time": "2024-06-17T08:50:02.985Z"
   },
   {
    "duration": 23,
    "start_time": "2024-06-17T08:50:03.047Z"
   },
   {
    "duration": 23,
    "start_time": "2024-06-17T08:50:03.071Z"
   },
   {
    "duration": 13,
    "start_time": "2024-06-17T08:50:03.095Z"
   },
   {
    "duration": 93,
    "start_time": "2024-06-17T08:50:03.109Z"
   },
   {
    "duration": 49,
    "start_time": "2024-06-17T08:50:03.203Z"
   },
   {
    "duration": 21,
    "start_time": "2024-06-17T08:50:03.254Z"
   },
   {
    "duration": 23,
    "start_time": "2024-06-17T08:50:03.276Z"
   },
   {
    "duration": 21,
    "start_time": "2024-06-17T08:50:03.300Z"
   },
   {
    "duration": 17,
    "start_time": "2024-06-17T08:50:03.322Z"
   },
   {
    "duration": 53,
    "start_time": "2024-06-17T08:50:03.340Z"
   },
   {
    "duration": 31,
    "start_time": "2024-06-17T08:50:03.394Z"
   },
   {
    "duration": 85,
    "start_time": "2024-06-17T08:50:03.426Z"
   },
   {
    "duration": 313,
    "start_time": "2024-06-17T08:50:03.512Z"
   },
   {
    "duration": 2,
    "start_time": "2024-06-17T08:50:03.826Z"
   },
   {
    "duration": 48,
    "start_time": "2024-06-17T08:50:03.830Z"
   },
   {
    "duration": 44,
    "start_time": "2024-06-17T08:50:03.880Z"
   },
   {
    "duration": 20,
    "start_time": "2024-06-17T08:50:03.925Z"
   },
   {
    "duration": 12,
    "start_time": "2024-06-17T08:50:03.946Z"
   },
   {
    "duration": 51,
    "start_time": "2024-06-17T08:50:03.959Z"
   },
   {
    "duration": 75,
    "start_time": "2024-06-17T08:50:04.012Z"
   },
   {
    "duration": 32,
    "start_time": "2024-06-17T08:50:04.088Z"
   },
   {
    "duration": 1342,
    "start_time": "2024-06-17T09:36:55.540Z"
   },
   {
    "duration": 859,
    "start_time": "2024-06-17T09:36:56.884Z"
   },
   {
    "duration": 5,
    "start_time": "2024-06-17T09:36:57.745Z"
   },
   {
    "duration": 107,
    "start_time": "2024-06-17T09:36:57.752Z"
   },
   {
    "duration": 7,
    "start_time": "2024-06-17T09:36:57.862Z"
   },
   {
    "duration": 82,
    "start_time": "2024-06-17T09:36:57.871Z"
   },
   {
    "duration": 321,
    "start_time": "2024-06-17T09:36:57.954Z"
   },
   {
    "duration": 156,
    "start_time": "2024-06-17T09:36:58.276Z"
   },
   {
    "duration": 67,
    "start_time": "2024-06-17T09:36:58.434Z"
   },
   {
    "duration": 15,
    "start_time": "2024-06-17T09:36:58.503Z"
   },
   {
    "duration": 20,
    "start_time": "2024-06-17T09:36:58.519Z"
   },
   {
    "duration": 18,
    "start_time": "2024-06-17T09:36:58.541Z"
   },
   {
    "duration": 51,
    "start_time": "2024-06-17T09:36:58.561Z"
   },
   {
    "duration": 57,
    "start_time": "2024-06-17T09:36:58.615Z"
   },
   {
    "duration": 382,
    "start_time": "2024-06-17T09:36:58.673Z"
   },
   {
    "duration": 33,
    "start_time": "2024-06-17T09:36:59.057Z"
   },
   {
    "duration": 49,
    "start_time": "2024-06-17T09:36:59.099Z"
   },
   {
    "duration": 59,
    "start_time": "2024-06-17T09:36:59.149Z"
   },
   {
    "duration": 21,
    "start_time": "2024-06-17T09:36:59.209Z"
   },
   {
    "duration": 27,
    "start_time": "2024-06-17T09:36:59.231Z"
   },
   {
    "duration": 93,
    "start_time": "2024-06-17T09:36:59.260Z"
   },
   {
    "duration": 90,
    "start_time": "2024-06-17T09:36:59.354Z"
   },
   {
    "duration": 23,
    "start_time": "2024-06-17T09:36:59.445Z"
   },
   {
    "duration": 34,
    "start_time": "2024-06-17T09:36:59.469Z"
   },
   {
    "duration": 19,
    "start_time": "2024-06-17T09:36:59.504Z"
   },
   {
    "duration": 16,
    "start_time": "2024-06-17T09:36:59.524Z"
   },
   {
    "duration": 3,
    "start_time": "2024-06-17T09:36:59.542Z"
   },
   {
    "duration": 5,
    "start_time": "2024-06-17T09:36:59.546Z"
   },
   {
    "duration": 11,
    "start_time": "2024-06-17T09:36:59.553Z"
   },
   {
    "duration": 36,
    "start_time": "2024-06-17T09:36:59.565Z"
   },
   {
    "duration": 7,
    "start_time": "2024-06-17T09:36:59.603Z"
   },
   {
    "duration": 32,
    "start_time": "2024-06-17T09:36:59.612Z"
   },
   {
    "duration": 36,
    "start_time": "2024-06-17T09:36:59.646Z"
   },
   {
    "duration": 5,
    "start_time": "2024-06-17T09:36:59.700Z"
   },
   {
    "duration": 125,
    "start_time": "2024-06-17T09:36:59.706Z"
   },
   {
    "duration": 3,
    "start_time": "2024-06-17T09:36:59.832Z"
   },
   {
    "duration": 7,
    "start_time": "2024-06-17T09:36:59.836Z"
   },
   {
    "duration": 20,
    "start_time": "2024-06-17T09:36:59.845Z"
   },
   {
    "duration": 41,
    "start_time": "2024-06-17T09:36:59.866Z"
   },
   {
    "duration": 16,
    "start_time": "2024-06-17T09:36:59.908Z"
   },
   {
    "duration": 23,
    "start_time": "2024-06-17T09:36:59.928Z"
   },
   {
    "duration": 9,
    "start_time": "2024-06-17T09:36:59.953Z"
   },
   {
    "duration": 50,
    "start_time": "2024-06-17T09:36:59.964Z"
   },
   {
    "duration": 91,
    "start_time": "2024-06-17T09:38:01.880Z"
   },
   {
    "duration": 4,
    "start_time": "2024-06-17T09:41:06.236Z"
   },
   {
    "duration": 148,
    "start_time": "2024-06-17T09:41:12.296Z"
   },
   {
    "duration": 4,
    "start_time": "2024-06-17T09:42:18.734Z"
   },
   {
    "duration": 155,
    "start_time": "2024-06-17T09:42:21.313Z"
   },
   {
    "duration": 4,
    "start_time": "2024-06-17T09:42:38.587Z"
   },
   {
    "duration": 151,
    "start_time": "2024-06-17T09:42:41.778Z"
   },
   {
    "duration": 4,
    "start_time": "2024-06-17T09:43:02.909Z"
   },
   {
    "duration": 161,
    "start_time": "2024-06-17T09:43:07.642Z"
   },
   {
    "duration": 4,
    "start_time": "2024-06-17T09:43:51.891Z"
   },
   {
    "duration": 169,
    "start_time": "2024-06-17T09:43:54.593Z"
   },
   {
    "duration": 4,
    "start_time": "2024-06-17T09:44:23.120Z"
   },
   {
    "duration": 160,
    "start_time": "2024-06-17T09:44:44.903Z"
   },
   {
    "duration": 1187,
    "start_time": "2024-06-17T09:45:19.406Z"
   },
   {
    "duration": 188,
    "start_time": "2024-06-17T09:45:20.595Z"
   },
   {
    "duration": 6,
    "start_time": "2024-06-17T09:45:20.784Z"
   },
   {
    "duration": 126,
    "start_time": "2024-06-17T09:45:20.791Z"
   },
   {
    "duration": 7,
    "start_time": "2024-06-17T09:45:20.920Z"
   },
   {
    "duration": 90,
    "start_time": "2024-06-17T09:45:20.929Z"
   },
   {
    "duration": 310,
    "start_time": "2024-06-17T09:45:21.020Z"
   },
   {
    "duration": 170,
    "start_time": "2024-06-17T09:45:21.332Z"
   },
   {
    "duration": 53,
    "start_time": "2024-06-17T09:45:21.504Z"
   },
   {
    "duration": 14,
    "start_time": "2024-06-17T09:45:21.558Z"
   },
   {
    "duration": 26,
    "start_time": "2024-06-17T09:45:21.574Z"
   },
   {
    "duration": 19,
    "start_time": "2024-06-17T09:45:21.602Z"
   },
   {
    "duration": 37,
    "start_time": "2024-06-17T09:45:21.623Z"
   },
   {
    "duration": 86,
    "start_time": "2024-06-17T09:45:21.663Z"
   },
   {
    "duration": 365,
    "start_time": "2024-06-17T09:45:21.751Z"
   },
   {
    "duration": 32,
    "start_time": "2024-06-17T09:45:22.118Z"
   },
   {
    "duration": 63,
    "start_time": "2024-06-17T09:45:22.152Z"
   },
   {
    "duration": 46,
    "start_time": "2024-06-17T09:45:22.217Z"
   },
   {
    "duration": 35,
    "start_time": "2024-06-17T09:45:22.265Z"
   },
   {
    "duration": 25,
    "start_time": "2024-06-17T09:45:22.302Z"
   },
   {
    "duration": 88,
    "start_time": "2024-06-17T09:45:22.329Z"
   },
   {
    "duration": 105,
    "start_time": "2024-06-17T09:45:22.419Z"
   },
   {
    "duration": 21,
    "start_time": "2024-06-17T09:45:22.526Z"
   },
   {
    "duration": 16,
    "start_time": "2024-06-17T09:45:22.549Z"
   },
   {
    "duration": 37,
    "start_time": "2024-06-17T09:45:22.567Z"
   },
   {
    "duration": 13,
    "start_time": "2024-06-17T09:45:22.606Z"
   },
   {
    "duration": 4,
    "start_time": "2024-06-17T09:45:22.621Z"
   },
   {
    "duration": 21,
    "start_time": "2024-06-17T09:45:22.626Z"
   },
   {
    "duration": 6,
    "start_time": "2024-06-17T09:45:22.648Z"
   },
   {
    "duration": 7,
    "start_time": "2024-06-17T09:45:22.655Z"
   },
   {
    "duration": 10,
    "start_time": "2024-06-17T09:45:22.663Z"
   },
   {
    "duration": 46,
    "start_time": "2024-06-17T09:45:22.674Z"
   },
   {
    "duration": 32,
    "start_time": "2024-06-17T09:45:22.722Z"
   },
   {
    "duration": 4,
    "start_time": "2024-06-17T09:45:22.756Z"
   },
   {
    "duration": 124,
    "start_time": "2024-06-17T09:45:22.761Z"
   },
   {
    "duration": 3,
    "start_time": "2024-06-17T09:45:22.887Z"
   },
   {
    "duration": 14,
    "start_time": "2024-06-17T09:45:22.891Z"
   },
   {
    "duration": 22,
    "start_time": "2024-06-17T09:45:22.906Z"
   },
   {
    "duration": 16,
    "start_time": "2024-06-17T09:45:22.929Z"
   },
   {
    "duration": 21,
    "start_time": "2024-06-17T09:45:22.946Z"
   },
   {
    "duration": 23,
    "start_time": "2024-06-17T09:45:23.000Z"
   },
   {
    "duration": 8,
    "start_time": "2024-06-17T09:45:23.024Z"
   },
   {
    "duration": 18,
    "start_time": "2024-06-17T09:45:23.033Z"
   },
   {
    "duration": 4,
    "start_time": "2024-06-17T09:48:46.183Z"
   },
   {
    "duration": 1185,
    "start_time": "2024-06-17T09:49:13.066Z"
   },
   {
    "duration": 185,
    "start_time": "2024-06-17T09:49:14.253Z"
   },
   {
    "duration": 6,
    "start_time": "2024-06-17T09:49:14.439Z"
   },
   {
    "duration": 130,
    "start_time": "2024-06-17T09:49:14.447Z"
   },
   {
    "duration": 4,
    "start_time": "2024-06-17T09:49:14.578Z"
   },
   {
    "duration": 17,
    "start_time": "2024-06-17T09:49:14.584Z"
   },
   {
    "duration": 74,
    "start_time": "2024-06-17T09:49:14.603Z"
   },
   {
    "duration": 322,
    "start_time": "2024-06-17T09:49:14.679Z"
   },
   {
    "duration": 171,
    "start_time": "2024-06-17T09:49:15.002Z"
   },
   {
    "duration": 63,
    "start_time": "2024-06-17T09:49:15.176Z"
   },
   {
    "duration": 14,
    "start_time": "2024-06-17T09:49:15.241Z"
   },
   {
    "duration": 8,
    "start_time": "2024-06-17T09:49:15.257Z"
   },
   {
    "duration": 34,
    "start_time": "2024-06-17T09:49:15.267Z"
   },
   {
    "duration": 43,
    "start_time": "2024-06-17T09:49:15.303Z"
   },
   {
    "duration": 62,
    "start_time": "2024-06-17T09:49:15.347Z"
   },
   {
    "duration": 375,
    "start_time": "2024-06-17T09:49:15.411Z"
   },
   {
    "duration": 38,
    "start_time": "2024-06-17T09:49:15.787Z"
   },
   {
    "duration": 53,
    "start_time": "2024-06-17T09:49:15.827Z"
   },
   {
    "duration": 73,
    "start_time": "2024-06-17T09:49:15.881Z"
   },
   {
    "duration": 25,
    "start_time": "2024-06-17T09:49:15.955Z"
   },
   {
    "duration": 26,
    "start_time": "2024-06-17T09:49:15.999Z"
   },
   {
    "duration": 86,
    "start_time": "2024-06-17T09:49:16.027Z"
   },
   {
    "duration": 94,
    "start_time": "2024-06-17T09:49:16.115Z"
   },
   {
    "duration": 23,
    "start_time": "2024-06-17T09:49:16.212Z"
   },
   {
    "duration": 15,
    "start_time": "2024-06-17T09:49:16.237Z"
   },
   {
    "duration": 18,
    "start_time": "2024-06-17T09:49:16.254Z"
   },
   {
    "duration": 39,
    "start_time": "2024-06-17T09:49:16.273Z"
   },
   {
    "duration": 4,
    "start_time": "2024-06-17T09:49:16.315Z"
   },
   {
    "duration": 14,
    "start_time": "2024-06-17T09:49:16.320Z"
   },
   {
    "duration": 14,
    "start_time": "2024-06-17T09:49:16.336Z"
   },
   {
    "duration": 5,
    "start_time": "2024-06-17T09:49:16.352Z"
   },
   {
    "duration": 10,
    "start_time": "2024-06-17T09:49:16.358Z"
   },
   {
    "duration": 42,
    "start_time": "2024-06-17T09:49:16.370Z"
   },
   {
    "duration": 36,
    "start_time": "2024-06-17T09:49:16.413Z"
   },
   {
    "duration": 5,
    "start_time": "2024-06-17T09:49:16.451Z"
   },
   {
    "duration": 138,
    "start_time": "2024-06-17T09:49:16.458Z"
   },
   {
    "duration": 3,
    "start_time": "2024-06-17T09:49:16.599Z"
   },
   {
    "duration": 8,
    "start_time": "2024-06-17T09:49:16.603Z"
   },
   {
    "duration": 20,
    "start_time": "2024-06-17T09:49:16.613Z"
   },
   {
    "duration": 24,
    "start_time": "2024-06-17T09:49:16.635Z"
   },
   {
    "duration": 43,
    "start_time": "2024-06-17T09:49:16.661Z"
   },
   {
    "duration": 26,
    "start_time": "2024-06-17T09:49:16.706Z"
   },
   {
    "duration": 7,
    "start_time": "2024-06-17T09:49:16.733Z"
   },
   {
    "duration": 17,
    "start_time": "2024-06-17T09:49:16.742Z"
   },
   {
    "duration": 90,
    "start_time": "2024-06-17T09:50:22.338Z"
   },
   {
    "duration": 201,
    "start_time": "2024-06-17T09:50:44.921Z"
   },
   {
    "duration": 95,
    "start_time": "2024-06-17T09:50:48.717Z"
   },
   {
    "duration": 97,
    "start_time": "2024-06-17T09:50:59.470Z"
   },
   {
    "duration": 93,
    "start_time": "2024-06-17T09:51:17.582Z"
   },
   {
    "duration": 94,
    "start_time": "2024-06-17T09:51:24.243Z"
   },
   {
    "duration": 92,
    "start_time": "2024-06-17T09:51:35.559Z"
   },
   {
    "duration": 93,
    "start_time": "2024-06-17T09:51:57.262Z"
   },
   {
    "duration": 1145,
    "start_time": "2024-06-17T09:52:07.044Z"
   },
   {
    "duration": 182,
    "start_time": "2024-06-17T09:52:08.191Z"
   },
   {
    "duration": 5,
    "start_time": "2024-06-17T09:52:08.375Z"
   },
   {
    "duration": 117,
    "start_time": "2024-06-17T09:52:08.382Z"
   },
   {
    "duration": 64,
    "start_time": "2024-06-17T09:52:08.501Z"
   },
   {
    "duration": 81,
    "start_time": "2024-06-17T09:52:08.566Z"
   },
   {
    "duration": 8,
    "start_time": "2024-06-17T09:52:08.649Z"
   },
   {
    "duration": 93,
    "start_time": "2024-06-17T09:52:08.658Z"
   },
   {
    "duration": 315,
    "start_time": "2024-06-17T09:52:08.752Z"
   },
   {
    "duration": 173,
    "start_time": "2024-06-17T09:52:09.068Z"
   },
   {
    "duration": 64,
    "start_time": "2024-06-17T09:52:09.243Z"
   },
   {
    "duration": 14,
    "start_time": "2024-06-17T09:52:09.308Z"
   },
   {
    "duration": 11,
    "start_time": "2024-06-17T09:52:09.324Z"
   },
   {
    "duration": 19,
    "start_time": "2024-06-17T09:52:09.338Z"
   },
   {
    "duration": 52,
    "start_time": "2024-06-17T09:52:09.359Z"
   },
   {
    "duration": 57,
    "start_time": "2024-06-17T09:52:09.413Z"
   },
   {
    "duration": 376,
    "start_time": "2024-06-17T09:52:09.473Z"
   },
   {
    "duration": 35,
    "start_time": "2024-06-17T09:52:09.851Z"
   },
   {
    "duration": 50,
    "start_time": "2024-06-17T09:52:09.899Z"
   },
   {
    "duration": 64,
    "start_time": "2024-06-17T09:52:09.951Z"
   },
   {
    "duration": 22,
    "start_time": "2024-06-17T09:52:10.017Z"
   },
   {
    "duration": 36,
    "start_time": "2024-06-17T09:52:10.040Z"
   },
   {
    "duration": 79,
    "start_time": "2024-06-17T09:52:10.078Z"
   },
   {
    "duration": 97,
    "start_time": "2024-06-17T09:52:10.159Z"
   },
   {
    "duration": 23,
    "start_time": "2024-06-17T09:52:10.257Z"
   },
   {
    "duration": 28,
    "start_time": "2024-06-17T09:52:10.282Z"
   },
   {
    "duration": 18,
    "start_time": "2024-06-17T09:52:10.312Z"
   },
   {
    "duration": 14,
    "start_time": "2024-06-17T09:52:10.332Z"
   },
   {
    "duration": 3,
    "start_time": "2024-06-17T09:52:10.348Z"
   },
   {
    "duration": 4,
    "start_time": "2024-06-17T09:52:10.352Z"
   },
   {
    "duration": 5,
    "start_time": "2024-06-17T09:52:10.358Z"
   },
   {
    "duration": 40,
    "start_time": "2024-06-17T09:52:10.364Z"
   },
   {
    "duration": 9,
    "start_time": "2024-06-17T09:52:10.406Z"
   },
   {
    "duration": 22,
    "start_time": "2024-06-17T09:52:10.417Z"
   },
   {
    "duration": 61,
    "start_time": "2024-06-17T09:52:10.441Z"
   },
   {
    "duration": 3,
    "start_time": "2024-06-17T09:52:10.504Z"
   },
   {
    "duration": 123,
    "start_time": "2024-06-17T09:52:10.509Z"
   },
   {
    "duration": 2,
    "start_time": "2024-06-17T09:52:10.634Z"
   },
   {
    "duration": 6,
    "start_time": "2024-06-17T09:52:10.638Z"
   },
   {
    "duration": 21,
    "start_time": "2024-06-17T09:52:10.646Z"
   },
   {
    "duration": 39,
    "start_time": "2024-06-17T09:52:10.670Z"
   },
   {
    "duration": 16,
    "start_time": "2024-06-17T09:52:10.711Z"
   },
   {
    "duration": 23,
    "start_time": "2024-06-17T09:52:10.729Z"
   },
   {
    "duration": 8,
    "start_time": "2024-06-17T09:52:10.753Z"
   },
   {
    "duration": 50,
    "start_time": "2024-06-17T09:52:10.763Z"
   },
   {
    "duration": 88,
    "start_time": "2024-06-17T09:53:20.267Z"
   },
   {
    "duration": 1166,
    "start_time": "2024-06-17T09:54:30.618Z"
   },
   {
    "duration": 185,
    "start_time": "2024-06-17T09:54:31.786Z"
   },
   {
    "duration": 5,
    "start_time": "2024-06-17T09:54:31.973Z"
   },
   {
    "duration": 132,
    "start_time": "2024-06-17T09:54:31.980Z"
   },
   {
    "duration": 65,
    "start_time": "2024-06-17T09:54:32.114Z"
   },
   {
    "duration": 75,
    "start_time": "2024-06-17T09:54:32.180Z"
   },
   {
    "duration": 7,
    "start_time": "2024-06-17T09:54:32.256Z"
   },
   {
    "duration": 89,
    "start_time": "2024-06-17T09:54:32.265Z"
   },
   {
    "duration": 308,
    "start_time": "2024-06-17T09:54:32.355Z"
   },
   {
    "duration": 165,
    "start_time": "2024-06-17T09:54:32.665Z"
   },
   {
    "duration": 52,
    "start_time": "2024-06-17T09:54:32.831Z"
   },
   {
    "duration": 23,
    "start_time": "2024-06-17T09:54:32.885Z"
   },
   {
    "duration": 12,
    "start_time": "2024-06-17T09:54:32.909Z"
   },
   {
    "duration": 17,
    "start_time": "2024-06-17T09:54:32.924Z"
   },
   {
    "duration": 59,
    "start_time": "2024-06-17T09:54:32.943Z"
   },
   {
    "duration": 56,
    "start_time": "2024-06-17T09:54:33.003Z"
   },
   {
    "duration": 387,
    "start_time": "2024-06-17T09:54:33.060Z"
   },
   {
    "duration": 33,
    "start_time": "2024-06-17T09:54:33.449Z"
   },
   {
    "duration": 58,
    "start_time": "2024-06-17T09:54:33.484Z"
   },
   {
    "duration": 63,
    "start_time": "2024-06-17T09:54:33.544Z"
   },
   {
    "duration": 20,
    "start_time": "2024-06-17T09:54:33.609Z"
   },
   {
    "duration": 25,
    "start_time": "2024-06-17T09:54:33.630Z"
   },
   {
    "duration": 89,
    "start_time": "2024-06-17T09:54:33.657Z"
   },
   {
    "duration": 89,
    "start_time": "2024-06-17T09:54:33.748Z"
   },
   {
    "duration": 21,
    "start_time": "2024-06-17T09:54:33.838Z"
   },
   {
    "duration": 15,
    "start_time": "2024-06-17T09:54:33.860Z"
   },
   {
    "duration": 32,
    "start_time": "2024-06-17T09:54:33.876Z"
   },
   {
    "duration": 15,
    "start_time": "2024-06-17T09:54:33.909Z"
   },
   {
    "duration": 4,
    "start_time": "2024-06-17T09:54:33.926Z"
   },
   {
    "duration": 8,
    "start_time": "2024-06-17T09:54:33.932Z"
   },
   {
    "duration": 6,
    "start_time": "2024-06-17T09:54:33.942Z"
   },
   {
    "duration": 16,
    "start_time": "2024-06-17T09:54:33.950Z"
   },
   {
    "duration": 35,
    "start_time": "2024-06-17T09:54:33.968Z"
   },
   {
    "duration": 22,
    "start_time": "2024-06-17T09:54:34.004Z"
   },
   {
    "duration": 32,
    "start_time": "2024-06-17T09:54:34.027Z"
   },
   {
    "duration": 5,
    "start_time": "2024-06-17T09:54:34.060Z"
   },
   {
    "duration": 133,
    "start_time": "2024-06-17T09:54:34.067Z"
   },
   {
    "duration": 3,
    "start_time": "2024-06-17T09:54:34.202Z"
   },
   {
    "duration": 7,
    "start_time": "2024-06-17T09:54:34.206Z"
   },
   {
    "duration": 24,
    "start_time": "2024-06-17T09:54:34.215Z"
   },
   {
    "duration": 18,
    "start_time": "2024-06-17T09:54:34.243Z"
   },
   {
    "duration": 49,
    "start_time": "2024-06-17T09:54:34.263Z"
   },
   {
    "duration": 24,
    "start_time": "2024-06-17T09:54:34.313Z"
   },
   {
    "duration": 9,
    "start_time": "2024-06-17T09:54:34.338Z"
   },
   {
    "duration": 52,
    "start_time": "2024-06-17T09:54:34.348Z"
   },
   {
    "duration": 35,
    "start_time": "2024-06-17T09:58:21.482Z"
   },
   {
    "duration": 63,
    "start_time": "2024-06-17T10:22:52.133Z"
   },
   {
    "duration": 1210,
    "start_time": "2024-06-17T10:23:17.691Z"
   },
   {
    "duration": 244,
    "start_time": "2024-06-17T10:23:18.904Z"
   },
   {
    "duration": 5,
    "start_time": "2024-06-17T10:23:19.150Z"
   },
   {
    "duration": 196,
    "start_time": "2024-06-17T10:23:19.157Z"
   },
   {
    "duration": 69,
    "start_time": "2024-06-17T10:23:19.354Z"
   },
   {
    "duration": 8,
    "start_time": "2024-06-17T10:23:19.425Z"
   },
   {
    "duration": 93,
    "start_time": "2024-06-17T10:23:19.434Z"
   },
   {
    "duration": 316,
    "start_time": "2024-06-17T10:23:19.528Z"
   },
   {
    "duration": 179,
    "start_time": "2024-06-17T10:23:19.846Z"
   },
   {
    "duration": 60,
    "start_time": "2024-06-17T10:23:20.027Z"
   },
   {
    "duration": 35,
    "start_time": "2024-06-17T10:23:20.099Z"
   },
   {
    "duration": 14,
    "start_time": "2024-06-17T10:23:20.136Z"
   },
   {
    "duration": 16,
    "start_time": "2024-06-17T10:23:20.151Z"
   },
   {
    "duration": 33,
    "start_time": "2024-06-17T10:23:20.168Z"
   },
   {
    "duration": 38,
    "start_time": "2024-06-17T10:23:20.203Z"
   },
   {
    "duration": 77,
    "start_time": "2024-06-17T10:23:20.243Z"
   },
   {
    "duration": 366,
    "start_time": "2024-06-17T10:23:20.322Z"
   },
   {
    "duration": 40,
    "start_time": "2024-06-17T10:23:20.690Z"
   },
   {
    "duration": 62,
    "start_time": "2024-06-17T10:23:20.731Z"
   },
   {
    "duration": 0,
    "start_time": "2024-06-17T10:23:20.796Z"
   },
   {
    "duration": 0,
    "start_time": "2024-06-17T10:23:20.797Z"
   },
   {
    "duration": 0,
    "start_time": "2024-06-17T10:23:20.798Z"
   },
   {
    "duration": 0,
    "start_time": "2024-06-17T10:23:20.799Z"
   },
   {
    "duration": 0,
    "start_time": "2024-06-17T10:23:20.800Z"
   },
   {
    "duration": 0,
    "start_time": "2024-06-17T10:23:20.801Z"
   },
   {
    "duration": 0,
    "start_time": "2024-06-17T10:23:20.802Z"
   },
   {
    "duration": 0,
    "start_time": "2024-06-17T10:23:20.803Z"
   },
   {
    "duration": 0,
    "start_time": "2024-06-17T10:23:20.804Z"
   },
   {
    "duration": 0,
    "start_time": "2024-06-17T10:23:20.805Z"
   },
   {
    "duration": 0,
    "start_time": "2024-06-17T10:23:20.806Z"
   },
   {
    "duration": 0,
    "start_time": "2024-06-17T10:23:20.807Z"
   },
   {
    "duration": 0,
    "start_time": "2024-06-17T10:23:20.808Z"
   },
   {
    "duration": 0,
    "start_time": "2024-06-17T10:23:20.809Z"
   },
   {
    "duration": 0,
    "start_time": "2024-06-17T10:23:20.810Z"
   },
   {
    "duration": 0,
    "start_time": "2024-06-17T10:23:20.811Z"
   },
   {
    "duration": 0,
    "start_time": "2024-06-17T10:23:20.812Z"
   },
   {
    "duration": 0,
    "start_time": "2024-06-17T10:23:20.813Z"
   },
   {
    "duration": 0,
    "start_time": "2024-06-17T10:23:20.814Z"
   },
   {
    "duration": 0,
    "start_time": "2024-06-17T10:23:20.816Z"
   },
   {
    "duration": 0,
    "start_time": "2024-06-17T10:23:20.817Z"
   },
   {
    "duration": 0,
    "start_time": "2024-06-17T10:23:20.818Z"
   },
   {
    "duration": 0,
    "start_time": "2024-06-17T10:23:20.820Z"
   },
   {
    "duration": 0,
    "start_time": "2024-06-17T10:23:20.821Z"
   },
   {
    "duration": 0,
    "start_time": "2024-06-17T10:23:20.822Z"
   },
   {
    "duration": 0,
    "start_time": "2024-06-17T10:23:20.824Z"
   },
   {
    "duration": 84,
    "start_time": "2024-06-17T10:23:49.073Z"
   },
   {
    "duration": 74,
    "start_time": "2024-06-17T10:24:37.761Z"
   },
   {
    "duration": 75,
    "start_time": "2024-06-17T10:24:58.250Z"
   },
   {
    "duration": 55,
    "start_time": "2024-06-17T10:26:46.819Z"
   },
   {
    "duration": 101,
    "start_time": "2024-06-17T10:33:20.910Z"
   },
   {
    "duration": 1118,
    "start_time": "2024-06-17T10:33:47.756Z"
   },
   {
    "duration": 197,
    "start_time": "2024-06-17T10:33:48.876Z"
   },
   {
    "duration": 5,
    "start_time": "2024-06-17T10:33:49.075Z"
   },
   {
    "duration": 137,
    "start_time": "2024-06-17T10:33:49.083Z"
   },
   {
    "duration": 65,
    "start_time": "2024-06-17T10:33:49.221Z"
   },
   {
    "duration": 17,
    "start_time": "2024-06-17T10:33:49.287Z"
   },
   {
    "duration": 88,
    "start_time": "2024-06-17T10:33:49.306Z"
   },
   {
    "duration": 327,
    "start_time": "2024-06-17T10:33:49.398Z"
   },
   {
    "duration": 172,
    "start_time": "2024-06-17T10:33:49.727Z"
   },
   {
    "duration": 53,
    "start_time": "2024-06-17T10:33:49.903Z"
   },
   {
    "duration": 52,
    "start_time": "2024-06-17T10:33:49.958Z"
   },
   {
    "duration": 15,
    "start_time": "2024-06-17T10:33:50.012Z"
   },
   {
    "duration": 15,
    "start_time": "2024-06-17T10:33:50.028Z"
   },
   {
    "duration": 33,
    "start_time": "2024-06-17T10:33:50.044Z"
   },
   {
    "duration": 40,
    "start_time": "2024-06-17T10:33:50.079Z"
   },
   {
    "duration": 59,
    "start_time": "2024-06-17T10:33:50.122Z"
   },
   {
    "duration": 369,
    "start_time": "2024-06-17T10:33:50.200Z"
   },
   {
    "duration": 49,
    "start_time": "2024-06-17T10:33:50.571Z"
   },
   {
    "duration": 89,
    "start_time": "2024-06-17T10:33:50.622Z"
   },
   {
    "duration": 45,
    "start_time": "2024-06-17T10:33:50.713Z"
   },
   {
    "duration": 20,
    "start_time": "2024-06-17T10:33:50.759Z"
   },
   {
    "duration": 43,
    "start_time": "2024-06-17T10:33:50.780Z"
   },
   {
    "duration": 88,
    "start_time": "2024-06-17T10:33:50.825Z"
   },
   {
    "duration": 92,
    "start_time": "2024-06-17T10:33:50.915Z"
   },
   {
    "duration": 22,
    "start_time": "2024-06-17T10:33:51.009Z"
   },
   {
    "duration": 18,
    "start_time": "2024-06-17T10:33:51.033Z"
   },
   {
    "duration": 47,
    "start_time": "2024-06-17T10:33:51.053Z"
   },
   {
    "duration": 14,
    "start_time": "2024-06-17T10:33:51.105Z"
   },
   {
    "duration": 4,
    "start_time": "2024-06-17T10:33:51.121Z"
   },
   {
    "duration": 4,
    "start_time": "2024-06-17T10:33:51.127Z"
   },
   {
    "duration": 6,
    "start_time": "2024-06-17T10:33:51.132Z"
   },
   {
    "duration": 9,
    "start_time": "2024-06-17T10:33:51.139Z"
   },
   {
    "duration": 14,
    "start_time": "2024-06-17T10:33:51.149Z"
   },
   {
    "duration": 53,
    "start_time": "2024-06-17T10:33:51.164Z"
   },
   {
    "duration": 35,
    "start_time": "2024-06-17T10:33:51.218Z"
   },
   {
    "duration": 4,
    "start_time": "2024-06-17T10:33:51.255Z"
   },
   {
    "duration": 147,
    "start_time": "2024-06-17T10:33:51.260Z"
   },
   {
    "duration": 2,
    "start_time": "2024-06-17T10:33:51.409Z"
   },
   {
    "duration": 6,
    "start_time": "2024-06-17T10:33:51.413Z"
   },
   {
    "duration": 20,
    "start_time": "2024-06-17T10:33:51.421Z"
   },
   {
    "duration": 17,
    "start_time": "2024-06-17T10:33:51.443Z"
   },
   {
    "duration": 49,
    "start_time": "2024-06-17T10:33:51.461Z"
   },
   {
    "duration": 39,
    "start_time": "2024-06-17T10:33:51.512Z"
   },
   {
    "duration": 9,
    "start_time": "2024-06-17T10:33:51.552Z"
   },
   {
    "duration": 16,
    "start_time": "2024-06-17T10:33:51.562Z"
   },
   {
    "duration": 69,
    "start_time": "2024-06-17T10:36:43.539Z"
   },
   {
    "duration": 11,
    "start_time": "2024-06-17T10:38:07.118Z"
   },
   {
    "duration": 238,
    "start_time": "2024-06-17T10:38:48.168Z"
   },
   {
    "duration": 232,
    "start_time": "2024-06-17T10:40:27.074Z"
   },
   {
    "duration": 258,
    "start_time": "2024-06-17T10:42:09.056Z"
   },
   {
    "duration": 55,
    "start_time": "2024-06-17T10:45:41.846Z"
   },
   {
    "duration": 56,
    "start_time": "2024-06-17T10:46:12.609Z"
   },
   {
    "duration": 56,
    "start_time": "2024-06-17T10:48:28.508Z"
   },
   {
    "duration": 72,
    "start_time": "2024-06-17T11:03:22.417Z"
   },
   {
    "duration": 53,
    "start_time": "2024-06-17T11:27:31.414Z"
   },
   {
    "duration": 20,
    "start_time": "2024-06-17T11:59:04.150Z"
   },
   {
    "duration": 22,
    "start_time": "2024-06-17T11:59:16.410Z"
   },
   {
    "duration": 260,
    "start_time": "2024-06-17T11:59:55.764Z"
   },
   {
    "duration": 156,
    "start_time": "2024-06-17T12:01:16.630Z"
   },
   {
    "duration": 144,
    "start_time": "2024-06-17T12:03:29.446Z"
   },
   {
    "duration": 150,
    "start_time": "2024-06-17T12:03:42.445Z"
   },
   {
    "duration": 211,
    "start_time": "2024-06-17T12:04:33.182Z"
   },
   {
    "duration": 1564,
    "start_time": "2024-06-17T12:04:40.712Z"
   },
   {
    "duration": 2649,
    "start_time": "2024-06-17T12:05:15.480Z"
   },
   {
    "duration": 2797,
    "start_time": "2024-06-17T12:05:52.692Z"
   },
   {
    "duration": 2785,
    "start_time": "2024-06-17T12:06:36.632Z"
   },
   {
    "duration": 7213,
    "start_time": "2024-06-17T12:07:02.450Z"
   },
   {
    "duration": 11451,
    "start_time": "2024-06-17T12:08:21.779Z"
   },
   {
    "duration": 8017,
    "start_time": "2024-06-17T12:09:05.261Z"
   },
   {
    "duration": 22,
    "start_time": "2024-06-17T12:11:13.087Z"
   },
   {
    "duration": 7763,
    "start_time": "2024-06-17T12:11:16.355Z"
   },
   {
    "duration": 7718,
    "start_time": "2024-06-17T12:13:25.088Z"
   },
   {
    "duration": 1025,
    "start_time": "2024-06-17T12:17:30.848Z"
   },
   {
    "duration": 171,
    "start_time": "2024-06-17T12:17:31.875Z"
   },
   {
    "duration": 5,
    "start_time": "2024-06-17T12:17:32.048Z"
   },
   {
    "duration": 106,
    "start_time": "2024-06-17T12:17:32.054Z"
   },
   {
    "duration": 70,
    "start_time": "2024-06-17T12:17:32.162Z"
   },
   {
    "duration": 7,
    "start_time": "2024-06-17T12:17:32.233Z"
   },
   {
    "duration": 81,
    "start_time": "2024-06-17T12:17:32.241Z"
   },
   {
    "duration": 282,
    "start_time": "2024-06-17T12:17:32.323Z"
   },
   {
    "duration": 147,
    "start_time": "2024-06-17T12:17:32.606Z"
   },
   {
    "duration": 53,
    "start_time": "2024-06-17T12:17:32.754Z"
   },
   {
    "duration": 12,
    "start_time": "2024-06-17T12:17:32.808Z"
   },
   {
    "duration": 8,
    "start_time": "2024-06-17T12:17:32.822Z"
   },
   {
    "duration": 32,
    "start_time": "2024-06-17T12:17:32.831Z"
   },
   {
    "duration": 22,
    "start_time": "2024-06-17T12:17:32.866Z"
   },
   {
    "duration": 6208,
    "start_time": "2024-06-17T12:17:32.890Z"
   },
   {
    "duration": 31,
    "start_time": "2024-06-17T12:17:39.099Z"
   },
   {
    "duration": 70,
    "start_time": "2024-06-17T12:17:39.132Z"
   },
   {
    "duration": 731,
    "start_time": "2024-06-17T12:17:39.203Z"
   },
   {
    "duration": 28,
    "start_time": "2024-06-17T12:17:39.935Z"
   },
   {
    "duration": 79,
    "start_time": "2024-06-17T12:17:39.965Z"
   },
   {
    "duration": 41,
    "start_time": "2024-06-17T12:17:40.046Z"
   },
   {
    "duration": 27,
    "start_time": "2024-06-17T12:17:40.088Z"
   },
   {
    "duration": 23,
    "start_time": "2024-06-17T12:17:40.116Z"
   },
   {
    "duration": 81,
    "start_time": "2024-06-17T12:17:40.141Z"
   },
   {
    "duration": 79,
    "start_time": "2024-06-17T12:17:40.223Z"
   },
   {
    "duration": 19,
    "start_time": "2024-06-17T12:17:40.303Z"
   },
   {
    "duration": 18,
    "start_time": "2024-06-17T12:17:40.323Z"
   },
   {
    "duration": 14,
    "start_time": "2024-06-17T12:17:40.343Z"
   },
   {
    "duration": 41,
    "start_time": "2024-06-17T12:17:40.359Z"
   },
   {
    "duration": 3,
    "start_time": "2024-06-17T12:17:40.401Z"
   },
   {
    "duration": 5,
    "start_time": "2024-06-17T12:17:40.406Z"
   },
   {
    "duration": 12,
    "start_time": "2024-06-17T12:17:40.412Z"
   },
   {
    "duration": 5,
    "start_time": "2024-06-17T12:17:40.425Z"
   },
   {
    "duration": 9,
    "start_time": "2024-06-17T12:17:40.431Z"
   },
   {
    "duration": 232,
    "start_time": "2024-06-17T12:17:40.441Z"
   },
   {
    "duration": 7,
    "start_time": "2024-06-17T12:17:40.675Z"
   },
   {
    "duration": 34,
    "start_time": "2024-06-17T12:17:40.683Z"
   },
   {
    "duration": 31,
    "start_time": "2024-06-17T12:17:40.719Z"
   },
   {
    "duration": 3,
    "start_time": "2024-06-17T12:17:40.752Z"
   },
   {
    "duration": 113,
    "start_time": "2024-06-17T12:17:40.756Z"
   },
   {
    "duration": 2,
    "start_time": "2024-06-17T12:17:40.873Z"
   },
   {
    "duration": 7,
    "start_time": "2024-06-17T12:17:40.876Z"
   },
   {
    "duration": 26,
    "start_time": "2024-06-17T12:17:40.884Z"
   },
   {
    "duration": 15,
    "start_time": "2024-06-17T12:17:40.911Z"
   },
   {
    "duration": 13,
    "start_time": "2024-06-17T12:17:40.927Z"
   },
   {
    "duration": 27,
    "start_time": "2024-06-17T12:17:40.941Z"
   },
   {
    "duration": 34,
    "start_time": "2024-06-17T12:17:40.970Z"
   },
   {
    "duration": 15,
    "start_time": "2024-06-17T12:17:41.006Z"
   },
   {
    "duration": 63,
    "start_time": "2024-06-17T12:18:57.808Z"
   },
   {
    "duration": 3,
    "start_time": "2024-06-17T20:53:23.391Z"
   },
   {
    "duration": 176,
    "start_time": "2024-06-17T20:53:23.396Z"
   },
   {
    "duration": 4,
    "start_time": "2024-06-17T20:53:23.573Z"
   },
   {
    "duration": 94,
    "start_time": "2024-06-17T20:53:23.578Z"
   },
   {
    "duration": 58,
    "start_time": "2024-06-17T20:53:23.674Z"
   },
   {
    "duration": 5,
    "start_time": "2024-06-17T20:53:23.734Z"
   },
   {
    "duration": 68,
    "start_time": "2024-06-17T20:53:23.740Z"
   },
   {
    "duration": 314,
    "start_time": "2024-06-17T20:53:23.810Z"
   },
   {
    "duration": 173,
    "start_time": "2024-06-17T20:53:24.125Z"
   },
   {
    "duration": 50,
    "start_time": "2024-06-17T20:53:24.300Z"
   },
   {
    "duration": 15,
    "start_time": "2024-06-17T20:53:24.352Z"
   },
   {
    "duration": 28,
    "start_time": "2024-06-17T20:53:24.369Z"
   },
   {
    "duration": 19,
    "start_time": "2024-06-17T20:53:24.399Z"
   },
   {
    "duration": 20,
    "start_time": "2024-06-17T20:53:24.420Z"
   },
   {
    "duration": 7027,
    "start_time": "2024-06-17T20:53:24.442Z"
   },
   {
    "duration": 43,
    "start_time": "2024-06-17T20:53:31.471Z"
   },
   {
    "duration": 179,
    "start_time": "2024-06-17T20:53:31.516Z"
   },
   {
    "duration": 832,
    "start_time": "2024-06-17T20:53:31.697Z"
   },
   {
    "duration": 32,
    "start_time": "2024-06-17T20:53:32.531Z"
   },
   {
    "duration": 84,
    "start_time": "2024-06-17T20:53:32.565Z"
   },
   {
    "duration": 52,
    "start_time": "2024-06-17T20:53:32.651Z"
   },
   {
    "duration": 18,
    "start_time": "2024-06-17T20:53:32.705Z"
   },
   {
    "duration": 22,
    "start_time": "2024-06-17T20:53:32.724Z"
   },
   {
    "duration": 81,
    "start_time": "2024-06-17T20:53:32.748Z"
   },
   {
    "duration": 77,
    "start_time": "2024-06-17T20:53:32.830Z"
   },
   {
    "duration": 22,
    "start_time": "2024-06-17T20:53:32.909Z"
   },
   {
    "duration": 16,
    "start_time": "2024-06-17T20:53:32.933Z"
   },
   {
    "duration": 14,
    "start_time": "2024-06-17T20:53:32.951Z"
   },
   {
    "duration": 14,
    "start_time": "2024-06-17T20:53:32.991Z"
   },
   {
    "duration": 4,
    "start_time": "2024-06-17T20:53:33.006Z"
   },
   {
    "duration": 5,
    "start_time": "2024-06-17T20:53:33.011Z"
   },
   {
    "duration": 4,
    "start_time": "2024-06-17T20:53:33.017Z"
   },
   {
    "duration": 6,
    "start_time": "2024-06-17T20:53:33.022Z"
   },
   {
    "duration": 8,
    "start_time": "2024-06-17T20:53:33.033Z"
   },
   {
    "duration": 291,
    "start_time": "2024-06-17T20:53:33.043Z"
   },
   {
    "duration": 9,
    "start_time": "2024-06-17T20:53:33.336Z"
   },
   {
    "duration": 39,
    "start_time": "2024-06-17T20:53:33.346Z"
   },
   {
    "duration": 36,
    "start_time": "2024-06-17T20:53:33.387Z"
   },
   {
    "duration": 4,
    "start_time": "2024-06-17T20:53:33.425Z"
   },
   {
    "duration": 120,
    "start_time": "2024-06-17T20:53:33.430Z"
   },
   {
    "duration": 3,
    "start_time": "2024-06-17T20:53:33.552Z"
   },
   {
    "duration": 7,
    "start_time": "2024-06-17T20:53:33.557Z"
   },
   {
    "duration": 41,
    "start_time": "2024-06-17T20:53:33.566Z"
   },
   {
    "duration": 18,
    "start_time": "2024-06-17T20:53:33.609Z"
   },
   {
    "duration": 16,
    "start_time": "2024-06-17T20:53:33.629Z"
   },
   {
    "duration": 57,
    "start_time": "2024-06-17T20:53:33.646Z"
   },
   {
    "duration": 11,
    "start_time": "2024-06-17T20:53:33.705Z"
   },
   {
    "duration": 17,
    "start_time": "2024-06-17T20:53:33.718Z"
   }
  ],
  "kernelspec": {
   "display_name": "Python 3 (ipykernel)",
   "language": "python",
   "name": "python3"
  },
  "language_info": {
   "codemirror_mode": {
    "name": "ipython",
    "version": 3
   },
   "file_extension": ".py",
   "mimetype": "text/x-python",
   "name": "python",
   "nbconvert_exporter": "python",
   "pygments_lexer": "ipython3",
   "version": "3.11.5"
  },
  "toc": {
   "base_numbering": 1,
   "nav_menu": {},
   "number_sections": true,
   "sideBar": true,
   "skip_h1_title": true,
   "title_cell": "Table of Contents",
   "title_sidebar": "Contents",
   "toc_cell": false,
   "toc_position": {},
   "toc_section_display": true,
   "toc_window_display": false
  }
 },
 "nbformat": 4,
 "nbformat_minor": 4
}
